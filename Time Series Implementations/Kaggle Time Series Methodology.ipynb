{
 "cells": [
  {
   "cell_type": "code",
   "execution_count": null,
   "id": "f903b108",
   "metadata": {},
   "outputs": [],
   "source": [
    "!pip install matplotlib\n",
    "!pip install statsmodels"
   ]
  },
  {
   "cell_type": "code",
   "execution_count": null,
   "id": "90a9fe2a",
   "metadata": {},
   "outputs": [],
   "source": [
    "from pathlib import Path\n",
    "from statsmodels.tsa.stattools import adfuller\n",
    "from statsmodels.tsa.stattools import kpss\n",
    "from dateutil.parser import parse \n",
    "from matplotlib.pyplot import cm\n",
    "from scipy import signal\n",
    "from sklearn.linear_model import LinearRegression\n",
    "from statsmodels.api import OLS\n",
    "from pandas.plotting import autocorrelation_plot\n",
    "from statsmodels.tsa.stattools import acf, pacf\n",
    "from statsmodels.graphics.tsaplots import plot_acf, plot_pacf\n",
    "from sklearn.metrics import mean_absolute_error, mean_squared_error\n",
    "\n",
    "import math\n",
    "import plotly.express as px\n",
    "import matplotlib.pyplot as plt\n",
    "import statsmodels.api as sm\n",
    "import seaborn as sns\n",
    "import numpy as np\n",
    "import pandas as pd\n",
    "import plotly.graph_objects as go\n",
    "\n",
    "import os\n",
    "import warnings \n",
    "import datetime\n",
    "\n",
    "\n",
    "import warnings\n",
    "warnings.filterwarnings('ignore')"
   ]
  },
  {
   "cell_type": "code",
   "execution_count": null,
   "id": "39db247d",
   "metadata": {},
   "outputs": [],
   "source": [
    "csvs = Path(\"/home/dmacs/Documents/Pranav_Phanindra/Data_Scraping_Final/Data_Part_2/Collated/CSVs\")\n",
    "\n",
    "DataFiles = os.listdir(csvs)\n",
    "\n",
    "DataFiles\n",
    "\n",
    "CropData = pd.read_csv(csvs / '12_Mustard.csv' , parse_dates = ['Price Date'])\n",
    "CropData = CropData.iloc[:,1:]\n",
    "\n",
    "CropData['Price Date'] =  pd.to_datetime(CropData['Price Date'] )\n",
    "CropData['Yr-mon'] = CropData['Price Date'].dt.strftime('%Y%m')\n",
    "\n",
    "\n",
    "CropData.set_index('Price Date')"
   ]
  },
  {
   "cell_type": "code",
   "execution_count": null,
   "id": "f03e5094",
   "metadata": {},
   "outputs": [],
   "source": [
    "Maindata = \n",
    "Maindata"
   ]
  },
  {
   "cell_type": "code",
   "execution_count": null,
   "id": "06db5b7d",
   "metadata": {},
   "outputs": [],
   "source": []
  }
 ],
 "metadata": {
  "kernelspec": {
   "display_name": "Python 3 (ipykernel)",
   "language": "python",
   "name": "python3"
  },
  "language_info": {
   "codemirror_mode": {
    "name": "ipython",
    "version": 3
   },
   "file_extension": ".py",
   "mimetype": "text/x-python",
   "name": "python",
   "nbconvert_exporter": "python",
   "pygments_lexer": "ipython3",
   "version": "3.9.12"
  }
 },
 "nbformat": 4,
 "nbformat_minor": 5
}
