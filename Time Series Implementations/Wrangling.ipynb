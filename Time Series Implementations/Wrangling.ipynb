{
 "cells": [
  {
   "cell_type": "code",
   "execution_count": 1,
   "id": "9be22e10",
   "metadata": {},
   "outputs": [
    {
     "name": "stdout",
     "output_type": "stream",
     "text": [
      "Requirement already satisfied: matplotlib in /home/dmacs/anaconda3/lib/python3.9/site-packages (3.5.1)\n",
      "Requirement already satisfied: numpy>=1.17 in /home/dmacs/anaconda3/lib/python3.9/site-packages (from matplotlib) (1.21.5)\n",
      "Requirement already satisfied: pyparsing>=2.2.1 in /home/dmacs/anaconda3/lib/python3.9/site-packages (from matplotlib) (3.0.4)\n",
      "Requirement already satisfied: python-dateutil>=2.7 in /home/dmacs/anaconda3/lib/python3.9/site-packages (from matplotlib) (2.8.2)\n",
      "Requirement already satisfied: kiwisolver>=1.0.1 in /home/dmacs/anaconda3/lib/python3.9/site-packages (from matplotlib) (1.3.2)\n",
      "Requirement already satisfied: cycler>=0.10 in /home/dmacs/anaconda3/lib/python3.9/site-packages (from matplotlib) (0.11.0)\n",
      "Requirement already satisfied: fonttools>=4.22.0 in /home/dmacs/anaconda3/lib/python3.9/site-packages (from matplotlib) (4.25.0)\n",
      "Requirement already satisfied: packaging>=20.0 in /home/dmacs/anaconda3/lib/python3.9/site-packages (from matplotlib) (21.3)\n",
      "Requirement already satisfied: pillow>=6.2.0 in /home/dmacs/anaconda3/lib/python3.9/site-packages (from matplotlib) (9.0.1)\n",
      "Requirement already satisfied: six>=1.5 in /home/dmacs/anaconda3/lib/python3.9/site-packages (from python-dateutil>=2.7->matplotlib) (1.16.0)\n",
      "Requirement already satisfied: statsmodels in /home/dmacs/anaconda3/lib/python3.9/site-packages (0.13.2)\n",
      "Requirement already satisfied: pandas>=0.25 in /home/dmacs/anaconda3/lib/python3.9/site-packages (from statsmodels) (1.4.2)\n",
      "Requirement already satisfied: packaging>=21.3 in /home/dmacs/anaconda3/lib/python3.9/site-packages (from statsmodels) (21.3)\n",
      "Requirement already satisfied: patsy>=0.5.2 in /home/dmacs/anaconda3/lib/python3.9/site-packages (from statsmodels) (0.5.2)\n",
      "Requirement already satisfied: scipy>=1.3 in /home/dmacs/anaconda3/lib/python3.9/site-packages (from statsmodels) (1.7.3)\n",
      "Requirement already satisfied: numpy>=1.17 in /home/dmacs/anaconda3/lib/python3.9/site-packages (from statsmodels) (1.21.5)\n",
      "Requirement already satisfied: pyparsing!=3.0.5,>=2.0.2 in /home/dmacs/anaconda3/lib/python3.9/site-packages (from packaging>=21.3->statsmodels) (3.0.4)\n",
      "Requirement already satisfied: python-dateutil>=2.8.1 in /home/dmacs/anaconda3/lib/python3.9/site-packages (from pandas>=0.25->statsmodels) (2.8.2)\n",
      "Requirement already satisfied: pytz>=2020.1 in /home/dmacs/anaconda3/lib/python3.9/site-packages (from pandas>=0.25->statsmodels) (2021.3)\n",
      "Requirement already satisfied: six in /home/dmacs/anaconda3/lib/python3.9/site-packages (from patsy>=0.5.2->statsmodels) (1.16.0)\n"
     ]
    }
   ],
   "source": [
    "!pip install matplotlib\n",
    "!pip install statsmodels"
   ]
  },
  {
   "cell_type": "code",
   "execution_count": 2,
   "id": "76ed71a8",
   "metadata": {},
   "outputs": [],
   "source": [
    "from pathlib import Path\n",
    "\n",
    "from dateutil.parser import parse \n",
    "from matplotlib.pyplot import cm\n",
    "from plotly.subplots import make_subplots\n",
    "from scipy import signal\n",
    "from pandas.api.indexers import BaseIndexer\n",
    "from pandas.plotting import autocorrelation_plot\n",
    "from statsmodels.tsa.stattools import acf, pacf\n",
    "from statsmodels.graphics.tsaplots import plot_acf, plot_pacf\n",
    "from statsmodels.tsa.stattools import adfuller\n",
    "from statsmodels.tsa.stattools import kpss\n",
    "from statsmodels.api import OLS\n",
    "from sklearn.impute import SimpleImputer\n",
    "from sklearn.linear_model import LinearRegression\n",
    "\n",
    "import plotly.express as px\n",
    "import matplotlib.pyplot as plt\n",
    "import statsmodels.api as sm\n",
    "import seaborn as sns\n",
    "import numpy as np\n",
    "import pandas as pd\n",
    "import plotly.graph_objects as go\n",
    "\n",
    "import os\n",
    "import warnings \n",
    "import datetime\n",
    "\n",
    "\n",
    "import warnings\n",
    "warnings.filterwarnings('ignore')"
   ]
  },
  {
   "cell_type": "code",
   "execution_count": 3,
   "id": "add9d6bb",
   "metadata": {},
   "outputs": [
    {
     "data": {
      "text/html": [
       "<div>\n",
       "<style scoped>\n",
       "    .dataframe tbody tr th:only-of-type {\n",
       "        vertical-align: middle;\n",
       "    }\n",
       "\n",
       "    .dataframe tbody tr th {\n",
       "        vertical-align: top;\n",
       "    }\n",
       "\n",
       "    .dataframe thead th {\n",
       "        text-align: right;\n",
       "    }\n",
       "</style>\n",
       "<table border=\"1\" class=\"dataframe\">\n",
       "  <thead>\n",
       "    <tr style=\"text-align: right;\">\n",
       "      <th></th>\n",
       "      <th>District Name</th>\n",
       "      <th>Market Name</th>\n",
       "      <th>Commodity</th>\n",
       "      <th>Variety</th>\n",
       "      <th>Grade</th>\n",
       "      <th>Min Price (Rs./Quintal)</th>\n",
       "      <th>Max Price (Rs./Quintal)</th>\n",
       "      <th>Modal Price (Rs./Quintal)</th>\n",
       "      <th>State</th>\n",
       "      <th>Yr-mon</th>\n",
       "      <th>Year</th>\n",
       "      <th>Month</th>\n",
       "    </tr>\n",
       "    <tr>\n",
       "      <th>Price Date</th>\n",
       "      <th></th>\n",
       "      <th></th>\n",
       "      <th></th>\n",
       "      <th></th>\n",
       "      <th></th>\n",
       "      <th></th>\n",
       "      <th></th>\n",
       "      <th></th>\n",
       "      <th></th>\n",
       "      <th></th>\n",
       "      <th></th>\n",
       "      <th></th>\n",
       "    </tr>\n",
       "  </thead>\n",
       "  <tbody>\n",
       "    <tr>\n",
       "      <th>2009-02-20</th>\n",
       "      <td>Kurnool</td>\n",
       "      <td>Adoni</td>\n",
       "      <td>Mustard</td>\n",
       "      <td>Other</td>\n",
       "      <td>FAQ</td>\n",
       "      <td>1550.0</td>\n",
       "      <td>1600.0</td>\n",
       "      <td>1575.0</td>\n",
       "      <td>Andhra Pradesh</td>\n",
       "      <td>2009-02-01</td>\n",
       "      <td>2009</td>\n",
       "      <td>2</td>\n",
       "    </tr>\n",
       "    <tr>\n",
       "      <th>2013-05-03</th>\n",
       "      <td>Kurnool</td>\n",
       "      <td>Alur</td>\n",
       "      <td>Mustard</td>\n",
       "      <td>Other</td>\n",
       "      <td>Medium</td>\n",
       "      <td>2918.0</td>\n",
       "      <td>2918.0</td>\n",
       "      <td>2918.0</td>\n",
       "      <td>Andhra Pradesh</td>\n",
       "      <td>2013-05-01</td>\n",
       "      <td>2013</td>\n",
       "      <td>5</td>\n",
       "    </tr>\n",
       "    <tr>\n",
       "      <th>2013-03-25</th>\n",
       "      <td>Kurnool</td>\n",
       "      <td>Alur</td>\n",
       "      <td>Mustard</td>\n",
       "      <td>Mustard</td>\n",
       "      <td>Medium</td>\n",
       "      <td>3018.0</td>\n",
       "      <td>3018.0</td>\n",
       "      <td>3018.0</td>\n",
       "      <td>Andhra Pradesh</td>\n",
       "      <td>2013-03-01</td>\n",
       "      <td>2013</td>\n",
       "      <td>3</td>\n",
       "    </tr>\n",
       "    <tr>\n",
       "      <th>2013-03-25</th>\n",
       "      <td>Kurnool</td>\n",
       "      <td>Alur</td>\n",
       "      <td>Mustard</td>\n",
       "      <td>Other</td>\n",
       "      <td>Medium</td>\n",
       "      <td>3018.0</td>\n",
       "      <td>3018.0</td>\n",
       "      <td>3018.0</td>\n",
       "      <td>Andhra Pradesh</td>\n",
       "      <td>2013-03-01</td>\n",
       "      <td>2013</td>\n",
       "      <td>3</td>\n",
       "    </tr>\n",
       "    <tr>\n",
       "      <th>2012-04-22</th>\n",
       "      <td>Kurnool</td>\n",
       "      <td>Alur</td>\n",
       "      <td>Mustard</td>\n",
       "      <td>Mustard</td>\n",
       "      <td>Medium</td>\n",
       "      <td>2598.0</td>\n",
       "      <td>2598.0</td>\n",
       "      <td>2598.0</td>\n",
       "      <td>Andhra Pradesh</td>\n",
       "      <td>2012-04-01</td>\n",
       "      <td>2012</td>\n",
       "      <td>4</td>\n",
       "    </tr>\n",
       "    <tr>\n",
       "      <th>...</th>\n",
       "      <td>...</td>\n",
       "      <td>...</td>\n",
       "      <td>...</td>\n",
       "      <td>...</td>\n",
       "      <td>...</td>\n",
       "      <td>...</td>\n",
       "      <td>...</td>\n",
       "      <td>...</td>\n",
       "      <td>...</td>\n",
       "      <td>...</td>\n",
       "      <td>...</td>\n",
       "      <td>...</td>\n",
       "    </tr>\n",
       "    <tr>\n",
       "      <th>2016-06-05</th>\n",
       "      <td>Coochbehar</td>\n",
       "      <td>Toofanganj</td>\n",
       "      <td>Mustard</td>\n",
       "      <td>Mustard</td>\n",
       "      <td>FAQ</td>\n",
       "      <td>4300.0</td>\n",
       "      <td>4500.0</td>\n",
       "      <td>4400.0</td>\n",
       "      <td>West Bengal</td>\n",
       "      <td>2016-06-01</td>\n",
       "      <td>2016</td>\n",
       "      <td>6</td>\n",
       "    </tr>\n",
       "    <tr>\n",
       "      <th>2016-06-04</th>\n",
       "      <td>Coochbehar</td>\n",
       "      <td>Toofanganj</td>\n",
       "      <td>Mustard</td>\n",
       "      <td>Mustard</td>\n",
       "      <td>FAQ</td>\n",
       "      <td>4300.0</td>\n",
       "      <td>4500.0</td>\n",
       "      <td>4400.0</td>\n",
       "      <td>West Bengal</td>\n",
       "      <td>2016-06-01</td>\n",
       "      <td>2016</td>\n",
       "      <td>6</td>\n",
       "    </tr>\n",
       "    <tr>\n",
       "      <th>2016-06-03</th>\n",
       "      <td>Coochbehar</td>\n",
       "      <td>Toofanganj</td>\n",
       "      <td>Mustard</td>\n",
       "      <td>Mustard</td>\n",
       "      <td>FAQ</td>\n",
       "      <td>4300.0</td>\n",
       "      <td>4500.0</td>\n",
       "      <td>4400.0</td>\n",
       "      <td>West Bengal</td>\n",
       "      <td>2016-06-01</td>\n",
       "      <td>2016</td>\n",
       "      <td>6</td>\n",
       "    </tr>\n",
       "    <tr>\n",
       "      <th>2016-06-02</th>\n",
       "      <td>Coochbehar</td>\n",
       "      <td>Toofanganj</td>\n",
       "      <td>Mustard</td>\n",
       "      <td>Mustard</td>\n",
       "      <td>FAQ</td>\n",
       "      <td>4300.0</td>\n",
       "      <td>4500.0</td>\n",
       "      <td>4400.0</td>\n",
       "      <td>West Bengal</td>\n",
       "      <td>2016-06-01</td>\n",
       "      <td>2016</td>\n",
       "      <td>6</td>\n",
       "    </tr>\n",
       "    <tr>\n",
       "      <th>2016-06-01</th>\n",
       "      <td>Coochbehar</td>\n",
       "      <td>Toofanganj</td>\n",
       "      <td>Mustard</td>\n",
       "      <td>Mustard</td>\n",
       "      <td>FAQ</td>\n",
       "      <td>4300.0</td>\n",
       "      <td>4500.0</td>\n",
       "      <td>4400.0</td>\n",
       "      <td>West Bengal</td>\n",
       "      <td>2016-06-01</td>\n",
       "      <td>2016</td>\n",
       "      <td>6</td>\n",
       "    </tr>\n",
       "  </tbody>\n",
       "</table>\n",
       "<p>1014648 rows × 12 columns</p>\n",
       "</div>"
      ],
      "text/plain": [
       "           District Name  Market Name Commodity   Variety    Grade  \\\n",
       "Price Date                                                           \n",
       "2009-02-20      Kurnool        Adoni   Mustard     Other      FAQ    \n",
       "2013-05-03      Kurnool         Alur   Mustard     Other   Medium    \n",
       "2013-03-25      Kurnool         Alur   Mustard   Mustard   Medium    \n",
       "2013-03-25      Kurnool         Alur   Mustard     Other   Medium    \n",
       "2012-04-22      Kurnool         Alur   Mustard   Mustard   Medium    \n",
       "...                  ...          ...       ...       ...      ...   \n",
       "2016-06-05   Coochbehar   Toofanganj   Mustard   Mustard      FAQ    \n",
       "2016-06-04   Coochbehar   Toofanganj   Mustard   Mustard      FAQ    \n",
       "2016-06-03   Coochbehar   Toofanganj   Mustard   Mustard      FAQ    \n",
       "2016-06-02   Coochbehar   Toofanganj   Mustard   Mustard      FAQ    \n",
       "2016-06-01   Coochbehar   Toofanganj   Mustard   Mustard      FAQ    \n",
       "\n",
       "            Min Price (Rs./Quintal)  Max Price (Rs./Quintal)  \\\n",
       "Price Date                                                     \n",
       "2009-02-20                   1550.0                   1600.0   \n",
       "2013-05-03                   2918.0                   2918.0   \n",
       "2013-03-25                   3018.0                   3018.0   \n",
       "2013-03-25                   3018.0                   3018.0   \n",
       "2012-04-22                   2598.0                   2598.0   \n",
       "...                             ...                      ...   \n",
       "2016-06-05                   4300.0                   4500.0   \n",
       "2016-06-04                   4300.0                   4500.0   \n",
       "2016-06-03                   4300.0                   4500.0   \n",
       "2016-06-02                   4300.0                   4500.0   \n",
       "2016-06-01                   4300.0                   4500.0   \n",
       "\n",
       "            Modal Price (Rs./Quintal)           State     Yr-mon  Year  Month  \n",
       "Price Date                                                                     \n",
       "2009-02-20                     1575.0  Andhra Pradesh 2009-02-01  2009      2  \n",
       "2013-05-03                     2918.0  Andhra Pradesh 2013-05-01  2013      5  \n",
       "2013-03-25                     3018.0  Andhra Pradesh 2013-03-01  2013      3  \n",
       "2013-03-25                     3018.0  Andhra Pradesh 2013-03-01  2013      3  \n",
       "2012-04-22                     2598.0  Andhra Pradesh 2012-04-01  2012      4  \n",
       "...                               ...             ...        ...   ...    ...  \n",
       "2016-06-05                     4400.0     West Bengal 2016-06-01  2016      6  \n",
       "2016-06-04                     4400.0     West Bengal 2016-06-01  2016      6  \n",
       "2016-06-03                     4400.0     West Bengal 2016-06-01  2016      6  \n",
       "2016-06-02                     4400.0     West Bengal 2016-06-01  2016      6  \n",
       "2016-06-01                     4400.0     West Bengal 2016-06-01  2016      6  \n",
       "\n",
       "[1014648 rows x 12 columns]"
      ]
     },
     "execution_count": 3,
     "metadata": {},
     "output_type": "execute_result"
    }
   ],
   "source": [
    "csvs = Path(\"/home/dmacs/Documents/Pranav_Phanindra/Data_Scraping_Final/Data_Part_2/Collated/CSVs\")\n",
    "\n",
    "#Directory containing all the files\n",
    "DataFiles = os.listdir(csvs)\n",
    "\n",
    "CropData = pd.read_csv(csvs / '12_Mustard.csv' , parse_dates = ['Price Date'])\n",
    "CropData = CropData.iloc[:,1:]\n",
    "\n",
    "CropData['Price Date'] =  pd.to_datetime(CropData['Price Date'])\n",
    "\n",
    "CropData['Yr-mon'] = CropData['Price Date'].dt.strftime('%Y%m')\n",
    "CropData['Yr-mon'] = pd.to_datetime(CropData['Yr-mon'], format = '%Y%m')\n",
    "\n",
    "CropData['Year'] = CropData.set_index('Yr-mon').index.year\n",
    "CropData['Month'] = CropData.set_index('Yr-mon').index.month\n",
    "\n",
    "CropData.set_index('Price Date')"
   ]
  },
  {
   "cell_type": "code",
   "execution_count": 6,
   "id": "35eaf6c5",
   "metadata": {},
   "outputs": [
    {
     "name": "stdout",
     "output_type": "stream",
     "text": [
      "[2008 2009 2010 2011 2012 2013 2014 2015 2016 2017 2018 2019 2020 2021\n",
      " 2022]\n",
      "[ 4  5  6  7  8  9 10 11 12  1  2  3]\n"
     ]
    }
   ],
   "source": [
    "CropData_Summarized = CropData.groupby(['Yr-mon'],as_index = False).mean()\n",
    "\n",
    "CropData_Summarized['Year'] = CropData_Summarized.set_index('Yr-mon').index.year\n",
    "CropData_Summarized['Month'] = CropData_Summarized.set_index('Yr-mon').index.month\n",
    "\"\"\"\n",
    "import datetime\n",
    "mydate = datetime.datetime.now()\n",
    "mydate.strftime(\"%B\")\n",
    "\n",
    "CropData_Summarized['Month_name'] =  CropData_Summarized.set_index('Yr-mon').index.strftime('%B')\n",
    "\"\"\"\n",
    "\n",
    "\n",
    "years = CropData_Summarized['Year'].unique()\n",
    "\n",
    "\n",
    "month = CropData_Summarized['Month'].unique()\n",
    "\n",
    "print(years)\n",
    "print(month)\n"
   ]
  },
  {
   "cell_type": "code",
   "execution_count": 7,
   "id": "9d7ff5b9",
   "metadata": {},
   "outputs": [
    {
     "data": {
      "text/html": [
       "<div>\n",
       "<style scoped>\n",
       "    .dataframe tbody tr th:only-of-type {\n",
       "        vertical-align: middle;\n",
       "    }\n",
       "\n",
       "    .dataframe tbody tr th {\n",
       "        vertical-align: top;\n",
       "    }\n",
       "\n",
       "    .dataframe thead th {\n",
       "        text-align: right;\n",
       "    }\n",
       "</style>\n",
       "<table border=\"1\" class=\"dataframe\">\n",
       "  <thead>\n",
       "    <tr style=\"text-align: right;\">\n",
       "      <th></th>\n",
       "      <th>Yr-mon</th>\n",
       "      <th>Min Price (Rs./Quintal)</th>\n",
       "      <th>Max Price (Rs./Quintal)</th>\n",
       "      <th>Modal Price (Rs./Quintal)</th>\n",
       "      <th>Year</th>\n",
       "      <th>Month</th>\n",
       "    </tr>\n",
       "  </thead>\n",
       "  <tbody>\n",
       "    <tr>\n",
       "      <th>0</th>\n",
       "      <td>2008-04-01</td>\n",
       "      <td>1972.009636</td>\n",
       "      <td>2205.367174</td>\n",
       "      <td>2245.057074</td>\n",
       "      <td>2008</td>\n",
       "      <td>4</td>\n",
       "    </tr>\n",
       "    <tr>\n",
       "      <th>1</th>\n",
       "      <td>2008-05-01</td>\n",
       "      <td>2064.281171</td>\n",
       "      <td>2281.468051</td>\n",
       "      <td>2334.040883</td>\n",
       "      <td>2008</td>\n",
       "      <td>5</td>\n",
       "    </tr>\n",
       "    <tr>\n",
       "      <th>2</th>\n",
       "      <td>2008-06-01</td>\n",
       "      <td>2275.346497</td>\n",
       "      <td>2465.060944</td>\n",
       "      <td>2572.880386</td>\n",
       "      <td>2008</td>\n",
       "      <td>6</td>\n",
       "    </tr>\n",
       "    <tr>\n",
       "      <th>3</th>\n",
       "      <td>2008-07-01</td>\n",
       "      <td>2256.718133</td>\n",
       "      <td>2478.504936</td>\n",
       "      <td>2598.776824</td>\n",
       "      <td>2008</td>\n",
       "      <td>7</td>\n",
       "    </tr>\n",
       "    <tr>\n",
       "      <th>4</th>\n",
       "      <td>2008-08-01</td>\n",
       "      <td>2326.431642</td>\n",
       "      <td>2486.026648</td>\n",
       "      <td>2595.234415</td>\n",
       "      <td>2008</td>\n",
       "      <td>8</td>\n",
       "    </tr>\n",
       "    <tr>\n",
       "      <th>...</th>\n",
       "      <td>...</td>\n",
       "      <td>...</td>\n",
       "      <td>...</td>\n",
       "      <td>...</td>\n",
       "      <td>...</td>\n",
       "      <td>...</td>\n",
       "    </tr>\n",
       "    <tr>\n",
       "      <th>163</th>\n",
       "      <td>2021-11-01</td>\n",
       "      <td>7147.131780</td>\n",
       "      <td>7425.545886</td>\n",
       "      <td>7324.340586</td>\n",
       "      <td>2021</td>\n",
       "      <td>11</td>\n",
       "    </tr>\n",
       "    <tr>\n",
       "      <th>164</th>\n",
       "      <td>2021-12-01</td>\n",
       "      <td>6895.516610</td>\n",
       "      <td>7190.095399</td>\n",
       "      <td>7096.493960</td>\n",
       "      <td>2021</td>\n",
       "      <td>12</td>\n",
       "    </tr>\n",
       "    <tr>\n",
       "      <th>165</th>\n",
       "      <td>2022-01-01</td>\n",
       "      <td>6612.206225</td>\n",
       "      <td>6959.096469</td>\n",
       "      <td>6847.179651</td>\n",
       "      <td>2022</td>\n",
       "      <td>1</td>\n",
       "    </tr>\n",
       "    <tr>\n",
       "      <th>166</th>\n",
       "      <td>2022-02-01</td>\n",
       "      <td>6275.087460</td>\n",
       "      <td>6867.760500</td>\n",
       "      <td>6640.370247</td>\n",
       "      <td>2022</td>\n",
       "      <td>2</td>\n",
       "    </tr>\n",
       "    <tr>\n",
       "      <th>167</th>\n",
       "      <td>2022-03-01</td>\n",
       "      <td>6079.680151</td>\n",
       "      <td>6590.310789</td>\n",
       "      <td>6384.374227</td>\n",
       "      <td>2022</td>\n",
       "      <td>3</td>\n",
       "    </tr>\n",
       "  </tbody>\n",
       "</table>\n",
       "<p>168 rows × 6 columns</p>\n",
       "</div>"
      ],
      "text/plain": [
       "        Yr-mon  Min Price (Rs./Quintal)  Max Price (Rs./Quintal)  \\\n",
       "0   2008-04-01              1972.009636              2205.367174   \n",
       "1   2008-05-01              2064.281171              2281.468051   \n",
       "2   2008-06-01              2275.346497              2465.060944   \n",
       "3   2008-07-01              2256.718133              2478.504936   \n",
       "4   2008-08-01              2326.431642              2486.026648   \n",
       "..         ...                      ...                      ...   \n",
       "163 2021-11-01              7147.131780              7425.545886   \n",
       "164 2021-12-01              6895.516610              7190.095399   \n",
       "165 2022-01-01              6612.206225              6959.096469   \n",
       "166 2022-02-01              6275.087460              6867.760500   \n",
       "167 2022-03-01              6079.680151              6590.310789   \n",
       "\n",
       "     Modal Price (Rs./Quintal)  Year  Month  \n",
       "0                  2245.057074  2008      4  \n",
       "1                  2334.040883  2008      5  \n",
       "2                  2572.880386  2008      6  \n",
       "3                  2598.776824  2008      7  \n",
       "4                  2595.234415  2008      8  \n",
       "..                         ...   ...    ...  \n",
       "163                7324.340586  2021     11  \n",
       "164                7096.493960  2021     12  \n",
       "165                6847.179651  2022      1  \n",
       "166                6640.370247  2022      2  \n",
       "167                6384.374227  2022      3  \n",
       "\n",
       "[168 rows x 6 columns]"
      ]
     },
     "execution_count": 7,
     "metadata": {},
     "output_type": "execute_result"
    }
   ],
   "source": [
    "CropData_Summarized"
   ]
  },
  {
   "cell_type": "code",
   "execution_count": 8,
   "id": "3c58a4a9",
   "metadata": {},
   "outputs": [],
   "source": [
    "CropData_Summarized['SMA(12)'] = CropData_Summarized.rolling(12,center = True).mean()['Modal Price (Rs./Quintal)']\n",
    "CropData_Summarized['Price-SMA(12)'] = CropData_Summarized['Modal Price (Rs./Quintal)']-CropData_Summarized[CropData_Summarized['SMA(12)'].notnull()]['SMA(12)']\n",
    "\n"
   ]
  },
  {
   "cell_type": "code",
   "execution_count": 10,
   "id": "83c7a119",
   "metadata": {},
   "outputs": [
    {
     "data": {
      "text/html": [
       "<div>\n",
       "<style scoped>\n",
       "    .dataframe tbody tr th:only-of-type {\n",
       "        vertical-align: middle;\n",
       "    }\n",
       "\n",
       "    .dataframe tbody tr th {\n",
       "        vertical-align: top;\n",
       "    }\n",
       "\n",
       "    .dataframe thead th {\n",
       "        text-align: right;\n",
       "    }\n",
       "</style>\n",
       "<table border=\"1\" class=\"dataframe\">\n",
       "  <thead>\n",
       "    <tr style=\"text-align: right;\">\n",
       "      <th></th>\n",
       "      <th>Yr-mon</th>\n",
       "      <th>Min Price (Rs./Quintal)</th>\n",
       "      <th>Max Price (Rs./Quintal)</th>\n",
       "      <th>Modal Price (Rs./Quintal)</th>\n",
       "      <th>Year</th>\n",
       "      <th>Month</th>\n",
       "      <th>SMA(12)</th>\n",
       "      <th>Price-SMA(12)</th>\n",
       "    </tr>\n",
       "  </thead>\n",
       "  <tbody>\n",
       "    <tr>\n",
       "      <th>6</th>\n",
       "      <td>2008-10-01</td>\n",
       "      <td>2199.782344</td>\n",
       "      <td>2370.968582</td>\n",
       "      <td>2564.292059</td>\n",
       "      <td>2008</td>\n",
       "      <td>10</td>\n",
       "      <td>2426.091588</td>\n",
       "      <td>138.200471</td>\n",
       "    </tr>\n",
       "    <tr>\n",
       "      <th>7</th>\n",
       "      <td>2008-11-01</td>\n",
       "      <td>2268.931493</td>\n",
       "      <td>2411.326838</td>\n",
       "      <td>2560.765303</td>\n",
       "      <td>2008</td>\n",
       "      <td>11</td>\n",
       "      <td>2418.680233</td>\n",
       "      <td>142.085071</td>\n",
       "    </tr>\n",
       "    <tr>\n",
       "      <th>8</th>\n",
       "      <td>2008-12-01</td>\n",
       "      <td>2240.490319</td>\n",
       "      <td>2419.771060</td>\n",
       "      <td>2576.867611</td>\n",
       "      <td>2008</td>\n",
       "      <td>12</td>\n",
       "      <td>2412.419330</td>\n",
       "      <td>164.448282</td>\n",
       "    </tr>\n",
       "    <tr>\n",
       "      <th>9</th>\n",
       "      <td>2009-01-01</td>\n",
       "      <td>1983.314762</td>\n",
       "      <td>2208.951741</td>\n",
       "      <td>2348.054467</td>\n",
       "      <td>2009</td>\n",
       "      <td>1</td>\n",
       "      <td>2387.354526</td>\n",
       "      <td>-39.300059</td>\n",
       "    </tr>\n",
       "    <tr>\n",
       "      <th>10</th>\n",
       "      <td>2009-02-01</td>\n",
       "      <td>1830.037688</td>\n",
       "      <td>2039.327834</td>\n",
       "      <td>2147.439906</td>\n",
       "      <td>2009</td>\n",
       "      <td>2</td>\n",
       "      <td>2360.518100</td>\n",
       "      <td>-213.078194</td>\n",
       "    </tr>\n",
       "    <tr>\n",
       "      <th>...</th>\n",
       "      <td>...</td>\n",
       "      <td>...</td>\n",
       "      <td>...</td>\n",
       "      <td>...</td>\n",
       "      <td>...</td>\n",
       "      <td>...</td>\n",
       "      <td>...</td>\n",
       "      <td>...</td>\n",
       "    </tr>\n",
       "    <tr>\n",
       "      <th>158</th>\n",
       "      <td>2021-06-01</td>\n",
       "      <td>5989.137463</td>\n",
       "      <td>6300.593042</td>\n",
       "      <td>6177.388681</td>\n",
       "      <td>2021</td>\n",
       "      <td>6</td>\n",
       "      <td>6111.001863</td>\n",
       "      <td>66.386818</td>\n",
       "    </tr>\n",
       "    <tr>\n",
       "      <th>159</th>\n",
       "      <td>2021-07-01</td>\n",
       "      <td>6166.852757</td>\n",
       "      <td>6452.764186</td>\n",
       "      <td>6344.841906</td>\n",
       "      <td>2021</td>\n",
       "      <td>7</td>\n",
       "      <td>6279.931161</td>\n",
       "      <td>64.910745</td>\n",
       "    </tr>\n",
       "    <tr>\n",
       "      <th>160</th>\n",
       "      <td>2021-08-01</td>\n",
       "      <td>6545.549413</td>\n",
       "      <td>6840.657049</td>\n",
       "      <td>6732.234623</td>\n",
       "      <td>2021</td>\n",
       "      <td>8</td>\n",
       "      <td>6417.337933</td>\n",
       "      <td>314.896690</td>\n",
       "    </tr>\n",
       "    <tr>\n",
       "      <th>161</th>\n",
       "      <td>2021-09-01</td>\n",
       "      <td>7039.999173</td>\n",
       "      <td>7348.164655</td>\n",
       "      <td>7235.832369</td>\n",
       "      <td>2021</td>\n",
       "      <td>9</td>\n",
       "      <td>6541.561708</td>\n",
       "      <td>694.270661</td>\n",
       "    </tr>\n",
       "    <tr>\n",
       "      <th>162</th>\n",
       "      <td>2021-10-01</td>\n",
       "      <td>7132.419096</td>\n",
       "      <td>7423.933856</td>\n",
       "      <td>7310.735332</td>\n",
       "      <td>2021</td>\n",
       "      <td>10</td>\n",
       "      <td>6657.801596</td>\n",
       "      <td>652.933736</td>\n",
       "    </tr>\n",
       "  </tbody>\n",
       "</table>\n",
       "<p>157 rows × 8 columns</p>\n",
       "</div>"
      ],
      "text/plain": [
       "        Yr-mon  Min Price (Rs./Quintal)  Max Price (Rs./Quintal)  \\\n",
       "6   2008-10-01              2199.782344              2370.968582   \n",
       "7   2008-11-01              2268.931493              2411.326838   \n",
       "8   2008-12-01              2240.490319              2419.771060   \n",
       "9   2009-01-01              1983.314762              2208.951741   \n",
       "10  2009-02-01              1830.037688              2039.327834   \n",
       "..         ...                      ...                      ...   \n",
       "158 2021-06-01              5989.137463              6300.593042   \n",
       "159 2021-07-01              6166.852757              6452.764186   \n",
       "160 2021-08-01              6545.549413              6840.657049   \n",
       "161 2021-09-01              7039.999173              7348.164655   \n",
       "162 2021-10-01              7132.419096              7423.933856   \n",
       "\n",
       "     Modal Price (Rs./Quintal)  Year  Month      SMA(12)  Price-SMA(12)  \n",
       "6                  2564.292059  2008     10  2426.091588     138.200471  \n",
       "7                  2560.765303  2008     11  2418.680233     142.085071  \n",
       "8                  2576.867611  2008     12  2412.419330     164.448282  \n",
       "9                  2348.054467  2009      1  2387.354526     -39.300059  \n",
       "10                 2147.439906  2009      2  2360.518100    -213.078194  \n",
       "..                         ...   ...    ...          ...            ...  \n",
       "158                6177.388681  2021      6  6111.001863      66.386818  \n",
       "159                6344.841906  2021      7  6279.931161      64.910745  \n",
       "160                6732.234623  2021      8  6417.337933     314.896690  \n",
       "161                7235.832369  2021      9  6541.561708     694.270661  \n",
       "162                7310.735332  2021     10  6657.801596     652.933736  \n",
       "\n",
       "[157 rows x 8 columns]"
      ]
     },
     "execution_count": 10,
     "metadata": {},
     "output_type": "execute_result"
    }
   ],
   "source": [
    "CropData_Summarized[CropData_Summarized['SMA(12)'].notnull()]"
   ]
  },
  {
   "cell_type": "code",
   "execution_count": 12,
   "id": "027fa0ef",
   "metadata": {},
   "outputs": [
    {
     "name": "stdout",
     "output_type": "stream",
     "text": [
      "Seasonal_Average    2.368476e-15\n",
      "dtype: float64\n",
      "       Seasonal_Average\n",
      "Month                  \n",
      "1             64.202891\n",
      "2           -115.131920\n",
      "3           -236.586464\n",
      "4           -161.948485\n",
      "5            -77.302355\n",
      "6            -59.444214\n",
      "7              3.559216\n",
      "8             84.079635\n",
      "9            108.665077\n",
      "10           120.855210\n",
      "11           133.058174\n",
      "12           135.993234\n"
     ]
    }
   ],
   "source": [
    "PrSmaMon = pd.DataFrame()\n",
    "PrSmaMon['Seasonal_Average'] = CropData_Summarized[CropData_Summarized['SMA(12)'].notnull()].groupby('Month').mean()['Price-SMA(12)']\n",
    "k = PrSmaMon.mean()\n",
    "\n",
    "PrSmaMon = PrSmaMon.subtract(k) \n",
    "\n",
    "\n",
    "print(PrSmaMon.mean())\n",
    "print(PrSmaMon)"
   ]
  },
  {
   "cell_type": "code",
   "execution_count": 18,
   "id": "d2324986",
   "metadata": {},
   "outputs": [
    {
     "data": {
      "text/plain": [
       "'0.00000000000000236847578586700048809359668842511576'"
      ]
     },
     "execution_count": 18,
     "metadata": {},
     "output_type": "execute_result"
    }
   ],
   "source": [
    "\"{:.50f}\".format(float(PrSmaMon.mean()))"
   ]
  },
  {
   "cell_type": "code",
   "execution_count": 19,
   "id": "c641402a",
   "metadata": {},
   "outputs": [
    {
     "data": {
      "text/html": [
       "<div>\n",
       "<style scoped>\n",
       "    .dataframe tbody tr th:only-of-type {\n",
       "        vertical-align: middle;\n",
       "    }\n",
       "\n",
       "    .dataframe tbody tr th {\n",
       "        vertical-align: top;\n",
       "    }\n",
       "\n",
       "    .dataframe thead th {\n",
       "        text-align: right;\n",
       "    }\n",
       "</style>\n",
       "<table border=\"1\" class=\"dataframe\">\n",
       "  <thead>\n",
       "    <tr style=\"text-align: right;\">\n",
       "      <th></th>\n",
       "      <th>Yr-mon</th>\n",
       "      <th>Min Price (Rs./Quintal)</th>\n",
       "      <th>Max Price (Rs./Quintal)</th>\n",
       "      <th>Modal Price (Rs./Quintal)</th>\n",
       "      <th>Year</th>\n",
       "      <th>Month</th>\n",
       "      <th>SMA(12)</th>\n",
       "      <th>Price-SMA(12)</th>\n",
       "      <th>Seasonal_Average</th>\n",
       "    </tr>\n",
       "  </thead>\n",
       "  <tbody>\n",
       "    <tr>\n",
       "      <th>0</th>\n",
       "      <td>2008-04-01</td>\n",
       "      <td>1972.009636</td>\n",
       "      <td>2205.367174</td>\n",
       "      <td>2245.057074</td>\n",
       "      <td>2008</td>\n",
       "      <td>4</td>\n",
       "      <td>NaN</td>\n",
       "      <td>NaN</td>\n",
       "      <td>-161.948485</td>\n",
       "    </tr>\n",
       "    <tr>\n",
       "      <th>1</th>\n",
       "      <td>2009-04-01</td>\n",
       "      <td>1834.209134</td>\n",
       "      <td>1974.845651</td>\n",
       "      <td>2156.120807</td>\n",
       "      <td>2009</td>\n",
       "      <td>4</td>\n",
       "      <td>2314.331982</td>\n",
       "      <td>-158.211175</td>\n",
       "      <td>-161.948485</td>\n",
       "    </tr>\n",
       "    <tr>\n",
       "      <th>2</th>\n",
       "      <td>2010-04-01</td>\n",
       "      <td>1708.761387</td>\n",
       "      <td>1830.935290</td>\n",
       "      <td>2084.289436</td>\n",
       "      <td>2010</td>\n",
       "      <td>4</td>\n",
       "      <td>2255.400420</td>\n",
       "      <td>-171.110984</td>\n",
       "      <td>-161.948485</td>\n",
       "    </tr>\n",
       "    <tr>\n",
       "      <th>3</th>\n",
       "      <td>2011-04-01</td>\n",
       "      <td>1813.669792</td>\n",
       "      <td>1950.141547</td>\n",
       "      <td>2242.217045</td>\n",
       "      <td>2011</td>\n",
       "      <td>4</td>\n",
       "      <td>2388.683903</td>\n",
       "      <td>-146.466858</td>\n",
       "      <td>-161.948485</td>\n",
       "    </tr>\n",
       "    <tr>\n",
       "      <th>4</th>\n",
       "      <td>2012-04-01</td>\n",
       "      <td>2855.985227</td>\n",
       "      <td>3077.535771</td>\n",
       "      <td>3317.324299</td>\n",
       "      <td>2012</td>\n",
       "      <td>4</td>\n",
       "      <td>3211.518395</td>\n",
       "      <td>105.805903</td>\n",
       "      <td>-161.948485</td>\n",
       "    </tr>\n",
       "    <tr>\n",
       "      <th>...</th>\n",
       "      <td>...</td>\n",
       "      <td>...</td>\n",
       "      <td>...</td>\n",
       "      <td>...</td>\n",
       "      <td>...</td>\n",
       "      <td>...</td>\n",
       "      <td>...</td>\n",
       "      <td>...</td>\n",
       "      <td>...</td>\n",
       "    </tr>\n",
       "    <tr>\n",
       "      <th>163</th>\n",
       "      <td>2018-03-01</td>\n",
       "      <td>3372.185184</td>\n",
       "      <td>3618.523506</td>\n",
       "      <td>3521.648014</td>\n",
       "      <td>2018</td>\n",
       "      <td>3</td>\n",
       "      <td>3575.116631</td>\n",
       "      <td>-53.468617</td>\n",
       "      <td>-236.586464</td>\n",
       "    </tr>\n",
       "    <tr>\n",
       "      <th>164</th>\n",
       "      <td>2019-03-01</td>\n",
       "      <td>3319.762289</td>\n",
       "      <td>3599.290994</td>\n",
       "      <td>3486.515963</td>\n",
       "      <td>2019</td>\n",
       "      <td>3</td>\n",
       "      <td>3689.722800</td>\n",
       "      <td>-203.206837</td>\n",
       "      <td>-236.586464</td>\n",
       "    </tr>\n",
       "    <tr>\n",
       "      <th>165</th>\n",
       "      <td>2020-03-01</td>\n",
       "      <td>3574.871048</td>\n",
       "      <td>3856.149467</td>\n",
       "      <td>3740.869816</td>\n",
       "      <td>2020</td>\n",
       "      <td>3</td>\n",
       "      <td>4008.327970</td>\n",
       "      <td>-267.458154</td>\n",
       "      <td>-236.586464</td>\n",
       "    </tr>\n",
       "    <tr>\n",
       "      <th>166</th>\n",
       "      <td>2021-03-01</td>\n",
       "      <td>4787.342463</td>\n",
       "      <td>5131.809942</td>\n",
       "      <td>4989.495575</td>\n",
       "      <td>2021</td>\n",
       "      <td>3</td>\n",
       "      <td>5511.642811</td>\n",
       "      <td>-522.147236</td>\n",
       "      <td>-236.586464</td>\n",
       "    </tr>\n",
       "    <tr>\n",
       "      <th>167</th>\n",
       "      <td>2022-03-01</td>\n",
       "      <td>6079.680151</td>\n",
       "      <td>6590.310789</td>\n",
       "      <td>6384.374227</td>\n",
       "      <td>2022</td>\n",
       "      <td>3</td>\n",
       "      <td>NaN</td>\n",
       "      <td>NaN</td>\n",
       "      <td>-236.586464</td>\n",
       "    </tr>\n",
       "  </tbody>\n",
       "</table>\n",
       "<p>168 rows × 9 columns</p>\n",
       "</div>"
      ],
      "text/plain": [
       "        Yr-mon  Min Price (Rs./Quintal)  Max Price (Rs./Quintal)  \\\n",
       "0   2008-04-01              1972.009636              2205.367174   \n",
       "1   2009-04-01              1834.209134              1974.845651   \n",
       "2   2010-04-01              1708.761387              1830.935290   \n",
       "3   2011-04-01              1813.669792              1950.141547   \n",
       "4   2012-04-01              2855.985227              3077.535771   \n",
       "..         ...                      ...                      ...   \n",
       "163 2018-03-01              3372.185184              3618.523506   \n",
       "164 2019-03-01              3319.762289              3599.290994   \n",
       "165 2020-03-01              3574.871048              3856.149467   \n",
       "166 2021-03-01              4787.342463              5131.809942   \n",
       "167 2022-03-01              6079.680151              6590.310789   \n",
       "\n",
       "     Modal Price (Rs./Quintal)  Year  Month      SMA(12)  Price-SMA(12)  \\\n",
       "0                  2245.057074  2008      4          NaN            NaN   \n",
       "1                  2156.120807  2009      4  2314.331982    -158.211175   \n",
       "2                  2084.289436  2010      4  2255.400420    -171.110984   \n",
       "3                  2242.217045  2011      4  2388.683903    -146.466858   \n",
       "4                  3317.324299  2012      4  3211.518395     105.805903   \n",
       "..                         ...   ...    ...          ...            ...   \n",
       "163                3521.648014  2018      3  3575.116631     -53.468617   \n",
       "164                3486.515963  2019      3  3689.722800    -203.206837   \n",
       "165                3740.869816  2020      3  4008.327970    -267.458154   \n",
       "166                4989.495575  2021      3  5511.642811    -522.147236   \n",
       "167                6384.374227  2022      3          NaN            NaN   \n",
       "\n",
       "     Seasonal_Average  \n",
       "0         -161.948485  \n",
       "1         -161.948485  \n",
       "2         -161.948485  \n",
       "3         -161.948485  \n",
       "4         -161.948485  \n",
       "..                ...  \n",
       "163       -236.586464  \n",
       "164       -236.586464  \n",
       "165       -236.586464  \n",
       "166       -236.586464  \n",
       "167       -236.586464  \n",
       "\n",
       "[168 rows x 9 columns]"
      ]
     },
     "execution_count": 19,
     "metadata": {},
     "output_type": "execute_result"
    }
   ],
   "source": [
    "outer_join_df=pd.merge(CropData_Summarized, PrSmaMon.reset_index() , on='Month', how='outer')\n",
    "outer_join_df"
   ]
  },
  {
   "cell_type": "code",
   "execution_count": 29,
   "id": "809584c1",
   "metadata": {},
   "outputs": [],
   "source": [
    "outer_join_df.sort_values('Yr-mon' , inplace= True)\n",
    "outer_join_df.set_index('Yr-mon',inplace= True)"
   ]
  },
  {
   "cell_type": "code",
   "execution_count": 31,
   "id": "470178c1",
   "metadata": {},
   "outputs": [
    {
     "data": {
      "text/html": [
       "<div>\n",
       "<style scoped>\n",
       "    .dataframe tbody tr th:only-of-type {\n",
       "        vertical-align: middle;\n",
       "    }\n",
       "\n",
       "    .dataframe tbody tr th {\n",
       "        vertical-align: top;\n",
       "    }\n",
       "\n",
       "    .dataframe thead th {\n",
       "        text-align: right;\n",
       "    }\n",
       "</style>\n",
       "<table border=\"1\" class=\"dataframe\">\n",
       "  <thead>\n",
       "    <tr style=\"text-align: right;\">\n",
       "      <th></th>\n",
       "      <th>Min Price (Rs./Quintal)</th>\n",
       "      <th>Max Price (Rs./Quintal)</th>\n",
       "      <th>Modal Price (Rs./Quintal)</th>\n",
       "      <th>Year</th>\n",
       "      <th>Month</th>\n",
       "      <th>SMA(12)</th>\n",
       "      <th>Price-SMA(12)</th>\n",
       "      <th>Seasonal_Average</th>\n",
       "    </tr>\n",
       "    <tr>\n",
       "      <th>Yr-mon</th>\n",
       "      <th></th>\n",
       "      <th></th>\n",
       "      <th></th>\n",
       "      <th></th>\n",
       "      <th></th>\n",
       "      <th></th>\n",
       "      <th></th>\n",
       "      <th></th>\n",
       "    </tr>\n",
       "  </thead>\n",
       "  <tbody>\n",
       "    <tr>\n",
       "      <th>2008-10-01</th>\n",
       "      <td>2199.782344</td>\n",
       "      <td>2370.968582</td>\n",
       "      <td>2564.292059</td>\n",
       "      <td>2008</td>\n",
       "      <td>10</td>\n",
       "      <td>2426.091588</td>\n",
       "      <td>138.200471</td>\n",
       "      <td>120.855210</td>\n",
       "    </tr>\n",
       "    <tr>\n",
       "      <th>2008-11-01</th>\n",
       "      <td>2268.931493</td>\n",
       "      <td>2411.326838</td>\n",
       "      <td>2560.765303</td>\n",
       "      <td>2008</td>\n",
       "      <td>11</td>\n",
       "      <td>2418.680233</td>\n",
       "      <td>142.085071</td>\n",
       "      <td>133.058174</td>\n",
       "    </tr>\n",
       "    <tr>\n",
       "      <th>2008-12-01</th>\n",
       "      <td>2240.490319</td>\n",
       "      <td>2419.771060</td>\n",
       "      <td>2576.867611</td>\n",
       "      <td>2008</td>\n",
       "      <td>12</td>\n",
       "      <td>2412.419330</td>\n",
       "      <td>164.448282</td>\n",
       "      <td>135.993234</td>\n",
       "    </tr>\n",
       "    <tr>\n",
       "      <th>2009-01-01</th>\n",
       "      <td>1983.314762</td>\n",
       "      <td>2208.951741</td>\n",
       "      <td>2348.054467</td>\n",
       "      <td>2009</td>\n",
       "      <td>1</td>\n",
       "      <td>2387.354526</td>\n",
       "      <td>-39.300059</td>\n",
       "      <td>64.202891</td>\n",
       "    </tr>\n",
       "    <tr>\n",
       "      <th>2009-02-01</th>\n",
       "      <td>1830.037688</td>\n",
       "      <td>2039.327834</td>\n",
       "      <td>2147.439906</td>\n",
       "      <td>2009</td>\n",
       "      <td>2</td>\n",
       "      <td>2360.518100</td>\n",
       "      <td>-213.078194</td>\n",
       "      <td>-115.131920</td>\n",
       "    </tr>\n",
       "    <tr>\n",
       "      <th>...</th>\n",
       "      <td>...</td>\n",
       "      <td>...</td>\n",
       "      <td>...</td>\n",
       "      <td>...</td>\n",
       "      <td>...</td>\n",
       "      <td>...</td>\n",
       "      <td>...</td>\n",
       "      <td>...</td>\n",
       "    </tr>\n",
       "    <tr>\n",
       "      <th>2021-06-01</th>\n",
       "      <td>5989.137463</td>\n",
       "      <td>6300.593042</td>\n",
       "      <td>6177.388681</td>\n",
       "      <td>2021</td>\n",
       "      <td>6</td>\n",
       "      <td>6111.001863</td>\n",
       "      <td>66.386818</td>\n",
       "      <td>-59.444214</td>\n",
       "    </tr>\n",
       "    <tr>\n",
       "      <th>2021-07-01</th>\n",
       "      <td>6166.852757</td>\n",
       "      <td>6452.764186</td>\n",
       "      <td>6344.841906</td>\n",
       "      <td>2021</td>\n",
       "      <td>7</td>\n",
       "      <td>6279.931161</td>\n",
       "      <td>64.910745</td>\n",
       "      <td>3.559216</td>\n",
       "    </tr>\n",
       "    <tr>\n",
       "      <th>2021-08-01</th>\n",
       "      <td>6545.549413</td>\n",
       "      <td>6840.657049</td>\n",
       "      <td>6732.234623</td>\n",
       "      <td>2021</td>\n",
       "      <td>8</td>\n",
       "      <td>6417.337933</td>\n",
       "      <td>314.896690</td>\n",
       "      <td>84.079635</td>\n",
       "    </tr>\n",
       "    <tr>\n",
       "      <th>2021-09-01</th>\n",
       "      <td>7039.999173</td>\n",
       "      <td>7348.164655</td>\n",
       "      <td>7235.832369</td>\n",
       "      <td>2021</td>\n",
       "      <td>9</td>\n",
       "      <td>6541.561708</td>\n",
       "      <td>694.270661</td>\n",
       "      <td>108.665077</td>\n",
       "    </tr>\n",
       "    <tr>\n",
       "      <th>2021-10-01</th>\n",
       "      <td>7132.419096</td>\n",
       "      <td>7423.933856</td>\n",
       "      <td>7310.735332</td>\n",
       "      <td>2021</td>\n",
       "      <td>10</td>\n",
       "      <td>6657.801596</td>\n",
       "      <td>652.933736</td>\n",
       "      <td>120.855210</td>\n",
       "    </tr>\n",
       "  </tbody>\n",
       "</table>\n",
       "<p>157 rows × 8 columns</p>\n",
       "</div>"
      ],
      "text/plain": [
       "            Min Price (Rs./Quintal)  Max Price (Rs./Quintal)  \\\n",
       "Yr-mon                                                         \n",
       "2008-10-01              2199.782344              2370.968582   \n",
       "2008-11-01              2268.931493              2411.326838   \n",
       "2008-12-01              2240.490319              2419.771060   \n",
       "2009-01-01              1983.314762              2208.951741   \n",
       "2009-02-01              1830.037688              2039.327834   \n",
       "...                             ...                      ...   \n",
       "2021-06-01              5989.137463              6300.593042   \n",
       "2021-07-01              6166.852757              6452.764186   \n",
       "2021-08-01              6545.549413              6840.657049   \n",
       "2021-09-01              7039.999173              7348.164655   \n",
       "2021-10-01              7132.419096              7423.933856   \n",
       "\n",
       "            Modal Price (Rs./Quintal)  Year  Month      SMA(12)  \\\n",
       "Yr-mon                                                            \n",
       "2008-10-01                2564.292059  2008     10  2426.091588   \n",
       "2008-11-01                2560.765303  2008     11  2418.680233   \n",
       "2008-12-01                2576.867611  2008     12  2412.419330   \n",
       "2009-01-01                2348.054467  2009      1  2387.354526   \n",
       "2009-02-01                2147.439906  2009      2  2360.518100   \n",
       "...                               ...   ...    ...          ...   \n",
       "2021-06-01                6177.388681  2021      6  6111.001863   \n",
       "2021-07-01                6344.841906  2021      7  6279.931161   \n",
       "2021-08-01                6732.234623  2021      8  6417.337933   \n",
       "2021-09-01                7235.832369  2021      9  6541.561708   \n",
       "2021-10-01                7310.735332  2021     10  6657.801596   \n",
       "\n",
       "            Price-SMA(12)  Seasonal_Average  \n",
       "Yr-mon                                       \n",
       "2008-10-01     138.200471        120.855210  \n",
       "2008-11-01     142.085071        133.058174  \n",
       "2008-12-01     164.448282        135.993234  \n",
       "2009-01-01     -39.300059         64.202891  \n",
       "2009-02-01    -213.078194       -115.131920  \n",
       "...                   ...               ...  \n",
       "2021-06-01      66.386818        -59.444214  \n",
       "2021-07-01      64.910745          3.559216  \n",
       "2021-08-01     314.896690         84.079635  \n",
       "2021-09-01     694.270661        108.665077  \n",
       "2021-10-01     652.933736        120.855210  \n",
       "\n",
       "[157 rows x 8 columns]"
      ]
     },
     "execution_count": 31,
     "metadata": {},
     "output_type": "execute_result"
    }
   ],
   "source": [
    "outer_join_df[outer_join_df['SMA(12)'].notnull()]"
   ]
  },
  {
   "cell_type": "code",
   "execution_count": 34,
   "id": "ea100648",
   "metadata": {},
   "outputs": [],
   "source": [
    "outer_join_df['Deseasonlaised_Data'] = outer_join_df[outer_join_df['SMA(12)'].notnull()]['Modal Price (Rs./Quintal)'] - outer_join_df[outer_join_df['SMA(12)'].notnull()]['Seasonal_Average']"
   ]
  },
  {
   "cell_type": "code",
   "execution_count": 40,
   "id": "0220bedf",
   "metadata": {},
   "outputs": [
    {
     "data": {
      "text/html": [
       "<div>\n",
       "<style scoped>\n",
       "    .dataframe tbody tr th:only-of-type {\n",
       "        vertical-align: middle;\n",
       "    }\n",
       "\n",
       "    .dataframe tbody tr th {\n",
       "        vertical-align: top;\n",
       "    }\n",
       "\n",
       "    .dataframe thead th {\n",
       "        text-align: right;\n",
       "    }\n",
       "</style>\n",
       "<table border=\"1\" class=\"dataframe\">\n",
       "  <thead>\n",
       "    <tr style=\"text-align: right;\">\n",
       "      <th></th>\n",
       "      <th>Min Price (Rs./Quintal)</th>\n",
       "      <th>Max Price (Rs./Quintal)</th>\n",
       "      <th>Modal Price (Rs./Quintal)</th>\n",
       "      <th>Year</th>\n",
       "      <th>Month</th>\n",
       "      <th>SMA(12)</th>\n",
       "      <th>Price-SMA(12)</th>\n",
       "      <th>Seasonal_Average</th>\n",
       "      <th>Deseasonlaised_Data</th>\n",
       "    </tr>\n",
       "    <tr>\n",
       "      <th>Yr-mon</th>\n",
       "      <th></th>\n",
       "      <th></th>\n",
       "      <th></th>\n",
       "      <th></th>\n",
       "      <th></th>\n",
       "      <th></th>\n",
       "      <th></th>\n",
       "      <th></th>\n",
       "      <th></th>\n",
       "    </tr>\n",
       "  </thead>\n",
       "  <tbody>\n",
       "    <tr>\n",
       "      <th>2008-10-01</th>\n",
       "      <td>2199.782344</td>\n",
       "      <td>2370.968582</td>\n",
       "      <td>2564.292059</td>\n",
       "      <td>2008</td>\n",
       "      <td>10</td>\n",
       "      <td>2426.091588</td>\n",
       "      <td>138.200471</td>\n",
       "      <td>120.855210</td>\n",
       "      <td>2443.436849</td>\n",
       "    </tr>\n",
       "    <tr>\n",
       "      <th>2008-11-01</th>\n",
       "      <td>2268.931493</td>\n",
       "      <td>2411.326838</td>\n",
       "      <td>2560.765303</td>\n",
       "      <td>2008</td>\n",
       "      <td>11</td>\n",
       "      <td>2418.680233</td>\n",
       "      <td>142.085071</td>\n",
       "      <td>133.058174</td>\n",
       "      <td>2427.707129</td>\n",
       "    </tr>\n",
       "    <tr>\n",
       "      <th>2008-12-01</th>\n",
       "      <td>2240.490319</td>\n",
       "      <td>2419.771060</td>\n",
       "      <td>2576.867611</td>\n",
       "      <td>2008</td>\n",
       "      <td>12</td>\n",
       "      <td>2412.419330</td>\n",
       "      <td>164.448282</td>\n",
       "      <td>135.993234</td>\n",
       "      <td>2440.874377</td>\n",
       "    </tr>\n",
       "    <tr>\n",
       "      <th>2009-01-01</th>\n",
       "      <td>1983.314762</td>\n",
       "      <td>2208.951741</td>\n",
       "      <td>2348.054467</td>\n",
       "      <td>2009</td>\n",
       "      <td>1</td>\n",
       "      <td>2387.354526</td>\n",
       "      <td>-39.300059</td>\n",
       "      <td>64.202891</td>\n",
       "      <td>2283.851576</td>\n",
       "    </tr>\n",
       "    <tr>\n",
       "      <th>2009-02-01</th>\n",
       "      <td>1830.037688</td>\n",
       "      <td>2039.327834</td>\n",
       "      <td>2147.439906</td>\n",
       "      <td>2009</td>\n",
       "      <td>2</td>\n",
       "      <td>2360.518100</td>\n",
       "      <td>-213.078194</td>\n",
       "      <td>-115.131920</td>\n",
       "      <td>2262.571826</td>\n",
       "    </tr>\n",
       "    <tr>\n",
       "      <th>...</th>\n",
       "      <td>...</td>\n",
       "      <td>...</td>\n",
       "      <td>...</td>\n",
       "      <td>...</td>\n",
       "      <td>...</td>\n",
       "      <td>...</td>\n",
       "      <td>...</td>\n",
       "      <td>...</td>\n",
       "      <td>...</td>\n",
       "    </tr>\n",
       "    <tr>\n",
       "      <th>2021-06-01</th>\n",
       "      <td>5989.137463</td>\n",
       "      <td>6300.593042</td>\n",
       "      <td>6177.388681</td>\n",
       "      <td>2021</td>\n",
       "      <td>6</td>\n",
       "      <td>6111.001863</td>\n",
       "      <td>66.386818</td>\n",
       "      <td>-59.444214</td>\n",
       "      <td>6236.832895</td>\n",
       "    </tr>\n",
       "    <tr>\n",
       "      <th>2021-07-01</th>\n",
       "      <td>6166.852757</td>\n",
       "      <td>6452.764186</td>\n",
       "      <td>6344.841906</td>\n",
       "      <td>2021</td>\n",
       "      <td>7</td>\n",
       "      <td>6279.931161</td>\n",
       "      <td>64.910745</td>\n",
       "      <td>3.559216</td>\n",
       "      <td>6341.282690</td>\n",
       "    </tr>\n",
       "    <tr>\n",
       "      <th>2021-08-01</th>\n",
       "      <td>6545.549413</td>\n",
       "      <td>6840.657049</td>\n",
       "      <td>6732.234623</td>\n",
       "      <td>2021</td>\n",
       "      <td>8</td>\n",
       "      <td>6417.337933</td>\n",
       "      <td>314.896690</td>\n",
       "      <td>84.079635</td>\n",
       "      <td>6648.154988</td>\n",
       "    </tr>\n",
       "    <tr>\n",
       "      <th>2021-09-01</th>\n",
       "      <td>7039.999173</td>\n",
       "      <td>7348.164655</td>\n",
       "      <td>7235.832369</td>\n",
       "      <td>2021</td>\n",
       "      <td>9</td>\n",
       "      <td>6541.561708</td>\n",
       "      <td>694.270661</td>\n",
       "      <td>108.665077</td>\n",
       "      <td>7127.167292</td>\n",
       "    </tr>\n",
       "    <tr>\n",
       "      <th>2021-10-01</th>\n",
       "      <td>7132.419096</td>\n",
       "      <td>7423.933856</td>\n",
       "      <td>7310.735332</td>\n",
       "      <td>2021</td>\n",
       "      <td>10</td>\n",
       "      <td>6657.801596</td>\n",
       "      <td>652.933736</td>\n",
       "      <td>120.855210</td>\n",
       "      <td>7189.880121</td>\n",
       "    </tr>\n",
       "  </tbody>\n",
       "</table>\n",
       "<p>157 rows × 9 columns</p>\n",
       "</div>"
      ],
      "text/plain": [
       "            Min Price (Rs./Quintal)  Max Price (Rs./Quintal)  \\\n",
       "Yr-mon                                                         \n",
       "2008-10-01              2199.782344              2370.968582   \n",
       "2008-11-01              2268.931493              2411.326838   \n",
       "2008-12-01              2240.490319              2419.771060   \n",
       "2009-01-01              1983.314762              2208.951741   \n",
       "2009-02-01              1830.037688              2039.327834   \n",
       "...                             ...                      ...   \n",
       "2021-06-01              5989.137463              6300.593042   \n",
       "2021-07-01              6166.852757              6452.764186   \n",
       "2021-08-01              6545.549413              6840.657049   \n",
       "2021-09-01              7039.999173              7348.164655   \n",
       "2021-10-01              7132.419096              7423.933856   \n",
       "\n",
       "            Modal Price (Rs./Quintal)  Year  Month      SMA(12)  \\\n",
       "Yr-mon                                                            \n",
       "2008-10-01                2564.292059  2008     10  2426.091588   \n",
       "2008-11-01                2560.765303  2008     11  2418.680233   \n",
       "2008-12-01                2576.867611  2008     12  2412.419330   \n",
       "2009-01-01                2348.054467  2009      1  2387.354526   \n",
       "2009-02-01                2147.439906  2009      2  2360.518100   \n",
       "...                               ...   ...    ...          ...   \n",
       "2021-06-01                6177.388681  2021      6  6111.001863   \n",
       "2021-07-01                6344.841906  2021      7  6279.931161   \n",
       "2021-08-01                6732.234623  2021      8  6417.337933   \n",
       "2021-09-01                7235.832369  2021      9  6541.561708   \n",
       "2021-10-01                7310.735332  2021     10  6657.801596   \n",
       "\n",
       "            Price-SMA(12)  Seasonal_Average  Deseasonlaised_Data  \n",
       "Yr-mon                                                            \n",
       "2008-10-01     138.200471        120.855210          2443.436849  \n",
       "2008-11-01     142.085071        133.058174          2427.707129  \n",
       "2008-12-01     164.448282        135.993234          2440.874377  \n",
       "2009-01-01     -39.300059         64.202891          2283.851576  \n",
       "2009-02-01    -213.078194       -115.131920          2262.571826  \n",
       "...                   ...               ...                  ...  \n",
       "2021-06-01      66.386818        -59.444214          6236.832895  \n",
       "2021-07-01      64.910745          3.559216          6341.282690  \n",
       "2021-08-01     314.896690         84.079635          6648.154988  \n",
       "2021-09-01     694.270661        108.665077          7127.167292  \n",
       "2021-10-01     652.933736        120.855210          7189.880121  \n",
       "\n",
       "[157 rows x 9 columns]"
      ]
     },
     "execution_count": 40,
     "metadata": {},
     "output_type": "execute_result"
    }
   ],
   "source": [
    "outer_join_df[outer_join_df['SMA(12)'].notnull()]"
   ]
  },
  {
   "cell_type": "code",
   "execution_count": 44,
   "id": "65dd274b",
   "metadata": {},
   "outputs": [
    {
     "data": {
      "application/vnd.plotly.v1+json": {
       "config": {
        "plotlyServerURL": "https://plot.ly"
       },
       "data": [
        {
         "mode": "lines",
         "name": "Deseasonlaised_Data",
         "type": "scatter",
         "x": [
          "2008-10-01T00:00:00",
          "2008-11-01T00:00:00",
          "2008-12-01T00:00:00",
          "2009-01-01T00:00:00",
          "2009-02-01T00:00:00",
          "2009-03-01T00:00:00",
          "2009-04-01T00:00:00",
          "2009-05-01T00:00:00",
          "2009-06-01T00:00:00",
          "2009-07-01T00:00:00",
          "2009-08-01T00:00:00",
          "2009-09-01T00:00:00",
          "2009-10-01T00:00:00",
          "2009-11-01T00:00:00",
          "2009-12-01T00:00:00",
          "2010-01-01T00:00:00",
          "2010-02-01T00:00:00",
          "2010-03-01T00:00:00",
          "2010-04-01T00:00:00",
          "2010-05-01T00:00:00",
          "2010-06-01T00:00:00",
          "2010-07-01T00:00:00",
          "2010-08-01T00:00:00",
          "2010-09-01T00:00:00",
          "2010-10-01T00:00:00",
          "2010-11-01T00:00:00",
          "2010-12-01T00:00:00",
          "2011-01-01T00:00:00",
          "2011-02-01T00:00:00",
          "2011-03-01T00:00:00",
          "2011-04-01T00:00:00",
          "2011-05-01T00:00:00",
          "2011-06-01T00:00:00",
          "2011-07-01T00:00:00",
          "2011-08-01T00:00:00",
          "2011-09-01T00:00:00",
          "2011-10-01T00:00:00",
          "2011-11-01T00:00:00",
          "2011-12-01T00:00:00",
          "2012-01-01T00:00:00",
          "2012-02-01T00:00:00",
          "2012-03-01T00:00:00",
          "2012-04-01T00:00:00",
          "2012-05-01T00:00:00",
          "2012-06-01T00:00:00",
          "2012-07-01T00:00:00",
          "2012-08-01T00:00:00",
          "2012-09-01T00:00:00",
          "2012-10-01T00:00:00",
          "2012-11-01T00:00:00",
          "2012-12-01T00:00:00",
          "2013-01-01T00:00:00",
          "2013-02-01T00:00:00",
          "2013-03-01T00:00:00",
          "2013-04-01T00:00:00",
          "2013-05-01T00:00:00",
          "2013-06-01T00:00:00",
          "2013-07-01T00:00:00",
          "2013-08-01T00:00:00",
          "2013-09-01T00:00:00",
          "2013-10-01T00:00:00",
          "2013-11-01T00:00:00",
          "2013-12-01T00:00:00",
          "2014-01-01T00:00:00",
          "2014-02-01T00:00:00",
          "2014-03-01T00:00:00",
          "2014-04-01T00:00:00",
          "2014-05-01T00:00:00",
          "2014-06-01T00:00:00",
          "2014-07-01T00:00:00",
          "2014-08-01T00:00:00",
          "2014-09-01T00:00:00",
          "2014-10-01T00:00:00",
          "2014-11-01T00:00:00",
          "2014-12-01T00:00:00",
          "2015-01-01T00:00:00",
          "2015-02-01T00:00:00",
          "2015-03-01T00:00:00",
          "2015-04-01T00:00:00",
          "2015-05-01T00:00:00",
          "2015-06-01T00:00:00",
          "2015-07-01T00:00:00",
          "2015-08-01T00:00:00",
          "2015-09-01T00:00:00",
          "2015-10-01T00:00:00",
          "2015-11-01T00:00:00",
          "2015-12-01T00:00:00",
          "2016-01-01T00:00:00",
          "2016-02-01T00:00:00",
          "2016-03-01T00:00:00",
          "2016-04-01T00:00:00",
          "2016-05-01T00:00:00",
          "2016-06-01T00:00:00",
          "2016-07-01T00:00:00",
          "2016-08-01T00:00:00",
          "2016-09-01T00:00:00",
          "2016-10-01T00:00:00",
          "2016-11-01T00:00:00",
          "2016-12-01T00:00:00",
          "2017-01-01T00:00:00",
          "2017-02-01T00:00:00",
          "2017-03-01T00:00:00",
          "2017-04-01T00:00:00",
          "2017-05-01T00:00:00",
          "2017-06-01T00:00:00",
          "2017-07-01T00:00:00",
          "2017-08-01T00:00:00",
          "2017-09-01T00:00:00",
          "2017-10-01T00:00:00",
          "2017-11-01T00:00:00",
          "2017-12-01T00:00:00",
          "2018-01-01T00:00:00",
          "2018-02-01T00:00:00",
          "2018-03-01T00:00:00",
          "2018-04-01T00:00:00",
          "2018-05-01T00:00:00",
          "2018-06-01T00:00:00",
          "2018-07-01T00:00:00",
          "2018-08-01T00:00:00",
          "2018-09-01T00:00:00",
          "2018-10-01T00:00:00",
          "2018-11-01T00:00:00",
          "2018-12-01T00:00:00",
          "2019-01-01T00:00:00",
          "2019-02-01T00:00:00",
          "2019-03-01T00:00:00",
          "2019-04-01T00:00:00",
          "2019-05-01T00:00:00",
          "2019-06-01T00:00:00",
          "2019-07-01T00:00:00",
          "2019-08-01T00:00:00",
          "2019-09-01T00:00:00",
          "2019-10-01T00:00:00",
          "2019-11-01T00:00:00",
          "2019-12-01T00:00:00",
          "2020-01-01T00:00:00",
          "2020-02-01T00:00:00",
          "2020-03-01T00:00:00",
          "2020-04-01T00:00:00",
          "2020-05-01T00:00:00",
          "2020-06-01T00:00:00",
          "2020-07-01T00:00:00",
          "2020-08-01T00:00:00",
          "2020-09-01T00:00:00",
          "2020-10-01T00:00:00",
          "2020-11-01T00:00:00",
          "2020-12-01T00:00:00",
          "2021-01-01T00:00:00",
          "2021-02-01T00:00:00",
          "2021-03-01T00:00:00",
          "2021-04-01T00:00:00",
          "2021-05-01T00:00:00",
          "2021-06-01T00:00:00",
          "2021-07-01T00:00:00",
          "2021-08-01T00:00:00",
          "2021-09-01T00:00:00",
          "2021-10-01T00:00:00"
         ],
         "xaxis": "x",
         "y": [
          2443.436848936082,
          2427.7071291012003,
          2440.8743769488337,
          2283.8515760821033,
          2262.5718257249264,
          2248.1252400321855,
          2318.069292038023,
          2336.2124021234763,
          2331.5469546931567,
          2273.1804988663844,
          2243.6235056354653,
          2162.7841329994544,
          2179.764303243042,
          2293.731168301167,
          2378.449342913774,
          2343.506358097005,
          2313.950088048079,
          2323.9794718902363,
          2246.237921398676,
          2181.611461842077,
          2213.7021003278915,
          2201.7579085998336,
          2205.3826237016688,
          2182.7322928799967,
          2170.3156214230657,
          2197.5859917606053,
          2222.8300961400205,
          2320.904962088108,
          2491.1981300324032,
          2525.317180095985,
          2404.1655302187764,
          2411.870526652399,
          2485.2681963844107,
          2488.1577269736995,
          2484.6495278137418,
          2461.9433438833958,
          2469.5130875890413,
          2544.602120296315,
          2712.972306928144,
          2903.220443074332,
          3046.8885798507727,
          3372.1167591016087,
          3479.272783849805,
          3429.6930583698177,
          3412.575059839106,
          3638.0124215504065,
          3806.537802068149,
          3722.816321218202,
          3662.4221311657484,
          3694.434864571572,
          3691.2613656752765,
          3656.618468022552,
          3579.64788739561,
          3456.430340777629,
          3325.4385362807466,
          3210.523000680574,
          3207.350563474367,
          3108.058585035546,
          3060.420878457278,
          3084.288729580444,
          3102.670281547311,
          3201.9580296012427,
          3165.607202258362,
          3158.030215767098,
          3204.114733418634,
          3295.2430318508004,
          3227.545473864749,
          3217.908262068996,
          3205.51745182379,
          3233.3652604751605,
          3194.083610928511,
          3163.246420096392,
          3167.3949210033097,
          3211.1694378378374,
          3336.9314548967322,
          3482.926274846832,
          3493.7900996430353,
          3493.7258448371085,
          3493.314506205686,
          3726.4657190848084,
          3877.1746214246327,
          3844.984422801044,
          3814.6960392419505,
          3912.9541488355835,
          4217.47799115555,
          4178.12181634644,
          4147.123798564134,
          3996.50253620812,
          3871.380858570481,
          3806.836188403348,
          3968.8162548841683,
          3967.8933326059,
          4055.131715943717,
          4184.221355097215,
          4155.570047846413,
          4058.3614641655554,
          3957.543731872902,
          4011.6983383908932,
          3887.72275567058,
          3792.137158794126,
          3645.4807764282027,
          3679.6797006472502,
          3620.3231466638913,
          3474.340115258831,
          3438.223136112022,
          3432.9134952713703,
          3380.9671026358815,
          3390.5091140165637,
          3345.0946563611415,
          3406.165430782374,
          3480.395680885341,
          3481.9659159552193,
          3630.452363189243,
          3758.234478538198,
          3676.4738715236344,
          3634.6541680863447,
          3661.904163587232,
          3710.9684322487774,
          3724.5813019138336,
          3703.205758204897,
          3690.35081054659,
          3724.7865538225938,
          3681.105396328516,
          3711.754127490837,
          3773.2493522626974,
          3723.1024273113903,
          3650.3237693852184,
          3658.054126910182,
          3683.317456362198,
          3651.3584202022507,
          3626.0653998435046,
          3630.9551678583584,
          3654.4753917522366,
          3736.615422896132,
          3850.408258253938,
          3963.8933390584025,
          3964.03740895701,
          3977.45627976709,
          4134.055476103961,
          4115.467258446969,
          4260.092964835465,
          4337.011591421368,
          4475.467079005708,
          4593.646583052874,
          4746.556073527762,
          4975.818546214778,
          4933.3491480452785,
          5134.095499282721,
          5264.816861447326,
          5226.082039102924,
          5732.099171142738,
          6306.979240797468,
          6236.832894993535,
          6341.282690310013,
          6648.154988373083,
          7127.167292396698,
          7189.880121349354
         ],
         "yaxis": "y"
        },
        {
         "mode": "lines",
         "name": "Modal Price",
         "type": "scatter",
         "x": [
          "2008-10-01T00:00:00",
          "2008-11-01T00:00:00",
          "2008-12-01T00:00:00",
          "2009-01-01T00:00:00",
          "2009-02-01T00:00:00",
          "2009-03-01T00:00:00",
          "2009-04-01T00:00:00",
          "2009-05-01T00:00:00",
          "2009-06-01T00:00:00",
          "2009-07-01T00:00:00",
          "2009-08-01T00:00:00",
          "2009-09-01T00:00:00",
          "2009-10-01T00:00:00",
          "2009-11-01T00:00:00",
          "2009-12-01T00:00:00",
          "2010-01-01T00:00:00",
          "2010-02-01T00:00:00",
          "2010-03-01T00:00:00",
          "2010-04-01T00:00:00",
          "2010-05-01T00:00:00",
          "2010-06-01T00:00:00",
          "2010-07-01T00:00:00",
          "2010-08-01T00:00:00",
          "2010-09-01T00:00:00",
          "2010-10-01T00:00:00",
          "2010-11-01T00:00:00",
          "2010-12-01T00:00:00",
          "2011-01-01T00:00:00",
          "2011-02-01T00:00:00",
          "2011-03-01T00:00:00",
          "2011-04-01T00:00:00",
          "2011-05-01T00:00:00",
          "2011-06-01T00:00:00",
          "2011-07-01T00:00:00",
          "2011-08-01T00:00:00",
          "2011-09-01T00:00:00",
          "2011-10-01T00:00:00",
          "2011-11-01T00:00:00",
          "2011-12-01T00:00:00",
          "2012-01-01T00:00:00",
          "2012-02-01T00:00:00",
          "2012-03-01T00:00:00",
          "2012-04-01T00:00:00",
          "2012-05-01T00:00:00",
          "2012-06-01T00:00:00",
          "2012-07-01T00:00:00",
          "2012-08-01T00:00:00",
          "2012-09-01T00:00:00",
          "2012-10-01T00:00:00",
          "2012-11-01T00:00:00",
          "2012-12-01T00:00:00",
          "2013-01-01T00:00:00",
          "2013-02-01T00:00:00",
          "2013-03-01T00:00:00",
          "2013-04-01T00:00:00",
          "2013-05-01T00:00:00",
          "2013-06-01T00:00:00",
          "2013-07-01T00:00:00",
          "2013-08-01T00:00:00",
          "2013-09-01T00:00:00",
          "2013-10-01T00:00:00",
          "2013-11-01T00:00:00",
          "2013-12-01T00:00:00",
          "2014-01-01T00:00:00",
          "2014-02-01T00:00:00",
          "2014-03-01T00:00:00",
          "2014-04-01T00:00:00",
          "2014-05-01T00:00:00",
          "2014-06-01T00:00:00",
          "2014-07-01T00:00:00",
          "2014-08-01T00:00:00",
          "2014-09-01T00:00:00",
          "2014-10-01T00:00:00",
          "2014-11-01T00:00:00",
          "2014-12-01T00:00:00",
          "2015-01-01T00:00:00",
          "2015-02-01T00:00:00",
          "2015-03-01T00:00:00",
          "2015-04-01T00:00:00",
          "2015-05-01T00:00:00",
          "2015-06-01T00:00:00",
          "2015-07-01T00:00:00",
          "2015-08-01T00:00:00",
          "2015-09-01T00:00:00",
          "2015-10-01T00:00:00",
          "2015-11-01T00:00:00",
          "2015-12-01T00:00:00",
          "2016-01-01T00:00:00",
          "2016-02-01T00:00:00",
          "2016-03-01T00:00:00",
          "2016-04-01T00:00:00",
          "2016-05-01T00:00:00",
          "2016-06-01T00:00:00",
          "2016-07-01T00:00:00",
          "2016-08-01T00:00:00",
          "2016-09-01T00:00:00",
          "2016-10-01T00:00:00",
          "2016-11-01T00:00:00",
          "2016-12-01T00:00:00",
          "2017-01-01T00:00:00",
          "2017-02-01T00:00:00",
          "2017-03-01T00:00:00",
          "2017-04-01T00:00:00",
          "2017-05-01T00:00:00",
          "2017-06-01T00:00:00",
          "2017-07-01T00:00:00",
          "2017-08-01T00:00:00",
          "2017-09-01T00:00:00",
          "2017-10-01T00:00:00",
          "2017-11-01T00:00:00",
          "2017-12-01T00:00:00",
          "2018-01-01T00:00:00",
          "2018-02-01T00:00:00",
          "2018-03-01T00:00:00",
          "2018-04-01T00:00:00",
          "2018-05-01T00:00:00",
          "2018-06-01T00:00:00",
          "2018-07-01T00:00:00",
          "2018-08-01T00:00:00",
          "2018-09-01T00:00:00",
          "2018-10-01T00:00:00",
          "2018-11-01T00:00:00",
          "2018-12-01T00:00:00",
          "2019-01-01T00:00:00",
          "2019-02-01T00:00:00",
          "2019-03-01T00:00:00",
          "2019-04-01T00:00:00",
          "2019-05-01T00:00:00",
          "2019-06-01T00:00:00",
          "2019-07-01T00:00:00",
          "2019-08-01T00:00:00",
          "2019-09-01T00:00:00",
          "2019-10-01T00:00:00",
          "2019-11-01T00:00:00",
          "2019-12-01T00:00:00",
          "2020-01-01T00:00:00",
          "2020-02-01T00:00:00",
          "2020-03-01T00:00:00",
          "2020-04-01T00:00:00",
          "2020-05-01T00:00:00",
          "2020-06-01T00:00:00",
          "2020-07-01T00:00:00",
          "2020-08-01T00:00:00",
          "2020-09-01T00:00:00",
          "2020-10-01T00:00:00",
          "2020-11-01T00:00:00",
          "2020-12-01T00:00:00",
          "2021-01-01T00:00:00",
          "2021-02-01T00:00:00",
          "2021-03-01T00:00:00",
          "2021-04-01T00:00:00",
          "2021-05-01T00:00:00",
          "2021-06-01T00:00:00",
          "2021-07-01T00:00:00",
          "2021-08-01T00:00:00",
          "2021-09-01T00:00:00",
          "2021-10-01T00:00:00"
         ],
         "xaxis": "x",
         "y": [
          2564.292059219381,
          2560.7653032036615,
          2576.867611232209,
          2348.054467182431,
          2147.439906197655,
          2011.538775977995,
          2156.120806959097,
          2258.9100474520324,
          2272.1027405441273,
          2276.7397150022803,
          2327.7031406210554,
          2271.449209589366,
          2300.619513526341,
          2426.7893424036283,
          2514.4425771971496,
          2407.7092491973326,
          2198.818168520808,
          2087.393007836046,
          2084.28943631975,
          2104.309107170633,
          2154.257886178862,
          2205.3171247357295,
          2289.462258687259,
          2291.3973694699084,
          2291.170831706365,
          2330.6441658630665,
          2358.823330423396,
          2385.1078531884355,
          2376.066210505132,
          2288.7307160417945,
          2242.2170451398506,
          2334.568171980955,
          2425.823982235381,
          2491.7169431095954,
          2568.729162799332,
          2570.6084204733074,
          2590.3682978723405,
          2677.6602943987764,
          2848.9655412115194,
          2967.4233341746594,
          2931.7566603235014,
          3135.5302950474183,
          3317.324298770879,
          3352.3907036983737,
          3353.1308456900765,
          3641.5716376863024,
          3890.617437053739,
          3831.481397808114,
          3783.2773414490475,
          3827.493038674033,
          3827.254599958652,
          3720.8213591228796,
          3464.5159678683385,
          3219.843876723439,
          3163.4900512018207,
          3133.22064600913,
          3147.9063493253375,
          3111.617801171442,
          3144.500513442868,
          3192.9538061703556,
          3223.52549183061,
          3335.016203703704,
          3301.6004365417375,
          3222.2331068674257,
          3088.9828138913626,
          3058.65656779661,
          3065.596988785823,
          3140.605907397552,
          3146.0732376747605,
          3236.9244766110564,
          3278.163245914101,
          3271.9114966863035,
          3288.250131286609,
          3344.2276119402986,
          3472.9246891801076,
          3547.1291659471594,
          3378.658180115764,
          3257.139380782918,
          3331.36602112676,
          3649.1633644133644,
          3817.7304072756033,
          3848.5436389369397,
          3898.7756742275405,
          4021.619225425495,
          4338.333201438849,
          4311.179990448902,
          4283.117032847509,
          4060.7054273084477,
          3756.2489390432097,
          3570.2497243491575,
          3806.8677698052425,
          3890.590977934456,
          3995.6875017946877,
          4187.780571233111,
          4239.649682832003,
          4167.026540755467,
          4078.398942156201,
          4144.756512493354,
          4023.7159899539556,
          3856.340049894454,
          3530.3488569009314,
          3443.09323659306,
          3458.3746615849655,
          3397.037760587387,
          3378.7789219629926,
          3436.472711407266,
          3465.0467376214715,
          3499.1741906064753,
          3465.9498666444406,
          3539.2236048848354,
          3616.3889151687163,
          3546.168807055547,
          3515.3204436619717,
          3521.6480144840075,
          3514.5253864447086,
          3557.351813414901,
          3602.4599494382023,
          3714.5276483846733,
          3808.6609368994236,
          3811.8708347948086,
          3811.206020829889,
          3857.844727925055,
          3817.098630611891,
          3775.957018591165,
          3658.117432735426,
          3486.5159632572,
          3488.3752843062925,
          3580.751772238738,
          3623.8732422131684,
          3654.9176363381466,
          3710.1450348290946,
          3739.62024444827,
          3775.330602035536,
          3869.673596998593,
          3986.4014925373135,
          4028.09623015873,
          3848.9054894297387,
          3740.8698157128997,
          3972.1069910250353,
          4038.164903775525,
          4200.648750686436,
          4340.570807557265,
          4559.546713991298,
          4702.311659642785,
          4867.411283811061,
          5108.876720317238,
          5069.342382328654,
          5198.298390383048,
          5149.684941920054,
          4989.495575048733,
          5570.150686063812,
          6229.676886126024,
          6177.388680844506,
          6344.841906445909,
          6732.234623358673,
          7235.832368986609,
          7310.7353316326535
         ],
         "yaxis": "y"
        }
       ],
       "layout": {
        "template": {
         "data": {
          "bar": [
           {
            "error_x": {
             "color": "#2a3f5f"
            },
            "error_y": {
             "color": "#2a3f5f"
            },
            "marker": {
             "line": {
              "color": "#E5ECF6",
              "width": 0.5
             },
             "pattern": {
              "fillmode": "overlay",
              "size": 10,
              "solidity": 0.2
             }
            },
            "type": "bar"
           }
          ],
          "barpolar": [
           {
            "marker": {
             "line": {
              "color": "#E5ECF6",
              "width": 0.5
             },
             "pattern": {
              "fillmode": "overlay",
              "size": 10,
              "solidity": 0.2
             }
            },
            "type": "barpolar"
           }
          ],
          "carpet": [
           {
            "aaxis": {
             "endlinecolor": "#2a3f5f",
             "gridcolor": "white",
             "linecolor": "white",
             "minorgridcolor": "white",
             "startlinecolor": "#2a3f5f"
            },
            "baxis": {
             "endlinecolor": "#2a3f5f",
             "gridcolor": "white",
             "linecolor": "white",
             "minorgridcolor": "white",
             "startlinecolor": "#2a3f5f"
            },
            "type": "carpet"
           }
          ],
          "choropleth": [
           {
            "colorbar": {
             "outlinewidth": 0,
             "ticks": ""
            },
            "type": "choropleth"
           }
          ],
          "contour": [
           {
            "colorbar": {
             "outlinewidth": 0,
             "ticks": ""
            },
            "colorscale": [
             [
              0,
              "#0d0887"
             ],
             [
              0.1111111111111111,
              "#46039f"
             ],
             [
              0.2222222222222222,
              "#7201a8"
             ],
             [
              0.3333333333333333,
              "#9c179e"
             ],
             [
              0.4444444444444444,
              "#bd3786"
             ],
             [
              0.5555555555555556,
              "#d8576b"
             ],
             [
              0.6666666666666666,
              "#ed7953"
             ],
             [
              0.7777777777777778,
              "#fb9f3a"
             ],
             [
              0.8888888888888888,
              "#fdca26"
             ],
             [
              1,
              "#f0f921"
             ]
            ],
            "type": "contour"
           }
          ],
          "contourcarpet": [
           {
            "colorbar": {
             "outlinewidth": 0,
             "ticks": ""
            },
            "type": "contourcarpet"
           }
          ],
          "heatmap": [
           {
            "colorbar": {
             "outlinewidth": 0,
             "ticks": ""
            },
            "colorscale": [
             [
              0,
              "#0d0887"
             ],
             [
              0.1111111111111111,
              "#46039f"
             ],
             [
              0.2222222222222222,
              "#7201a8"
             ],
             [
              0.3333333333333333,
              "#9c179e"
             ],
             [
              0.4444444444444444,
              "#bd3786"
             ],
             [
              0.5555555555555556,
              "#d8576b"
             ],
             [
              0.6666666666666666,
              "#ed7953"
             ],
             [
              0.7777777777777778,
              "#fb9f3a"
             ],
             [
              0.8888888888888888,
              "#fdca26"
             ],
             [
              1,
              "#f0f921"
             ]
            ],
            "type": "heatmap"
           }
          ],
          "heatmapgl": [
           {
            "colorbar": {
             "outlinewidth": 0,
             "ticks": ""
            },
            "colorscale": [
             [
              0,
              "#0d0887"
             ],
             [
              0.1111111111111111,
              "#46039f"
             ],
             [
              0.2222222222222222,
              "#7201a8"
             ],
             [
              0.3333333333333333,
              "#9c179e"
             ],
             [
              0.4444444444444444,
              "#bd3786"
             ],
             [
              0.5555555555555556,
              "#d8576b"
             ],
             [
              0.6666666666666666,
              "#ed7953"
             ],
             [
              0.7777777777777778,
              "#fb9f3a"
             ],
             [
              0.8888888888888888,
              "#fdca26"
             ],
             [
              1,
              "#f0f921"
             ]
            ],
            "type": "heatmapgl"
           }
          ],
          "histogram": [
           {
            "marker": {
             "pattern": {
              "fillmode": "overlay",
              "size": 10,
              "solidity": 0.2
             }
            },
            "type": "histogram"
           }
          ],
          "histogram2d": [
           {
            "colorbar": {
             "outlinewidth": 0,
             "ticks": ""
            },
            "colorscale": [
             [
              0,
              "#0d0887"
             ],
             [
              0.1111111111111111,
              "#46039f"
             ],
             [
              0.2222222222222222,
              "#7201a8"
             ],
             [
              0.3333333333333333,
              "#9c179e"
             ],
             [
              0.4444444444444444,
              "#bd3786"
             ],
             [
              0.5555555555555556,
              "#d8576b"
             ],
             [
              0.6666666666666666,
              "#ed7953"
             ],
             [
              0.7777777777777778,
              "#fb9f3a"
             ],
             [
              0.8888888888888888,
              "#fdca26"
             ],
             [
              1,
              "#f0f921"
             ]
            ],
            "type": "histogram2d"
           }
          ],
          "histogram2dcontour": [
           {
            "colorbar": {
             "outlinewidth": 0,
             "ticks": ""
            },
            "colorscale": [
             [
              0,
              "#0d0887"
             ],
             [
              0.1111111111111111,
              "#46039f"
             ],
             [
              0.2222222222222222,
              "#7201a8"
             ],
             [
              0.3333333333333333,
              "#9c179e"
             ],
             [
              0.4444444444444444,
              "#bd3786"
             ],
             [
              0.5555555555555556,
              "#d8576b"
             ],
             [
              0.6666666666666666,
              "#ed7953"
             ],
             [
              0.7777777777777778,
              "#fb9f3a"
             ],
             [
              0.8888888888888888,
              "#fdca26"
             ],
             [
              1,
              "#f0f921"
             ]
            ],
            "type": "histogram2dcontour"
           }
          ],
          "mesh3d": [
           {
            "colorbar": {
             "outlinewidth": 0,
             "ticks": ""
            },
            "type": "mesh3d"
           }
          ],
          "parcoords": [
           {
            "line": {
             "colorbar": {
              "outlinewidth": 0,
              "ticks": ""
             }
            },
            "type": "parcoords"
           }
          ],
          "pie": [
           {
            "automargin": true,
            "type": "pie"
           }
          ],
          "scatter": [
           {
            "marker": {
             "colorbar": {
              "outlinewidth": 0,
              "ticks": ""
             }
            },
            "type": "scatter"
           }
          ],
          "scatter3d": [
           {
            "line": {
             "colorbar": {
              "outlinewidth": 0,
              "ticks": ""
             }
            },
            "marker": {
             "colorbar": {
              "outlinewidth": 0,
              "ticks": ""
             }
            },
            "type": "scatter3d"
           }
          ],
          "scattercarpet": [
           {
            "marker": {
             "colorbar": {
              "outlinewidth": 0,
              "ticks": ""
             }
            },
            "type": "scattercarpet"
           }
          ],
          "scattergeo": [
           {
            "marker": {
             "colorbar": {
              "outlinewidth": 0,
              "ticks": ""
             }
            },
            "type": "scattergeo"
           }
          ],
          "scattergl": [
           {
            "marker": {
             "colorbar": {
              "outlinewidth": 0,
              "ticks": ""
             }
            },
            "type": "scattergl"
           }
          ],
          "scattermapbox": [
           {
            "marker": {
             "colorbar": {
              "outlinewidth": 0,
              "ticks": ""
             }
            },
            "type": "scattermapbox"
           }
          ],
          "scatterpolar": [
           {
            "marker": {
             "colorbar": {
              "outlinewidth": 0,
              "ticks": ""
             }
            },
            "type": "scatterpolar"
           }
          ],
          "scatterpolargl": [
           {
            "marker": {
             "colorbar": {
              "outlinewidth": 0,
              "ticks": ""
             }
            },
            "type": "scatterpolargl"
           }
          ],
          "scatterternary": [
           {
            "marker": {
             "colorbar": {
              "outlinewidth": 0,
              "ticks": ""
             }
            },
            "type": "scatterternary"
           }
          ],
          "surface": [
           {
            "colorbar": {
             "outlinewidth": 0,
             "ticks": ""
            },
            "colorscale": [
             [
              0,
              "#0d0887"
             ],
             [
              0.1111111111111111,
              "#46039f"
             ],
             [
              0.2222222222222222,
              "#7201a8"
             ],
             [
              0.3333333333333333,
              "#9c179e"
             ],
             [
              0.4444444444444444,
              "#bd3786"
             ],
             [
              0.5555555555555556,
              "#d8576b"
             ],
             [
              0.6666666666666666,
              "#ed7953"
             ],
             [
              0.7777777777777778,
              "#fb9f3a"
             ],
             [
              0.8888888888888888,
              "#fdca26"
             ],
             [
              1,
              "#f0f921"
             ]
            ],
            "type": "surface"
           }
          ],
          "table": [
           {
            "cells": {
             "fill": {
              "color": "#EBF0F8"
             },
             "line": {
              "color": "white"
             }
            },
            "header": {
             "fill": {
              "color": "#C8D4E3"
             },
             "line": {
              "color": "white"
             }
            },
            "type": "table"
           }
          ]
         },
         "layout": {
          "annotationdefaults": {
           "arrowcolor": "#2a3f5f",
           "arrowhead": 0,
           "arrowwidth": 1
          },
          "autotypenumbers": "strict",
          "coloraxis": {
           "colorbar": {
            "outlinewidth": 0,
            "ticks": ""
           }
          },
          "colorscale": {
           "diverging": [
            [
             0,
             "#8e0152"
            ],
            [
             0.1,
             "#c51b7d"
            ],
            [
             0.2,
             "#de77ae"
            ],
            [
             0.3,
             "#f1b6da"
            ],
            [
             0.4,
             "#fde0ef"
            ],
            [
             0.5,
             "#f7f7f7"
            ],
            [
             0.6,
             "#e6f5d0"
            ],
            [
             0.7,
             "#b8e186"
            ],
            [
             0.8,
             "#7fbc41"
            ],
            [
             0.9,
             "#4d9221"
            ],
            [
             1,
             "#276419"
            ]
           ],
           "sequential": [
            [
             0,
             "#0d0887"
            ],
            [
             0.1111111111111111,
             "#46039f"
            ],
            [
             0.2222222222222222,
             "#7201a8"
            ],
            [
             0.3333333333333333,
             "#9c179e"
            ],
            [
             0.4444444444444444,
             "#bd3786"
            ],
            [
             0.5555555555555556,
             "#d8576b"
            ],
            [
             0.6666666666666666,
             "#ed7953"
            ],
            [
             0.7777777777777778,
             "#fb9f3a"
            ],
            [
             0.8888888888888888,
             "#fdca26"
            ],
            [
             1,
             "#f0f921"
            ]
           ],
           "sequentialminus": [
            [
             0,
             "#0d0887"
            ],
            [
             0.1111111111111111,
             "#46039f"
            ],
            [
             0.2222222222222222,
             "#7201a8"
            ],
            [
             0.3333333333333333,
             "#9c179e"
            ],
            [
             0.4444444444444444,
             "#bd3786"
            ],
            [
             0.5555555555555556,
             "#d8576b"
            ],
            [
             0.6666666666666666,
             "#ed7953"
            ],
            [
             0.7777777777777778,
             "#fb9f3a"
            ],
            [
             0.8888888888888888,
             "#fdca26"
            ],
            [
             1,
             "#f0f921"
            ]
           ]
          },
          "colorway": [
           "#636efa",
           "#EF553B",
           "#00cc96",
           "#ab63fa",
           "#FFA15A",
           "#19d3f3",
           "#FF6692",
           "#B6E880",
           "#FF97FF",
           "#FECB52"
          ],
          "font": {
           "color": "#2a3f5f"
          },
          "geo": {
           "bgcolor": "white",
           "lakecolor": "white",
           "landcolor": "#E5ECF6",
           "showlakes": true,
           "showland": true,
           "subunitcolor": "white"
          },
          "hoverlabel": {
           "align": "left"
          },
          "hovermode": "closest",
          "mapbox": {
           "style": "light"
          },
          "paper_bgcolor": "white",
          "plot_bgcolor": "#E5ECF6",
          "polar": {
           "angularaxis": {
            "gridcolor": "white",
            "linecolor": "white",
            "ticks": ""
           },
           "bgcolor": "#E5ECF6",
           "radialaxis": {
            "gridcolor": "white",
            "linecolor": "white",
            "ticks": ""
           }
          },
          "scene": {
           "xaxis": {
            "backgroundcolor": "#E5ECF6",
            "gridcolor": "white",
            "gridwidth": 2,
            "linecolor": "white",
            "showbackground": true,
            "ticks": "",
            "zerolinecolor": "white"
           },
           "yaxis": {
            "backgroundcolor": "#E5ECF6",
            "gridcolor": "white",
            "gridwidth": 2,
            "linecolor": "white",
            "showbackground": true,
            "ticks": "",
            "zerolinecolor": "white"
           },
           "zaxis": {
            "backgroundcolor": "#E5ECF6",
            "gridcolor": "white",
            "gridwidth": 2,
            "linecolor": "white",
            "showbackground": true,
            "ticks": "",
            "zerolinecolor": "white"
           }
          },
          "shapedefaults": {
           "line": {
            "color": "#2a3f5f"
           }
          },
          "ternary": {
           "aaxis": {
            "gridcolor": "white",
            "linecolor": "white",
            "ticks": ""
           },
           "baxis": {
            "gridcolor": "white",
            "linecolor": "white",
            "ticks": ""
           },
           "bgcolor": "#E5ECF6",
           "caxis": {
            "gridcolor": "white",
            "linecolor": "white",
            "ticks": ""
           }
          },
          "title": {
           "x": 0.05
          },
          "xaxis": {
           "automargin": true,
           "gridcolor": "white",
           "linecolor": "white",
           "ticks": "",
           "title": {
            "standoff": 15
           },
           "zerolinecolor": "white",
           "zerolinewidth": 2
          },
          "yaxis": {
           "automargin": true,
           "gridcolor": "white",
           "linecolor": "white",
           "ticks": "",
           "title": {
            "standoff": 15
           },
           "zerolinecolor": "white",
           "zerolinewidth": 2
          }
         }
        },
        "xaxis": {
         "anchor": "y",
         "domain": [
          0,
          1
         ]
        },
        "yaxis": {
         "anchor": "x",
         "domain": [
          0,
          1
         ]
        }
       }
      },
      "text/html": [
       "<div>                            <div id=\"ffaee4ef-fdfc-4d7f-9309-56557d9072a9\" class=\"plotly-graph-div\" style=\"height:525px; width:100%;\"></div>            <script type=\"text/javascript\">                require([\"plotly\"], function(Plotly) {                    window.PLOTLYENV=window.PLOTLYENV || {};                                    if (document.getElementById(\"ffaee4ef-fdfc-4d7f-9309-56557d9072a9\")) {                    Plotly.newPlot(                        \"ffaee4ef-fdfc-4d7f-9309-56557d9072a9\",                        [{\"mode\":\"lines\",\"name\":\"Deseasonlaised_Data\",\"x\":[\"2008-10-01T00:00:00\",\"2008-11-01T00:00:00\",\"2008-12-01T00:00:00\",\"2009-01-01T00:00:00\",\"2009-02-01T00:00:00\",\"2009-03-01T00:00:00\",\"2009-04-01T00:00:00\",\"2009-05-01T00:00:00\",\"2009-06-01T00:00:00\",\"2009-07-01T00:00:00\",\"2009-08-01T00:00:00\",\"2009-09-01T00:00:00\",\"2009-10-01T00:00:00\",\"2009-11-01T00:00:00\",\"2009-12-01T00:00:00\",\"2010-01-01T00:00:00\",\"2010-02-01T00:00:00\",\"2010-03-01T00:00:00\",\"2010-04-01T00:00:00\",\"2010-05-01T00:00:00\",\"2010-06-01T00:00:00\",\"2010-07-01T00:00:00\",\"2010-08-01T00:00:00\",\"2010-09-01T00:00:00\",\"2010-10-01T00:00:00\",\"2010-11-01T00:00:00\",\"2010-12-01T00:00:00\",\"2011-01-01T00:00:00\",\"2011-02-01T00:00:00\",\"2011-03-01T00:00:00\",\"2011-04-01T00:00:00\",\"2011-05-01T00:00:00\",\"2011-06-01T00:00:00\",\"2011-07-01T00:00:00\",\"2011-08-01T00:00:00\",\"2011-09-01T00:00:00\",\"2011-10-01T00:00:00\",\"2011-11-01T00:00:00\",\"2011-12-01T00:00:00\",\"2012-01-01T00:00:00\",\"2012-02-01T00:00:00\",\"2012-03-01T00:00:00\",\"2012-04-01T00:00:00\",\"2012-05-01T00:00:00\",\"2012-06-01T00:00:00\",\"2012-07-01T00:00:00\",\"2012-08-01T00:00:00\",\"2012-09-01T00:00:00\",\"2012-10-01T00:00:00\",\"2012-11-01T00:00:00\",\"2012-12-01T00:00:00\",\"2013-01-01T00:00:00\",\"2013-02-01T00:00:00\",\"2013-03-01T00:00:00\",\"2013-04-01T00:00:00\",\"2013-05-01T00:00:00\",\"2013-06-01T00:00:00\",\"2013-07-01T00:00:00\",\"2013-08-01T00:00:00\",\"2013-09-01T00:00:00\",\"2013-10-01T00:00:00\",\"2013-11-01T00:00:00\",\"2013-12-01T00:00:00\",\"2014-01-01T00:00:00\",\"2014-02-01T00:00:00\",\"2014-03-01T00:00:00\",\"2014-04-01T00:00:00\",\"2014-05-01T00:00:00\",\"2014-06-01T00:00:00\",\"2014-07-01T00:00:00\",\"2014-08-01T00:00:00\",\"2014-09-01T00:00:00\",\"2014-10-01T00:00:00\",\"2014-11-01T00:00:00\",\"2014-12-01T00:00:00\",\"2015-01-01T00:00:00\",\"2015-02-01T00:00:00\",\"2015-03-01T00:00:00\",\"2015-04-01T00:00:00\",\"2015-05-01T00:00:00\",\"2015-06-01T00:00:00\",\"2015-07-01T00:00:00\",\"2015-08-01T00:00:00\",\"2015-09-01T00:00:00\",\"2015-10-01T00:00:00\",\"2015-11-01T00:00:00\",\"2015-12-01T00:00:00\",\"2016-01-01T00:00:00\",\"2016-02-01T00:00:00\",\"2016-03-01T00:00:00\",\"2016-04-01T00:00:00\",\"2016-05-01T00:00:00\",\"2016-06-01T00:00:00\",\"2016-07-01T00:00:00\",\"2016-08-01T00:00:00\",\"2016-09-01T00:00:00\",\"2016-10-01T00:00:00\",\"2016-11-01T00:00:00\",\"2016-12-01T00:00:00\",\"2017-01-01T00:00:00\",\"2017-02-01T00:00:00\",\"2017-03-01T00:00:00\",\"2017-04-01T00:00:00\",\"2017-05-01T00:00:00\",\"2017-06-01T00:00:00\",\"2017-07-01T00:00:00\",\"2017-08-01T00:00:00\",\"2017-09-01T00:00:00\",\"2017-10-01T00:00:00\",\"2017-11-01T00:00:00\",\"2017-12-01T00:00:00\",\"2018-01-01T00:00:00\",\"2018-02-01T00:00:00\",\"2018-03-01T00:00:00\",\"2018-04-01T00:00:00\",\"2018-05-01T00:00:00\",\"2018-06-01T00:00:00\",\"2018-07-01T00:00:00\",\"2018-08-01T00:00:00\",\"2018-09-01T00:00:00\",\"2018-10-01T00:00:00\",\"2018-11-01T00:00:00\",\"2018-12-01T00:00:00\",\"2019-01-01T00:00:00\",\"2019-02-01T00:00:00\",\"2019-03-01T00:00:00\",\"2019-04-01T00:00:00\",\"2019-05-01T00:00:00\",\"2019-06-01T00:00:00\",\"2019-07-01T00:00:00\",\"2019-08-01T00:00:00\",\"2019-09-01T00:00:00\",\"2019-10-01T00:00:00\",\"2019-11-01T00:00:00\",\"2019-12-01T00:00:00\",\"2020-01-01T00:00:00\",\"2020-02-01T00:00:00\",\"2020-03-01T00:00:00\",\"2020-04-01T00:00:00\",\"2020-05-01T00:00:00\",\"2020-06-01T00:00:00\",\"2020-07-01T00:00:00\",\"2020-08-01T00:00:00\",\"2020-09-01T00:00:00\",\"2020-10-01T00:00:00\",\"2020-11-01T00:00:00\",\"2020-12-01T00:00:00\",\"2021-01-01T00:00:00\",\"2021-02-01T00:00:00\",\"2021-03-01T00:00:00\",\"2021-04-01T00:00:00\",\"2021-05-01T00:00:00\",\"2021-06-01T00:00:00\",\"2021-07-01T00:00:00\",\"2021-08-01T00:00:00\",\"2021-09-01T00:00:00\",\"2021-10-01T00:00:00\"],\"y\":[2443.436848936082,2427.7071291012003,2440.8743769488337,2283.8515760821033,2262.5718257249264,2248.1252400321855,2318.069292038023,2336.2124021234763,2331.5469546931567,2273.1804988663844,2243.6235056354653,2162.7841329994544,2179.764303243042,2293.731168301167,2378.449342913774,2343.506358097005,2313.950088048079,2323.9794718902363,2246.237921398676,2181.611461842077,2213.7021003278915,2201.7579085998336,2205.3826237016688,2182.7322928799967,2170.3156214230657,2197.5859917606053,2222.8300961400205,2320.904962088108,2491.1981300324032,2525.317180095985,2404.1655302187764,2411.870526652399,2485.2681963844107,2488.1577269736995,2484.6495278137418,2461.9433438833958,2469.5130875890413,2544.602120296315,2712.972306928144,2903.220443074332,3046.8885798507727,3372.1167591016087,3479.272783849805,3429.6930583698177,3412.575059839106,3638.0124215504065,3806.537802068149,3722.816321218202,3662.4221311657484,3694.434864571572,3691.2613656752765,3656.618468022552,3579.64788739561,3456.430340777629,3325.4385362807466,3210.523000680574,3207.350563474367,3108.058585035546,3060.420878457278,3084.288729580444,3102.670281547311,3201.9580296012427,3165.607202258362,3158.030215767098,3204.114733418634,3295.2430318508004,3227.545473864749,3217.908262068996,3205.51745182379,3233.3652604751605,3194.083610928511,3163.246420096392,3167.3949210033097,3211.1694378378374,3336.9314548967322,3482.926274846832,3493.7900996430353,3493.7258448371085,3493.314506205686,3726.4657190848084,3877.1746214246327,3844.984422801044,3814.6960392419505,3912.9541488355835,4217.47799115555,4178.12181634644,4147.123798564134,3996.50253620812,3871.380858570481,3806.836188403348,3968.8162548841683,3967.8933326059,4055.131715943717,4184.221355097215,4155.570047846413,4058.3614641655554,3957.543731872902,4011.6983383908932,3887.72275567058,3792.137158794126,3645.4807764282027,3679.6797006472502,3620.3231466638913,3474.340115258831,3438.223136112022,3432.9134952713703,3380.9671026358815,3390.5091140165637,3345.0946563611415,3406.165430782374,3480.395680885341,3481.9659159552193,3630.452363189243,3758.234478538198,3676.4738715236344,3634.6541680863447,3661.904163587232,3710.9684322487774,3724.5813019138336,3703.205758204897,3690.35081054659,3724.7865538225938,3681.105396328516,3711.754127490837,3773.2493522626974,3723.1024273113903,3650.3237693852184,3658.054126910182,3683.317456362198,3651.3584202022507,3626.0653998435046,3630.9551678583584,3654.4753917522366,3736.615422896132,3850.408258253938,3963.8933390584025,3964.03740895701,3977.45627976709,4134.055476103961,4115.467258446969,4260.092964835465,4337.011591421368,4475.467079005708,4593.646583052874,4746.556073527762,4975.818546214778,4933.3491480452785,5134.095499282721,5264.816861447326,5226.082039102924,5732.099171142738,6306.979240797468,6236.832894993535,6341.282690310013,6648.154988373083,7127.167292396698,7189.880121349354],\"type\":\"scatter\",\"xaxis\":\"x\",\"yaxis\":\"y\"},{\"mode\":\"lines\",\"name\":\"Modal Price\",\"x\":[\"2008-10-01T00:00:00\",\"2008-11-01T00:00:00\",\"2008-12-01T00:00:00\",\"2009-01-01T00:00:00\",\"2009-02-01T00:00:00\",\"2009-03-01T00:00:00\",\"2009-04-01T00:00:00\",\"2009-05-01T00:00:00\",\"2009-06-01T00:00:00\",\"2009-07-01T00:00:00\",\"2009-08-01T00:00:00\",\"2009-09-01T00:00:00\",\"2009-10-01T00:00:00\",\"2009-11-01T00:00:00\",\"2009-12-01T00:00:00\",\"2010-01-01T00:00:00\",\"2010-02-01T00:00:00\",\"2010-03-01T00:00:00\",\"2010-04-01T00:00:00\",\"2010-05-01T00:00:00\",\"2010-06-01T00:00:00\",\"2010-07-01T00:00:00\",\"2010-08-01T00:00:00\",\"2010-09-01T00:00:00\",\"2010-10-01T00:00:00\",\"2010-11-01T00:00:00\",\"2010-12-01T00:00:00\",\"2011-01-01T00:00:00\",\"2011-02-01T00:00:00\",\"2011-03-01T00:00:00\",\"2011-04-01T00:00:00\",\"2011-05-01T00:00:00\",\"2011-06-01T00:00:00\",\"2011-07-01T00:00:00\",\"2011-08-01T00:00:00\",\"2011-09-01T00:00:00\",\"2011-10-01T00:00:00\",\"2011-11-01T00:00:00\",\"2011-12-01T00:00:00\",\"2012-01-01T00:00:00\",\"2012-02-01T00:00:00\",\"2012-03-01T00:00:00\",\"2012-04-01T00:00:00\",\"2012-05-01T00:00:00\",\"2012-06-01T00:00:00\",\"2012-07-01T00:00:00\",\"2012-08-01T00:00:00\",\"2012-09-01T00:00:00\",\"2012-10-01T00:00:00\",\"2012-11-01T00:00:00\",\"2012-12-01T00:00:00\",\"2013-01-01T00:00:00\",\"2013-02-01T00:00:00\",\"2013-03-01T00:00:00\",\"2013-04-01T00:00:00\",\"2013-05-01T00:00:00\",\"2013-06-01T00:00:00\",\"2013-07-01T00:00:00\",\"2013-08-01T00:00:00\",\"2013-09-01T00:00:00\",\"2013-10-01T00:00:00\",\"2013-11-01T00:00:00\",\"2013-12-01T00:00:00\",\"2014-01-01T00:00:00\",\"2014-02-01T00:00:00\",\"2014-03-01T00:00:00\",\"2014-04-01T00:00:00\",\"2014-05-01T00:00:00\",\"2014-06-01T00:00:00\",\"2014-07-01T00:00:00\",\"2014-08-01T00:00:00\",\"2014-09-01T00:00:00\",\"2014-10-01T00:00:00\",\"2014-11-01T00:00:00\",\"2014-12-01T00:00:00\",\"2015-01-01T00:00:00\",\"2015-02-01T00:00:00\",\"2015-03-01T00:00:00\",\"2015-04-01T00:00:00\",\"2015-05-01T00:00:00\",\"2015-06-01T00:00:00\",\"2015-07-01T00:00:00\",\"2015-08-01T00:00:00\",\"2015-09-01T00:00:00\",\"2015-10-01T00:00:00\",\"2015-11-01T00:00:00\",\"2015-12-01T00:00:00\",\"2016-01-01T00:00:00\",\"2016-02-01T00:00:00\",\"2016-03-01T00:00:00\",\"2016-04-01T00:00:00\",\"2016-05-01T00:00:00\",\"2016-06-01T00:00:00\",\"2016-07-01T00:00:00\",\"2016-08-01T00:00:00\",\"2016-09-01T00:00:00\",\"2016-10-01T00:00:00\",\"2016-11-01T00:00:00\",\"2016-12-01T00:00:00\",\"2017-01-01T00:00:00\",\"2017-02-01T00:00:00\",\"2017-03-01T00:00:00\",\"2017-04-01T00:00:00\",\"2017-05-01T00:00:00\",\"2017-06-01T00:00:00\",\"2017-07-01T00:00:00\",\"2017-08-01T00:00:00\",\"2017-09-01T00:00:00\",\"2017-10-01T00:00:00\",\"2017-11-01T00:00:00\",\"2017-12-01T00:00:00\",\"2018-01-01T00:00:00\",\"2018-02-01T00:00:00\",\"2018-03-01T00:00:00\",\"2018-04-01T00:00:00\",\"2018-05-01T00:00:00\",\"2018-06-01T00:00:00\",\"2018-07-01T00:00:00\",\"2018-08-01T00:00:00\",\"2018-09-01T00:00:00\",\"2018-10-01T00:00:00\",\"2018-11-01T00:00:00\",\"2018-12-01T00:00:00\",\"2019-01-01T00:00:00\",\"2019-02-01T00:00:00\",\"2019-03-01T00:00:00\",\"2019-04-01T00:00:00\",\"2019-05-01T00:00:00\",\"2019-06-01T00:00:00\",\"2019-07-01T00:00:00\",\"2019-08-01T00:00:00\",\"2019-09-01T00:00:00\",\"2019-10-01T00:00:00\",\"2019-11-01T00:00:00\",\"2019-12-01T00:00:00\",\"2020-01-01T00:00:00\",\"2020-02-01T00:00:00\",\"2020-03-01T00:00:00\",\"2020-04-01T00:00:00\",\"2020-05-01T00:00:00\",\"2020-06-01T00:00:00\",\"2020-07-01T00:00:00\",\"2020-08-01T00:00:00\",\"2020-09-01T00:00:00\",\"2020-10-01T00:00:00\",\"2020-11-01T00:00:00\",\"2020-12-01T00:00:00\",\"2021-01-01T00:00:00\",\"2021-02-01T00:00:00\",\"2021-03-01T00:00:00\",\"2021-04-01T00:00:00\",\"2021-05-01T00:00:00\",\"2021-06-01T00:00:00\",\"2021-07-01T00:00:00\",\"2021-08-01T00:00:00\",\"2021-09-01T00:00:00\",\"2021-10-01T00:00:00\"],\"y\":[2564.292059219381,2560.7653032036615,2576.867611232209,2348.054467182431,2147.439906197655,2011.538775977995,2156.120806959097,2258.9100474520324,2272.1027405441273,2276.7397150022803,2327.7031406210554,2271.449209589366,2300.619513526341,2426.7893424036283,2514.4425771971496,2407.7092491973326,2198.818168520808,2087.393007836046,2084.28943631975,2104.309107170633,2154.257886178862,2205.3171247357295,2289.462258687259,2291.3973694699084,2291.170831706365,2330.6441658630665,2358.823330423396,2385.1078531884355,2376.066210505132,2288.7307160417945,2242.2170451398506,2334.568171980955,2425.823982235381,2491.7169431095954,2568.729162799332,2570.6084204733074,2590.3682978723405,2677.6602943987764,2848.9655412115194,2967.4233341746594,2931.7566603235014,3135.5302950474183,3317.324298770879,3352.3907036983737,3353.1308456900765,3641.5716376863024,3890.617437053739,3831.481397808114,3783.2773414490475,3827.493038674033,3827.254599958652,3720.8213591228796,3464.5159678683385,3219.843876723439,3163.4900512018207,3133.22064600913,3147.9063493253375,3111.617801171442,3144.500513442868,3192.9538061703556,3223.52549183061,3335.016203703704,3301.6004365417375,3222.2331068674257,3088.9828138913626,3058.65656779661,3065.596988785823,3140.605907397552,3146.0732376747605,3236.9244766110564,3278.163245914101,3271.9114966863035,3288.250131286609,3344.2276119402986,3472.9246891801076,3547.1291659471594,3378.658180115764,3257.139380782918,3331.36602112676,3649.1633644133644,3817.7304072756033,3848.5436389369397,3898.7756742275405,4021.619225425495,4338.333201438849,4311.179990448902,4283.117032847509,4060.7054273084477,3756.2489390432097,3570.2497243491575,3806.8677698052425,3890.590977934456,3995.6875017946877,4187.780571233111,4239.649682832003,4167.026540755467,4078.398942156201,4144.756512493354,4023.7159899539556,3856.340049894454,3530.3488569009314,3443.09323659306,3458.3746615849655,3397.037760587387,3378.7789219629926,3436.472711407266,3465.0467376214715,3499.1741906064753,3465.9498666444406,3539.2236048848354,3616.3889151687163,3546.168807055547,3515.3204436619717,3521.6480144840075,3514.5253864447086,3557.351813414901,3602.4599494382023,3714.5276483846733,3808.6609368994236,3811.8708347948086,3811.206020829889,3857.844727925055,3817.098630611891,3775.957018591165,3658.117432735426,3486.5159632572,3488.3752843062925,3580.751772238738,3623.8732422131684,3654.9176363381466,3710.1450348290946,3739.62024444827,3775.330602035536,3869.673596998593,3986.4014925373135,4028.09623015873,3848.9054894297387,3740.8698157128997,3972.1069910250353,4038.164903775525,4200.648750686436,4340.570807557265,4559.546713991298,4702.311659642785,4867.411283811061,5108.876720317238,5069.342382328654,5198.298390383048,5149.684941920054,4989.495575048733,5570.150686063812,6229.676886126024,6177.388680844506,6344.841906445909,6732.234623358673,7235.832368986609,7310.7353316326535],\"type\":\"scatter\",\"xaxis\":\"x\",\"yaxis\":\"y\"}],                        {\"template\":{\"data\":{\"bar\":[{\"error_x\":{\"color\":\"#2a3f5f\"},\"error_y\":{\"color\":\"#2a3f5f\"},\"marker\":{\"line\":{\"color\":\"#E5ECF6\",\"width\":0.5},\"pattern\":{\"fillmode\":\"overlay\",\"size\":10,\"solidity\":0.2}},\"type\":\"bar\"}],\"barpolar\":[{\"marker\":{\"line\":{\"color\":\"#E5ECF6\",\"width\":0.5},\"pattern\":{\"fillmode\":\"overlay\",\"size\":10,\"solidity\":0.2}},\"type\":\"barpolar\"}],\"carpet\":[{\"aaxis\":{\"endlinecolor\":\"#2a3f5f\",\"gridcolor\":\"white\",\"linecolor\":\"white\",\"minorgridcolor\":\"white\",\"startlinecolor\":\"#2a3f5f\"},\"baxis\":{\"endlinecolor\":\"#2a3f5f\",\"gridcolor\":\"white\",\"linecolor\":\"white\",\"minorgridcolor\":\"white\",\"startlinecolor\":\"#2a3f5f\"},\"type\":\"carpet\"}],\"choropleth\":[{\"colorbar\":{\"outlinewidth\":0,\"ticks\":\"\"},\"type\":\"choropleth\"}],\"contour\":[{\"colorbar\":{\"outlinewidth\":0,\"ticks\":\"\"},\"colorscale\":[[0.0,\"#0d0887\"],[0.1111111111111111,\"#46039f\"],[0.2222222222222222,\"#7201a8\"],[0.3333333333333333,\"#9c179e\"],[0.4444444444444444,\"#bd3786\"],[0.5555555555555556,\"#d8576b\"],[0.6666666666666666,\"#ed7953\"],[0.7777777777777778,\"#fb9f3a\"],[0.8888888888888888,\"#fdca26\"],[1.0,\"#f0f921\"]],\"type\":\"contour\"}],\"contourcarpet\":[{\"colorbar\":{\"outlinewidth\":0,\"ticks\":\"\"},\"type\":\"contourcarpet\"}],\"heatmap\":[{\"colorbar\":{\"outlinewidth\":0,\"ticks\":\"\"},\"colorscale\":[[0.0,\"#0d0887\"],[0.1111111111111111,\"#46039f\"],[0.2222222222222222,\"#7201a8\"],[0.3333333333333333,\"#9c179e\"],[0.4444444444444444,\"#bd3786\"],[0.5555555555555556,\"#d8576b\"],[0.6666666666666666,\"#ed7953\"],[0.7777777777777778,\"#fb9f3a\"],[0.8888888888888888,\"#fdca26\"],[1.0,\"#f0f921\"]],\"type\":\"heatmap\"}],\"heatmapgl\":[{\"colorbar\":{\"outlinewidth\":0,\"ticks\":\"\"},\"colorscale\":[[0.0,\"#0d0887\"],[0.1111111111111111,\"#46039f\"],[0.2222222222222222,\"#7201a8\"],[0.3333333333333333,\"#9c179e\"],[0.4444444444444444,\"#bd3786\"],[0.5555555555555556,\"#d8576b\"],[0.6666666666666666,\"#ed7953\"],[0.7777777777777778,\"#fb9f3a\"],[0.8888888888888888,\"#fdca26\"],[1.0,\"#f0f921\"]],\"type\":\"heatmapgl\"}],\"histogram\":[{\"marker\":{\"pattern\":{\"fillmode\":\"overlay\",\"size\":10,\"solidity\":0.2}},\"type\":\"histogram\"}],\"histogram2d\":[{\"colorbar\":{\"outlinewidth\":0,\"ticks\":\"\"},\"colorscale\":[[0.0,\"#0d0887\"],[0.1111111111111111,\"#46039f\"],[0.2222222222222222,\"#7201a8\"],[0.3333333333333333,\"#9c179e\"],[0.4444444444444444,\"#bd3786\"],[0.5555555555555556,\"#d8576b\"],[0.6666666666666666,\"#ed7953\"],[0.7777777777777778,\"#fb9f3a\"],[0.8888888888888888,\"#fdca26\"],[1.0,\"#f0f921\"]],\"type\":\"histogram2d\"}],\"histogram2dcontour\":[{\"colorbar\":{\"outlinewidth\":0,\"ticks\":\"\"},\"colorscale\":[[0.0,\"#0d0887\"],[0.1111111111111111,\"#46039f\"],[0.2222222222222222,\"#7201a8\"],[0.3333333333333333,\"#9c179e\"],[0.4444444444444444,\"#bd3786\"],[0.5555555555555556,\"#d8576b\"],[0.6666666666666666,\"#ed7953\"],[0.7777777777777778,\"#fb9f3a\"],[0.8888888888888888,\"#fdca26\"],[1.0,\"#f0f921\"]],\"type\":\"histogram2dcontour\"}],\"mesh3d\":[{\"colorbar\":{\"outlinewidth\":0,\"ticks\":\"\"},\"type\":\"mesh3d\"}],\"parcoords\":[{\"line\":{\"colorbar\":{\"outlinewidth\":0,\"ticks\":\"\"}},\"type\":\"parcoords\"}],\"pie\":[{\"automargin\":true,\"type\":\"pie\"}],\"scatter\":[{\"marker\":{\"colorbar\":{\"outlinewidth\":0,\"ticks\":\"\"}},\"type\":\"scatter\"}],\"scatter3d\":[{\"line\":{\"colorbar\":{\"outlinewidth\":0,\"ticks\":\"\"}},\"marker\":{\"colorbar\":{\"outlinewidth\":0,\"ticks\":\"\"}},\"type\":\"scatter3d\"}],\"scattercarpet\":[{\"marker\":{\"colorbar\":{\"outlinewidth\":0,\"ticks\":\"\"}},\"type\":\"scattercarpet\"}],\"scattergeo\":[{\"marker\":{\"colorbar\":{\"outlinewidth\":0,\"ticks\":\"\"}},\"type\":\"scattergeo\"}],\"scattergl\":[{\"marker\":{\"colorbar\":{\"outlinewidth\":0,\"ticks\":\"\"}},\"type\":\"scattergl\"}],\"scattermapbox\":[{\"marker\":{\"colorbar\":{\"outlinewidth\":0,\"ticks\":\"\"}},\"type\":\"scattermapbox\"}],\"scatterpolar\":[{\"marker\":{\"colorbar\":{\"outlinewidth\":0,\"ticks\":\"\"}},\"type\":\"scatterpolar\"}],\"scatterpolargl\":[{\"marker\":{\"colorbar\":{\"outlinewidth\":0,\"ticks\":\"\"}},\"type\":\"scatterpolargl\"}],\"scatterternary\":[{\"marker\":{\"colorbar\":{\"outlinewidth\":0,\"ticks\":\"\"}},\"type\":\"scatterternary\"}],\"surface\":[{\"colorbar\":{\"outlinewidth\":0,\"ticks\":\"\"},\"colorscale\":[[0.0,\"#0d0887\"],[0.1111111111111111,\"#46039f\"],[0.2222222222222222,\"#7201a8\"],[0.3333333333333333,\"#9c179e\"],[0.4444444444444444,\"#bd3786\"],[0.5555555555555556,\"#d8576b\"],[0.6666666666666666,\"#ed7953\"],[0.7777777777777778,\"#fb9f3a\"],[0.8888888888888888,\"#fdca26\"],[1.0,\"#f0f921\"]],\"type\":\"surface\"}],\"table\":[{\"cells\":{\"fill\":{\"color\":\"#EBF0F8\"},\"line\":{\"color\":\"white\"}},\"header\":{\"fill\":{\"color\":\"#C8D4E3\"},\"line\":{\"color\":\"white\"}},\"type\":\"table\"}]},\"layout\":{\"annotationdefaults\":{\"arrowcolor\":\"#2a3f5f\",\"arrowhead\":0,\"arrowwidth\":1},\"autotypenumbers\":\"strict\",\"coloraxis\":{\"colorbar\":{\"outlinewidth\":0,\"ticks\":\"\"}},\"colorscale\":{\"diverging\":[[0,\"#8e0152\"],[0.1,\"#c51b7d\"],[0.2,\"#de77ae\"],[0.3,\"#f1b6da\"],[0.4,\"#fde0ef\"],[0.5,\"#f7f7f7\"],[0.6,\"#e6f5d0\"],[0.7,\"#b8e186\"],[0.8,\"#7fbc41\"],[0.9,\"#4d9221\"],[1,\"#276419\"]],\"sequential\":[[0.0,\"#0d0887\"],[0.1111111111111111,\"#46039f\"],[0.2222222222222222,\"#7201a8\"],[0.3333333333333333,\"#9c179e\"],[0.4444444444444444,\"#bd3786\"],[0.5555555555555556,\"#d8576b\"],[0.6666666666666666,\"#ed7953\"],[0.7777777777777778,\"#fb9f3a\"],[0.8888888888888888,\"#fdca26\"],[1.0,\"#f0f921\"]],\"sequentialminus\":[[0.0,\"#0d0887\"],[0.1111111111111111,\"#46039f\"],[0.2222222222222222,\"#7201a8\"],[0.3333333333333333,\"#9c179e\"],[0.4444444444444444,\"#bd3786\"],[0.5555555555555556,\"#d8576b\"],[0.6666666666666666,\"#ed7953\"],[0.7777777777777778,\"#fb9f3a\"],[0.8888888888888888,\"#fdca26\"],[1.0,\"#f0f921\"]]},\"colorway\":[\"#636efa\",\"#EF553B\",\"#00cc96\",\"#ab63fa\",\"#FFA15A\",\"#19d3f3\",\"#FF6692\",\"#B6E880\",\"#FF97FF\",\"#FECB52\"],\"font\":{\"color\":\"#2a3f5f\"},\"geo\":{\"bgcolor\":\"white\",\"lakecolor\":\"white\",\"landcolor\":\"#E5ECF6\",\"showlakes\":true,\"showland\":true,\"subunitcolor\":\"white\"},\"hoverlabel\":{\"align\":\"left\"},\"hovermode\":\"closest\",\"mapbox\":{\"style\":\"light\"},\"paper_bgcolor\":\"white\",\"plot_bgcolor\":\"#E5ECF6\",\"polar\":{\"angularaxis\":{\"gridcolor\":\"white\",\"linecolor\":\"white\",\"ticks\":\"\"},\"bgcolor\":\"#E5ECF6\",\"radialaxis\":{\"gridcolor\":\"white\",\"linecolor\":\"white\",\"ticks\":\"\"}},\"scene\":{\"xaxis\":{\"backgroundcolor\":\"#E5ECF6\",\"gridcolor\":\"white\",\"gridwidth\":2,\"linecolor\":\"white\",\"showbackground\":true,\"ticks\":\"\",\"zerolinecolor\":\"white\"},\"yaxis\":{\"backgroundcolor\":\"#E5ECF6\",\"gridcolor\":\"white\",\"gridwidth\":2,\"linecolor\":\"white\",\"showbackground\":true,\"ticks\":\"\",\"zerolinecolor\":\"white\"},\"zaxis\":{\"backgroundcolor\":\"#E5ECF6\",\"gridcolor\":\"white\",\"gridwidth\":2,\"linecolor\":\"white\",\"showbackground\":true,\"ticks\":\"\",\"zerolinecolor\":\"white\"}},\"shapedefaults\":{\"line\":{\"color\":\"#2a3f5f\"}},\"ternary\":{\"aaxis\":{\"gridcolor\":\"white\",\"linecolor\":\"white\",\"ticks\":\"\"},\"baxis\":{\"gridcolor\":\"white\",\"linecolor\":\"white\",\"ticks\":\"\"},\"bgcolor\":\"#E5ECF6\",\"caxis\":{\"gridcolor\":\"white\",\"linecolor\":\"white\",\"ticks\":\"\"}},\"title\":{\"x\":0.05},\"xaxis\":{\"automargin\":true,\"gridcolor\":\"white\",\"linecolor\":\"white\",\"ticks\":\"\",\"title\":{\"standoff\":15},\"zerolinecolor\":\"white\",\"zerolinewidth\":2},\"yaxis\":{\"automargin\":true,\"gridcolor\":\"white\",\"linecolor\":\"white\",\"ticks\":\"\",\"title\":{\"standoff\":15},\"zerolinecolor\":\"white\",\"zerolinewidth\":2}}},\"xaxis\":{\"anchor\":\"y\",\"domain\":[0.0,1.0]},\"yaxis\":{\"anchor\":\"x\",\"domain\":[0.0,1.0]}},                        {\"responsive\": true}                    ).then(function(){\n",
       "                            \n",
       "var gd = document.getElementById('ffaee4ef-fdfc-4d7f-9309-56557d9072a9');\n",
       "var x = new MutationObserver(function (mutations, observer) {{\n",
       "        var display = window.getComputedStyle(gd).display;\n",
       "        if (!display || display === 'none') {{\n",
       "            console.log([gd, 'removed!']);\n",
       "            Plotly.purge(gd);\n",
       "            observer.disconnect();\n",
       "        }}\n",
       "}});\n",
       "\n",
       "// Listen for the removal of the full notebook cells\n",
       "var notebookContainer = gd.closest('#notebook-container');\n",
       "if (notebookContainer) {{\n",
       "    x.observe(notebookContainer, {childList: true});\n",
       "}}\n",
       "\n",
       "// Listen for the clearing of the current output cell\n",
       "var outputEl = gd.closest('.output');\n",
       "if (outputEl) {{\n",
       "    x.observe(outputEl, {childList: true});\n",
       "}}\n",
       "\n",
       "                        })                };                });            </script>        </div>"
      ]
     },
     "metadata": {},
     "output_type": "display_data"
    }
   ],
   "source": [
    "fig = go.Figure()\n",
    "fig = make_subplots(rows=1, cols=1)\n",
    "\n",
    "fig.add_trace(go.Scatter(x=outer_join_df[outer_join_df['SMA(12)'].notnull()].index,\n",
    "                         y=outer_join_df[outer_join_df['SMA(12)'].notnull()]['Deseasonlaised_Data'],\n",
    "                         mode='lines',name = \"Deseasonlaised_Data\") , row=1, col=1)\n",
    "    \n",
    "    \n",
    "\n",
    "fig.add_trace(go.Scatter(x=outer_join_df[outer_join_df['SMA(12)'].notnull()].index,\n",
    "                         y=outer_join_df[outer_join_df['SMA(12)'].notnull()]['Modal Price (Rs./Quintal)'],\n",
    "                         mode='lines' , name = \"Modal Price\"),row=1, col=1)"
   ]
  },
  {
   "cell_type": "code",
   "execution_count": 45,
   "id": "026ac23d",
   "metadata": {},
   "outputs": [],
   "source": [
    "outer_join_df['Stationary'] = outer_join_df[outer_join_df['SMA(12)'].notnull()]['Deseasonlaised_Data'] - outer_join_df[outer_join_df['SMA(12)'].notnull()]['SMA(12)']"
   ]
  },
  {
   "cell_type": "code",
   "execution_count": 48,
   "id": "7f7e2e05",
   "metadata": {},
   "outputs": [
    {
     "data": {
      "text/html": [
       "<div>\n",
       "<style scoped>\n",
       "    .dataframe tbody tr th:only-of-type {\n",
       "        vertical-align: middle;\n",
       "    }\n",
       "\n",
       "    .dataframe tbody tr th {\n",
       "        vertical-align: top;\n",
       "    }\n",
       "\n",
       "    .dataframe thead th {\n",
       "        text-align: right;\n",
       "    }\n",
       "</style>\n",
       "<table border=\"1\" class=\"dataframe\">\n",
       "  <thead>\n",
       "    <tr style=\"text-align: right;\">\n",
       "      <th></th>\n",
       "      <th>Min Price (Rs./Quintal)</th>\n",
       "      <th>Max Price (Rs./Quintal)</th>\n",
       "      <th>Modal Price (Rs./Quintal)</th>\n",
       "      <th>Year</th>\n",
       "      <th>Month</th>\n",
       "      <th>SMA(12)</th>\n",
       "      <th>Price-SMA(12)</th>\n",
       "      <th>Seasonal_Average</th>\n",
       "      <th>Deseasonlaised_Data</th>\n",
       "      <th>Stationary</th>\n",
       "    </tr>\n",
       "    <tr>\n",
       "      <th>Yr-mon</th>\n",
       "      <th></th>\n",
       "      <th></th>\n",
       "      <th></th>\n",
       "      <th></th>\n",
       "      <th></th>\n",
       "      <th></th>\n",
       "      <th></th>\n",
       "      <th></th>\n",
       "      <th></th>\n",
       "      <th></th>\n",
       "    </tr>\n",
       "  </thead>\n",
       "  <tbody>\n",
       "    <tr>\n",
       "      <th>2008-10-01</th>\n",
       "      <td>2199.782344</td>\n",
       "      <td>2370.968582</td>\n",
       "      <td>2564.292059</td>\n",
       "      <td>2008</td>\n",
       "      <td>10</td>\n",
       "      <td>2426.091588</td>\n",
       "      <td>138.200471</td>\n",
       "      <td>120.855210</td>\n",
       "      <td>2443.436849</td>\n",
       "      <td>17.345261</td>\n",
       "    </tr>\n",
       "    <tr>\n",
       "      <th>2008-11-01</th>\n",
       "      <td>2268.931493</td>\n",
       "      <td>2411.326838</td>\n",
       "      <td>2560.765303</td>\n",
       "      <td>2008</td>\n",
       "      <td>11</td>\n",
       "      <td>2418.680233</td>\n",
       "      <td>142.085071</td>\n",
       "      <td>133.058174</td>\n",
       "      <td>2427.707129</td>\n",
       "      <td>9.026896</td>\n",
       "    </tr>\n",
       "    <tr>\n",
       "      <th>2008-12-01</th>\n",
       "      <td>2240.490319</td>\n",
       "      <td>2419.771060</td>\n",
       "      <td>2576.867611</td>\n",
       "      <td>2008</td>\n",
       "      <td>12</td>\n",
       "      <td>2412.419330</td>\n",
       "      <td>164.448282</td>\n",
       "      <td>135.993234</td>\n",
       "      <td>2440.874377</td>\n",
       "      <td>28.455047</td>\n",
       "    </tr>\n",
       "    <tr>\n",
       "      <th>2009-01-01</th>\n",
       "      <td>1983.314762</td>\n",
       "      <td>2208.951741</td>\n",
       "      <td>2348.054467</td>\n",
       "      <td>2009</td>\n",
       "      <td>1</td>\n",
       "      <td>2387.354526</td>\n",
       "      <td>-39.300059</td>\n",
       "      <td>64.202891</td>\n",
       "      <td>2283.851576</td>\n",
       "      <td>-103.502950</td>\n",
       "    </tr>\n",
       "    <tr>\n",
       "      <th>2009-02-01</th>\n",
       "      <td>1830.037688</td>\n",
       "      <td>2039.327834</td>\n",
       "      <td>2147.439906</td>\n",
       "      <td>2009</td>\n",
       "      <td>2</td>\n",
       "      <td>2360.518100</td>\n",
       "      <td>-213.078194</td>\n",
       "      <td>-115.131920</td>\n",
       "      <td>2262.571826</td>\n",
       "      <td>-97.946274</td>\n",
       "    </tr>\n",
       "    <tr>\n",
       "      <th>...</th>\n",
       "      <td>...</td>\n",
       "      <td>...</td>\n",
       "      <td>...</td>\n",
       "      <td>...</td>\n",
       "      <td>...</td>\n",
       "      <td>...</td>\n",
       "      <td>...</td>\n",
       "      <td>...</td>\n",
       "      <td>...</td>\n",
       "      <td>...</td>\n",
       "    </tr>\n",
       "    <tr>\n",
       "      <th>2021-06-01</th>\n",
       "      <td>5989.137463</td>\n",
       "      <td>6300.593042</td>\n",
       "      <td>6177.388681</td>\n",
       "      <td>2021</td>\n",
       "      <td>6</td>\n",
       "      <td>6111.001863</td>\n",
       "      <td>66.386818</td>\n",
       "      <td>-59.444214</td>\n",
       "      <td>6236.832895</td>\n",
       "      <td>125.831032</td>\n",
       "    </tr>\n",
       "    <tr>\n",
       "      <th>2021-07-01</th>\n",
       "      <td>6166.852757</td>\n",
       "      <td>6452.764186</td>\n",
       "      <td>6344.841906</td>\n",
       "      <td>2021</td>\n",
       "      <td>7</td>\n",
       "      <td>6279.931161</td>\n",
       "      <td>64.910745</td>\n",
       "      <td>3.559216</td>\n",
       "      <td>6341.282690</td>\n",
       "      <td>61.351529</td>\n",
       "    </tr>\n",
       "    <tr>\n",
       "      <th>2021-08-01</th>\n",
       "      <td>6545.549413</td>\n",
       "      <td>6840.657049</td>\n",
       "      <td>6732.234623</td>\n",
       "      <td>2021</td>\n",
       "      <td>8</td>\n",
       "      <td>6417.337933</td>\n",
       "      <td>314.896690</td>\n",
       "      <td>84.079635</td>\n",
       "      <td>6648.154988</td>\n",
       "      <td>230.817055</td>\n",
       "    </tr>\n",
       "    <tr>\n",
       "      <th>2021-09-01</th>\n",
       "      <td>7039.999173</td>\n",
       "      <td>7348.164655</td>\n",
       "      <td>7235.832369</td>\n",
       "      <td>2021</td>\n",
       "      <td>9</td>\n",
       "      <td>6541.561708</td>\n",
       "      <td>694.270661</td>\n",
       "      <td>108.665077</td>\n",
       "      <td>7127.167292</td>\n",
       "      <td>585.605584</td>\n",
       "    </tr>\n",
       "    <tr>\n",
       "      <th>2021-10-01</th>\n",
       "      <td>7132.419096</td>\n",
       "      <td>7423.933856</td>\n",
       "      <td>7310.735332</td>\n",
       "      <td>2021</td>\n",
       "      <td>10</td>\n",
       "      <td>6657.801596</td>\n",
       "      <td>652.933736</td>\n",
       "      <td>120.855210</td>\n",
       "      <td>7189.880121</td>\n",
       "      <td>532.078525</td>\n",
       "    </tr>\n",
       "  </tbody>\n",
       "</table>\n",
       "<p>157 rows × 10 columns</p>\n",
       "</div>"
      ],
      "text/plain": [
       "            Min Price (Rs./Quintal)  Max Price (Rs./Quintal)  \\\n",
       "Yr-mon                                                         \n",
       "2008-10-01              2199.782344              2370.968582   \n",
       "2008-11-01              2268.931493              2411.326838   \n",
       "2008-12-01              2240.490319              2419.771060   \n",
       "2009-01-01              1983.314762              2208.951741   \n",
       "2009-02-01              1830.037688              2039.327834   \n",
       "...                             ...                      ...   \n",
       "2021-06-01              5989.137463              6300.593042   \n",
       "2021-07-01              6166.852757              6452.764186   \n",
       "2021-08-01              6545.549413              6840.657049   \n",
       "2021-09-01              7039.999173              7348.164655   \n",
       "2021-10-01              7132.419096              7423.933856   \n",
       "\n",
       "            Modal Price (Rs./Quintal)  Year  Month      SMA(12)  \\\n",
       "Yr-mon                                                            \n",
       "2008-10-01                2564.292059  2008     10  2426.091588   \n",
       "2008-11-01                2560.765303  2008     11  2418.680233   \n",
       "2008-12-01                2576.867611  2008     12  2412.419330   \n",
       "2009-01-01                2348.054467  2009      1  2387.354526   \n",
       "2009-02-01                2147.439906  2009      2  2360.518100   \n",
       "...                               ...   ...    ...          ...   \n",
       "2021-06-01                6177.388681  2021      6  6111.001863   \n",
       "2021-07-01                6344.841906  2021      7  6279.931161   \n",
       "2021-08-01                6732.234623  2021      8  6417.337933   \n",
       "2021-09-01                7235.832369  2021      9  6541.561708   \n",
       "2021-10-01                7310.735332  2021     10  6657.801596   \n",
       "\n",
       "            Price-SMA(12)  Seasonal_Average  Deseasonlaised_Data  Stationary  \n",
       "Yr-mon                                                                        \n",
       "2008-10-01     138.200471        120.855210          2443.436849   17.345261  \n",
       "2008-11-01     142.085071        133.058174          2427.707129    9.026896  \n",
       "2008-12-01     164.448282        135.993234          2440.874377   28.455047  \n",
       "2009-01-01     -39.300059         64.202891          2283.851576 -103.502950  \n",
       "2009-02-01    -213.078194       -115.131920          2262.571826  -97.946274  \n",
       "...                   ...               ...                  ...         ...  \n",
       "2021-06-01      66.386818        -59.444214          6236.832895  125.831032  \n",
       "2021-07-01      64.910745          3.559216          6341.282690   61.351529  \n",
       "2021-08-01     314.896690         84.079635          6648.154988  230.817055  \n",
       "2021-09-01     694.270661        108.665077          7127.167292  585.605584  \n",
       "2021-10-01     652.933736        120.855210          7189.880121  532.078525  \n",
       "\n",
       "[157 rows x 10 columns]"
      ]
     },
     "execution_count": 48,
     "metadata": {},
     "output_type": "execute_result"
    }
   ],
   "source": [
    "outer_join_df[outer_join_df['SMA(12)'].notnull()]"
   ]
  },
  {
   "cell_type": "code",
   "execution_count": 50,
   "id": "811646f2",
   "metadata": {},
   "outputs": [
    {
     "data": {
      "application/vnd.plotly.v1+json": {
       "config": {
        "plotlyServerURL": "https://plot.ly"
       },
       "data": [
        {
         "mode": "lines",
         "name": "Stationary",
         "type": "scatter",
         "x": [
          "2008-10-01T00:00:00",
          "2008-11-01T00:00:00",
          "2008-12-01T00:00:00",
          "2009-01-01T00:00:00",
          "2009-02-01T00:00:00",
          "2009-03-01T00:00:00",
          "2009-04-01T00:00:00",
          "2009-05-01T00:00:00",
          "2009-06-01T00:00:00",
          "2009-07-01T00:00:00",
          "2009-08-01T00:00:00",
          "2009-09-01T00:00:00",
          "2009-10-01T00:00:00",
          "2009-11-01T00:00:00",
          "2009-12-01T00:00:00",
          "2010-01-01T00:00:00",
          "2010-02-01T00:00:00",
          "2010-03-01T00:00:00",
          "2010-04-01T00:00:00",
          "2010-05-01T00:00:00",
          "2010-06-01T00:00:00",
          "2010-07-01T00:00:00",
          "2010-08-01T00:00:00",
          "2010-09-01T00:00:00",
          "2010-10-01T00:00:00",
          "2010-11-01T00:00:00",
          "2010-12-01T00:00:00",
          "2011-01-01T00:00:00",
          "2011-02-01T00:00:00",
          "2011-03-01T00:00:00",
          "2011-04-01T00:00:00",
          "2011-05-01T00:00:00",
          "2011-06-01T00:00:00",
          "2011-07-01T00:00:00",
          "2011-08-01T00:00:00",
          "2011-09-01T00:00:00",
          "2011-10-01T00:00:00",
          "2011-11-01T00:00:00",
          "2011-12-01T00:00:00",
          "2012-01-01T00:00:00",
          "2012-02-01T00:00:00",
          "2012-03-01T00:00:00",
          "2012-04-01T00:00:00",
          "2012-05-01T00:00:00",
          "2012-06-01T00:00:00",
          "2012-07-01T00:00:00",
          "2012-08-01T00:00:00",
          "2012-09-01T00:00:00",
          "2012-10-01T00:00:00",
          "2012-11-01T00:00:00",
          "2012-12-01T00:00:00",
          "2013-01-01T00:00:00",
          "2013-02-01T00:00:00",
          "2013-03-01T00:00:00",
          "2013-04-01T00:00:00",
          "2013-05-01T00:00:00",
          "2013-06-01T00:00:00",
          "2013-07-01T00:00:00",
          "2013-08-01T00:00:00",
          "2013-09-01T00:00:00",
          "2013-10-01T00:00:00",
          "2013-11-01T00:00:00",
          "2013-12-01T00:00:00",
          "2014-01-01T00:00:00",
          "2014-02-01T00:00:00",
          "2014-03-01T00:00:00",
          "2014-04-01T00:00:00",
          "2014-05-01T00:00:00",
          "2014-06-01T00:00:00",
          "2014-07-01T00:00:00",
          "2014-08-01T00:00:00",
          "2014-09-01T00:00:00",
          "2014-10-01T00:00:00",
          "2014-11-01T00:00:00",
          "2014-12-01T00:00:00",
          "2015-01-01T00:00:00",
          "2015-02-01T00:00:00",
          "2015-03-01T00:00:00",
          "2015-04-01T00:00:00",
          "2015-05-01T00:00:00",
          "2015-06-01T00:00:00",
          "2015-07-01T00:00:00",
          "2015-08-01T00:00:00",
          "2015-09-01T00:00:00",
          "2015-10-01T00:00:00",
          "2015-11-01T00:00:00",
          "2015-12-01T00:00:00",
          "2016-01-01T00:00:00",
          "2016-02-01T00:00:00",
          "2016-03-01T00:00:00",
          "2016-04-01T00:00:00",
          "2016-05-01T00:00:00",
          "2016-06-01T00:00:00",
          "2016-07-01T00:00:00",
          "2016-08-01T00:00:00",
          "2016-09-01T00:00:00",
          "2016-10-01T00:00:00",
          "2016-11-01T00:00:00",
          "2016-12-01T00:00:00",
          "2017-01-01T00:00:00",
          "2017-02-01T00:00:00",
          "2017-03-01T00:00:00",
          "2017-04-01T00:00:00",
          "2017-05-01T00:00:00",
          "2017-06-01T00:00:00",
          "2017-07-01T00:00:00",
          "2017-08-01T00:00:00",
          "2017-09-01T00:00:00",
          "2017-10-01T00:00:00",
          "2017-11-01T00:00:00",
          "2017-12-01T00:00:00",
          "2018-01-01T00:00:00",
          "2018-02-01T00:00:00",
          "2018-03-01T00:00:00",
          "2018-04-01T00:00:00",
          "2018-05-01T00:00:00",
          "2018-06-01T00:00:00",
          "2018-07-01T00:00:00",
          "2018-08-01T00:00:00",
          "2018-09-01T00:00:00",
          "2018-10-01T00:00:00",
          "2018-11-01T00:00:00",
          "2018-12-01T00:00:00",
          "2019-01-01T00:00:00",
          "2019-02-01T00:00:00",
          "2019-03-01T00:00:00",
          "2019-04-01T00:00:00",
          "2019-05-01T00:00:00",
          "2019-06-01T00:00:00",
          "2019-07-01T00:00:00",
          "2019-08-01T00:00:00",
          "2019-09-01T00:00:00",
          "2019-10-01T00:00:00",
          "2019-11-01T00:00:00",
          "2019-12-01T00:00:00",
          "2020-01-01T00:00:00",
          "2020-02-01T00:00:00",
          "2020-03-01T00:00:00",
          "2020-04-01T00:00:00",
          "2020-05-01T00:00:00",
          "2020-06-01T00:00:00",
          "2020-07-01T00:00:00",
          "2020-08-01T00:00:00",
          "2020-09-01T00:00:00",
          "2020-10-01T00:00:00",
          "2020-11-01T00:00:00",
          "2020-12-01T00:00:00",
          "2021-01-01T00:00:00",
          "2021-02-01T00:00:00",
          "2021-03-01T00:00:00",
          "2021-04-01T00:00:00",
          "2021-05-01T00:00:00",
          "2021-06-01T00:00:00",
          "2021-07-01T00:00:00",
          "2021-08-01T00:00:00",
          "2021-09-01T00:00:00",
          "2021-10-01T00:00:00"
         ],
         "xaxis": "x",
         "y": [
          17.34526067857132,
          9.026896426942585,
          28.455047244963225,
          -103.50294985526216,
          -97.94627445976812,
          -90.0985873117038,
          3.737310106248515,
          43.853132332788846,
          50.35234830247191,
          -2.812021354712215,
          -37.34024642020631,
          -122.46114091647996,
          -111.80215666106324,
          8.150655950340479,
          105.7522422530642,
          80.62966196673369,
          57.02527444002044,
          70.2413984433274,
          -9.162498704944937,
          -73.00156810987892,
          -32.8988315790175,
          -31.874752742595774,
          -26.36658797335258,
          -63.787588960385165,
          -92.98240276779507,
          -78.87266649859703,
          -72.81681752004215,
          2.6275404233351765,
          149.0540568364754,
          159.90086489071746,
          15.481627429892342,
          -1.746498316983434,
          42.73316070371902,
          4.777507060664448,
          -47.256982181478634,
          -116.27070359668824,
          -179.26759147484518,
          -193.77082990349027,
          -110.21918758144648,
          2.7533766101832953,
          50.60028883856512,
          265.671111901534,
          267.75438853849664,
          118.7655760937837,
          5.828182206800648,
          149.74145568917356,
          255.48366746123065,
          127.36557764921417,
          59.94525579042556,
          104.777509827004,
          119.86818240481216,
          102.3273261158156,
          69.51956519844543,
          8.478428881371201,
          -69.30274297903225,
          -137.57229111100105,
          -99.70499206968134,
          -155.192456890426,
          -161.28114244740573,
          -106.11886182615899,
          -74.30503411538984,
          33.14046913987522,
          -3.825796652040026,
          -11.250023839089408,
          24.392270859145356,
          104.38200825204194,
          30.104642722995322,
          15.073710972575554,
          1.9152833743200972,
          15.486070972492598,
          -50.87025016413418,
          -105.84705484828692,
          -118.23878835689493,
          -96.61169088411134,
          -13.22946190986795,
          76.79392724016134,
          36.68948850920833,
          -15.09246865617206,
          -77.97945134919428,
          67.66483901724132,
          137.794376481349,
          38.088149218810486,
          -34.998256120391034,
          31.793956895955034,
          310.22527058540163,
          231.24395005308497,
          180.12696447735425,
          14.675944244751008,
          -138.71547775090266,
          -231.66631530174118,
          -81.80352509841896,
          -61.06525910313303,
          40.04174739764676,
          190.74814012560682,
          179.12728099263813,
          100.74370415697058,
          10.522345843991843,
          93.7180447136725,
          10.871896772281616,
          -33.30465178486429,
          -117.35204583196719,
          -18.602876178708357,
          -22.30506764965139,
          -117.25067609539838,
          -102.90657960816407,
          -74.272297550046,
          -100.37108661562615,
          -89.57670746503072,
          -141.53739661136524,
          -85.14584926177758,
          -24.27510356110315,
          -41.344954114159464,
          83.9702483717474,
          183.1178471142057,
          75.29918641728136,
          4.708136797871248,
          5.406372045406442,
          37.744831086687554,
          32.2086831237757,
          -1.0666096746153926,
          -10.993886397355254,
          25.6210320568498,
          -20.01012200588093,
          8.85416809185972,
          75.31689386759717,
          33.37962742215086,
          -33.37814797514238,
          -22.65817221731686,
          1.6194181452374323,
          -44.448189841828025,
          -90.75281116453743,
          -101.76204787420966,
          -99.43797835164014,
          -57.6089227676398,
          18.06615162876733,
          83.4866067271264,
          26.49291235747296,
          -30.87169009596346,
          45.50322164136469,
          -64.09171949692063,
          -22.732940051645528,
          -36.05938761502057,
          4.87925328395886,
          14.660469623599056,
          63.51781348716759,
          159.60997825428512,
          -65.48541844442298,
          -29.467394720152697,
          -65.76862412960054,
          -285.5607722546183,
          9.329634006543529,
          380.59936634280893,
          125.83103175799715,
          61.35152894763269,
          230.81705533196873,
          585.6055839425544,
          532.0785252346468
         ],
         "yaxis": "y"
        },
        {
         "mode": "lines",
         "name": "Deseasonlaised_Data",
         "type": "scatter",
         "x": [
          "2008-10-01T00:00:00",
          "2008-11-01T00:00:00",
          "2008-12-01T00:00:00",
          "2009-01-01T00:00:00",
          "2009-02-01T00:00:00",
          "2009-03-01T00:00:00",
          "2009-04-01T00:00:00",
          "2009-05-01T00:00:00",
          "2009-06-01T00:00:00",
          "2009-07-01T00:00:00",
          "2009-08-01T00:00:00",
          "2009-09-01T00:00:00",
          "2009-10-01T00:00:00",
          "2009-11-01T00:00:00",
          "2009-12-01T00:00:00",
          "2010-01-01T00:00:00",
          "2010-02-01T00:00:00",
          "2010-03-01T00:00:00",
          "2010-04-01T00:00:00",
          "2010-05-01T00:00:00",
          "2010-06-01T00:00:00",
          "2010-07-01T00:00:00",
          "2010-08-01T00:00:00",
          "2010-09-01T00:00:00",
          "2010-10-01T00:00:00",
          "2010-11-01T00:00:00",
          "2010-12-01T00:00:00",
          "2011-01-01T00:00:00",
          "2011-02-01T00:00:00",
          "2011-03-01T00:00:00",
          "2011-04-01T00:00:00",
          "2011-05-01T00:00:00",
          "2011-06-01T00:00:00",
          "2011-07-01T00:00:00",
          "2011-08-01T00:00:00",
          "2011-09-01T00:00:00",
          "2011-10-01T00:00:00",
          "2011-11-01T00:00:00",
          "2011-12-01T00:00:00",
          "2012-01-01T00:00:00",
          "2012-02-01T00:00:00",
          "2012-03-01T00:00:00",
          "2012-04-01T00:00:00",
          "2012-05-01T00:00:00",
          "2012-06-01T00:00:00",
          "2012-07-01T00:00:00",
          "2012-08-01T00:00:00",
          "2012-09-01T00:00:00",
          "2012-10-01T00:00:00",
          "2012-11-01T00:00:00",
          "2012-12-01T00:00:00",
          "2013-01-01T00:00:00",
          "2013-02-01T00:00:00",
          "2013-03-01T00:00:00",
          "2013-04-01T00:00:00",
          "2013-05-01T00:00:00",
          "2013-06-01T00:00:00",
          "2013-07-01T00:00:00",
          "2013-08-01T00:00:00",
          "2013-09-01T00:00:00",
          "2013-10-01T00:00:00",
          "2013-11-01T00:00:00",
          "2013-12-01T00:00:00",
          "2014-01-01T00:00:00",
          "2014-02-01T00:00:00",
          "2014-03-01T00:00:00",
          "2014-04-01T00:00:00",
          "2014-05-01T00:00:00",
          "2014-06-01T00:00:00",
          "2014-07-01T00:00:00",
          "2014-08-01T00:00:00",
          "2014-09-01T00:00:00",
          "2014-10-01T00:00:00",
          "2014-11-01T00:00:00",
          "2014-12-01T00:00:00",
          "2015-01-01T00:00:00",
          "2015-02-01T00:00:00",
          "2015-03-01T00:00:00",
          "2015-04-01T00:00:00",
          "2015-05-01T00:00:00",
          "2015-06-01T00:00:00",
          "2015-07-01T00:00:00",
          "2015-08-01T00:00:00",
          "2015-09-01T00:00:00",
          "2015-10-01T00:00:00",
          "2015-11-01T00:00:00",
          "2015-12-01T00:00:00",
          "2016-01-01T00:00:00",
          "2016-02-01T00:00:00",
          "2016-03-01T00:00:00",
          "2016-04-01T00:00:00",
          "2016-05-01T00:00:00",
          "2016-06-01T00:00:00",
          "2016-07-01T00:00:00",
          "2016-08-01T00:00:00",
          "2016-09-01T00:00:00",
          "2016-10-01T00:00:00",
          "2016-11-01T00:00:00",
          "2016-12-01T00:00:00",
          "2017-01-01T00:00:00",
          "2017-02-01T00:00:00",
          "2017-03-01T00:00:00",
          "2017-04-01T00:00:00",
          "2017-05-01T00:00:00",
          "2017-06-01T00:00:00",
          "2017-07-01T00:00:00",
          "2017-08-01T00:00:00",
          "2017-09-01T00:00:00",
          "2017-10-01T00:00:00",
          "2017-11-01T00:00:00",
          "2017-12-01T00:00:00",
          "2018-01-01T00:00:00",
          "2018-02-01T00:00:00",
          "2018-03-01T00:00:00",
          "2018-04-01T00:00:00",
          "2018-05-01T00:00:00",
          "2018-06-01T00:00:00",
          "2018-07-01T00:00:00",
          "2018-08-01T00:00:00",
          "2018-09-01T00:00:00",
          "2018-10-01T00:00:00",
          "2018-11-01T00:00:00",
          "2018-12-01T00:00:00",
          "2019-01-01T00:00:00",
          "2019-02-01T00:00:00",
          "2019-03-01T00:00:00",
          "2019-04-01T00:00:00",
          "2019-05-01T00:00:00",
          "2019-06-01T00:00:00",
          "2019-07-01T00:00:00",
          "2019-08-01T00:00:00",
          "2019-09-01T00:00:00",
          "2019-10-01T00:00:00",
          "2019-11-01T00:00:00",
          "2019-12-01T00:00:00",
          "2020-01-01T00:00:00",
          "2020-02-01T00:00:00",
          "2020-03-01T00:00:00",
          "2020-04-01T00:00:00",
          "2020-05-01T00:00:00",
          "2020-06-01T00:00:00",
          "2020-07-01T00:00:00",
          "2020-08-01T00:00:00",
          "2020-09-01T00:00:00",
          "2020-10-01T00:00:00",
          "2020-11-01T00:00:00",
          "2020-12-01T00:00:00",
          "2021-01-01T00:00:00",
          "2021-02-01T00:00:00",
          "2021-03-01T00:00:00",
          "2021-04-01T00:00:00",
          "2021-05-01T00:00:00",
          "2021-06-01T00:00:00",
          "2021-07-01T00:00:00",
          "2021-08-01T00:00:00",
          "2021-09-01T00:00:00",
          "2021-10-01T00:00:00"
         ],
         "xaxis": "x",
         "y": [
          2443.436848936082,
          2427.7071291012003,
          2440.8743769488337,
          2283.8515760821033,
          2262.5718257249264,
          2248.1252400321855,
          2318.069292038023,
          2336.2124021234763,
          2331.5469546931567,
          2273.1804988663844,
          2243.6235056354653,
          2162.7841329994544,
          2179.764303243042,
          2293.731168301167,
          2378.449342913774,
          2343.506358097005,
          2313.950088048079,
          2323.9794718902363,
          2246.237921398676,
          2181.611461842077,
          2213.7021003278915,
          2201.7579085998336,
          2205.3826237016688,
          2182.7322928799967,
          2170.3156214230657,
          2197.5859917606053,
          2222.8300961400205,
          2320.904962088108,
          2491.1981300324032,
          2525.317180095985,
          2404.1655302187764,
          2411.870526652399,
          2485.2681963844107,
          2488.1577269736995,
          2484.6495278137418,
          2461.9433438833958,
          2469.5130875890413,
          2544.602120296315,
          2712.972306928144,
          2903.220443074332,
          3046.8885798507727,
          3372.1167591016087,
          3479.272783849805,
          3429.6930583698177,
          3412.575059839106,
          3638.0124215504065,
          3806.537802068149,
          3722.816321218202,
          3662.4221311657484,
          3694.434864571572,
          3691.2613656752765,
          3656.618468022552,
          3579.64788739561,
          3456.430340777629,
          3325.4385362807466,
          3210.523000680574,
          3207.350563474367,
          3108.058585035546,
          3060.420878457278,
          3084.288729580444,
          3102.670281547311,
          3201.9580296012427,
          3165.607202258362,
          3158.030215767098,
          3204.114733418634,
          3295.2430318508004,
          3227.545473864749,
          3217.908262068996,
          3205.51745182379,
          3233.3652604751605,
          3194.083610928511,
          3163.246420096392,
          3167.3949210033097,
          3211.1694378378374,
          3336.9314548967322,
          3482.926274846832,
          3493.7900996430353,
          3493.7258448371085,
          3493.314506205686,
          3726.4657190848084,
          3877.1746214246327,
          3844.984422801044,
          3814.6960392419505,
          3912.9541488355835,
          4217.47799115555,
          4178.12181634644,
          4147.123798564134,
          3996.50253620812,
          3871.380858570481,
          3806.836188403348,
          3968.8162548841683,
          3967.8933326059,
          4055.131715943717,
          4184.221355097215,
          4155.570047846413,
          4058.3614641655554,
          3957.543731872902,
          4011.6983383908932,
          3887.72275567058,
          3792.137158794126,
          3645.4807764282027,
          3679.6797006472502,
          3620.3231466638913,
          3474.340115258831,
          3438.223136112022,
          3432.9134952713703,
          3380.9671026358815,
          3390.5091140165637,
          3345.0946563611415,
          3406.165430782374,
          3480.395680885341,
          3481.9659159552193,
          3630.452363189243,
          3758.234478538198,
          3676.4738715236344,
          3634.6541680863447,
          3661.904163587232,
          3710.9684322487774,
          3724.5813019138336,
          3703.205758204897,
          3690.35081054659,
          3724.7865538225938,
          3681.105396328516,
          3711.754127490837,
          3773.2493522626974,
          3723.1024273113903,
          3650.3237693852184,
          3658.054126910182,
          3683.317456362198,
          3651.3584202022507,
          3626.0653998435046,
          3630.9551678583584,
          3654.4753917522366,
          3736.615422896132,
          3850.408258253938,
          3963.8933390584025,
          3964.03740895701,
          3977.45627976709,
          4134.055476103961,
          4115.467258446969,
          4260.092964835465,
          4337.011591421368,
          4475.467079005708,
          4593.646583052874,
          4746.556073527762,
          4975.818546214778,
          4933.3491480452785,
          5134.095499282721,
          5264.816861447326,
          5226.082039102924,
          5732.099171142738,
          6306.979240797468,
          6236.832894993535,
          6341.282690310013,
          6648.154988373083,
          7127.167292396698,
          7189.880121349354
         ],
         "yaxis": "y"
        },
        {
         "mode": "lines",
         "name": "Modal Price",
         "type": "scatter",
         "x": [
          "2008-10-01T00:00:00",
          "2008-11-01T00:00:00",
          "2008-12-01T00:00:00",
          "2009-01-01T00:00:00",
          "2009-02-01T00:00:00",
          "2009-03-01T00:00:00",
          "2009-04-01T00:00:00",
          "2009-05-01T00:00:00",
          "2009-06-01T00:00:00",
          "2009-07-01T00:00:00",
          "2009-08-01T00:00:00",
          "2009-09-01T00:00:00",
          "2009-10-01T00:00:00",
          "2009-11-01T00:00:00",
          "2009-12-01T00:00:00",
          "2010-01-01T00:00:00",
          "2010-02-01T00:00:00",
          "2010-03-01T00:00:00",
          "2010-04-01T00:00:00",
          "2010-05-01T00:00:00",
          "2010-06-01T00:00:00",
          "2010-07-01T00:00:00",
          "2010-08-01T00:00:00",
          "2010-09-01T00:00:00",
          "2010-10-01T00:00:00",
          "2010-11-01T00:00:00",
          "2010-12-01T00:00:00",
          "2011-01-01T00:00:00",
          "2011-02-01T00:00:00",
          "2011-03-01T00:00:00",
          "2011-04-01T00:00:00",
          "2011-05-01T00:00:00",
          "2011-06-01T00:00:00",
          "2011-07-01T00:00:00",
          "2011-08-01T00:00:00",
          "2011-09-01T00:00:00",
          "2011-10-01T00:00:00",
          "2011-11-01T00:00:00",
          "2011-12-01T00:00:00",
          "2012-01-01T00:00:00",
          "2012-02-01T00:00:00",
          "2012-03-01T00:00:00",
          "2012-04-01T00:00:00",
          "2012-05-01T00:00:00",
          "2012-06-01T00:00:00",
          "2012-07-01T00:00:00",
          "2012-08-01T00:00:00",
          "2012-09-01T00:00:00",
          "2012-10-01T00:00:00",
          "2012-11-01T00:00:00",
          "2012-12-01T00:00:00",
          "2013-01-01T00:00:00",
          "2013-02-01T00:00:00",
          "2013-03-01T00:00:00",
          "2013-04-01T00:00:00",
          "2013-05-01T00:00:00",
          "2013-06-01T00:00:00",
          "2013-07-01T00:00:00",
          "2013-08-01T00:00:00",
          "2013-09-01T00:00:00",
          "2013-10-01T00:00:00",
          "2013-11-01T00:00:00",
          "2013-12-01T00:00:00",
          "2014-01-01T00:00:00",
          "2014-02-01T00:00:00",
          "2014-03-01T00:00:00",
          "2014-04-01T00:00:00",
          "2014-05-01T00:00:00",
          "2014-06-01T00:00:00",
          "2014-07-01T00:00:00",
          "2014-08-01T00:00:00",
          "2014-09-01T00:00:00",
          "2014-10-01T00:00:00",
          "2014-11-01T00:00:00",
          "2014-12-01T00:00:00",
          "2015-01-01T00:00:00",
          "2015-02-01T00:00:00",
          "2015-03-01T00:00:00",
          "2015-04-01T00:00:00",
          "2015-05-01T00:00:00",
          "2015-06-01T00:00:00",
          "2015-07-01T00:00:00",
          "2015-08-01T00:00:00",
          "2015-09-01T00:00:00",
          "2015-10-01T00:00:00",
          "2015-11-01T00:00:00",
          "2015-12-01T00:00:00",
          "2016-01-01T00:00:00",
          "2016-02-01T00:00:00",
          "2016-03-01T00:00:00",
          "2016-04-01T00:00:00",
          "2016-05-01T00:00:00",
          "2016-06-01T00:00:00",
          "2016-07-01T00:00:00",
          "2016-08-01T00:00:00",
          "2016-09-01T00:00:00",
          "2016-10-01T00:00:00",
          "2016-11-01T00:00:00",
          "2016-12-01T00:00:00",
          "2017-01-01T00:00:00",
          "2017-02-01T00:00:00",
          "2017-03-01T00:00:00",
          "2017-04-01T00:00:00",
          "2017-05-01T00:00:00",
          "2017-06-01T00:00:00",
          "2017-07-01T00:00:00",
          "2017-08-01T00:00:00",
          "2017-09-01T00:00:00",
          "2017-10-01T00:00:00",
          "2017-11-01T00:00:00",
          "2017-12-01T00:00:00",
          "2018-01-01T00:00:00",
          "2018-02-01T00:00:00",
          "2018-03-01T00:00:00",
          "2018-04-01T00:00:00",
          "2018-05-01T00:00:00",
          "2018-06-01T00:00:00",
          "2018-07-01T00:00:00",
          "2018-08-01T00:00:00",
          "2018-09-01T00:00:00",
          "2018-10-01T00:00:00",
          "2018-11-01T00:00:00",
          "2018-12-01T00:00:00",
          "2019-01-01T00:00:00",
          "2019-02-01T00:00:00",
          "2019-03-01T00:00:00",
          "2019-04-01T00:00:00",
          "2019-05-01T00:00:00",
          "2019-06-01T00:00:00",
          "2019-07-01T00:00:00",
          "2019-08-01T00:00:00",
          "2019-09-01T00:00:00",
          "2019-10-01T00:00:00",
          "2019-11-01T00:00:00",
          "2019-12-01T00:00:00",
          "2020-01-01T00:00:00",
          "2020-02-01T00:00:00",
          "2020-03-01T00:00:00",
          "2020-04-01T00:00:00",
          "2020-05-01T00:00:00",
          "2020-06-01T00:00:00",
          "2020-07-01T00:00:00",
          "2020-08-01T00:00:00",
          "2020-09-01T00:00:00",
          "2020-10-01T00:00:00",
          "2020-11-01T00:00:00",
          "2020-12-01T00:00:00",
          "2021-01-01T00:00:00",
          "2021-02-01T00:00:00",
          "2021-03-01T00:00:00",
          "2021-04-01T00:00:00",
          "2021-05-01T00:00:00",
          "2021-06-01T00:00:00",
          "2021-07-01T00:00:00",
          "2021-08-01T00:00:00",
          "2021-09-01T00:00:00",
          "2021-10-01T00:00:00"
         ],
         "xaxis": "x",
         "y": [
          2564.292059219381,
          2560.7653032036615,
          2576.867611232209,
          2348.054467182431,
          2147.439906197655,
          2011.538775977995,
          2156.120806959097,
          2258.9100474520324,
          2272.1027405441273,
          2276.7397150022803,
          2327.7031406210554,
          2271.449209589366,
          2300.619513526341,
          2426.7893424036283,
          2514.4425771971496,
          2407.7092491973326,
          2198.818168520808,
          2087.393007836046,
          2084.28943631975,
          2104.309107170633,
          2154.257886178862,
          2205.3171247357295,
          2289.462258687259,
          2291.3973694699084,
          2291.170831706365,
          2330.6441658630665,
          2358.823330423396,
          2385.1078531884355,
          2376.066210505132,
          2288.7307160417945,
          2242.2170451398506,
          2334.568171980955,
          2425.823982235381,
          2491.7169431095954,
          2568.729162799332,
          2570.6084204733074,
          2590.3682978723405,
          2677.6602943987764,
          2848.9655412115194,
          2967.4233341746594,
          2931.7566603235014,
          3135.5302950474183,
          3317.324298770879,
          3352.3907036983737,
          3353.1308456900765,
          3641.5716376863024,
          3890.617437053739,
          3831.481397808114,
          3783.2773414490475,
          3827.493038674033,
          3827.254599958652,
          3720.8213591228796,
          3464.5159678683385,
          3219.843876723439,
          3163.4900512018207,
          3133.22064600913,
          3147.9063493253375,
          3111.617801171442,
          3144.500513442868,
          3192.9538061703556,
          3223.52549183061,
          3335.016203703704,
          3301.6004365417375,
          3222.2331068674257,
          3088.9828138913626,
          3058.65656779661,
          3065.596988785823,
          3140.605907397552,
          3146.0732376747605,
          3236.9244766110564,
          3278.163245914101,
          3271.9114966863035,
          3288.250131286609,
          3344.2276119402986,
          3472.9246891801076,
          3547.1291659471594,
          3378.658180115764,
          3257.139380782918,
          3331.36602112676,
          3649.1633644133644,
          3817.7304072756033,
          3848.5436389369397,
          3898.7756742275405,
          4021.619225425495,
          4338.333201438849,
          4311.179990448902,
          4283.117032847509,
          4060.7054273084477,
          3756.2489390432097,
          3570.2497243491575,
          3806.8677698052425,
          3890.590977934456,
          3995.6875017946877,
          4187.780571233111,
          4239.649682832003,
          4167.026540755467,
          4078.398942156201,
          4144.756512493354,
          4023.7159899539556,
          3856.340049894454,
          3530.3488569009314,
          3443.09323659306,
          3458.3746615849655,
          3397.037760587387,
          3378.7789219629926,
          3436.472711407266,
          3465.0467376214715,
          3499.1741906064753,
          3465.9498666444406,
          3539.2236048848354,
          3616.3889151687163,
          3546.168807055547,
          3515.3204436619717,
          3521.6480144840075,
          3514.5253864447086,
          3557.351813414901,
          3602.4599494382023,
          3714.5276483846733,
          3808.6609368994236,
          3811.8708347948086,
          3811.206020829889,
          3857.844727925055,
          3817.098630611891,
          3775.957018591165,
          3658.117432735426,
          3486.5159632572,
          3488.3752843062925,
          3580.751772238738,
          3623.8732422131684,
          3654.9176363381466,
          3710.1450348290946,
          3739.62024444827,
          3775.330602035536,
          3869.673596998593,
          3986.4014925373135,
          4028.09623015873,
          3848.9054894297387,
          3740.8698157128997,
          3972.1069910250353,
          4038.164903775525,
          4200.648750686436,
          4340.570807557265,
          4559.546713991298,
          4702.311659642785,
          4867.411283811061,
          5108.876720317238,
          5069.342382328654,
          5198.298390383048,
          5149.684941920054,
          4989.495575048733,
          5570.150686063812,
          6229.676886126024,
          6177.388680844506,
          6344.841906445909,
          6732.234623358673,
          7235.832368986609,
          7310.7353316326535
         ],
         "yaxis": "y"
        }
       ],
       "layout": {
        "template": {
         "data": {
          "bar": [
           {
            "error_x": {
             "color": "#2a3f5f"
            },
            "error_y": {
             "color": "#2a3f5f"
            },
            "marker": {
             "line": {
              "color": "#E5ECF6",
              "width": 0.5
             },
             "pattern": {
              "fillmode": "overlay",
              "size": 10,
              "solidity": 0.2
             }
            },
            "type": "bar"
           }
          ],
          "barpolar": [
           {
            "marker": {
             "line": {
              "color": "#E5ECF6",
              "width": 0.5
             },
             "pattern": {
              "fillmode": "overlay",
              "size": 10,
              "solidity": 0.2
             }
            },
            "type": "barpolar"
           }
          ],
          "carpet": [
           {
            "aaxis": {
             "endlinecolor": "#2a3f5f",
             "gridcolor": "white",
             "linecolor": "white",
             "minorgridcolor": "white",
             "startlinecolor": "#2a3f5f"
            },
            "baxis": {
             "endlinecolor": "#2a3f5f",
             "gridcolor": "white",
             "linecolor": "white",
             "minorgridcolor": "white",
             "startlinecolor": "#2a3f5f"
            },
            "type": "carpet"
           }
          ],
          "choropleth": [
           {
            "colorbar": {
             "outlinewidth": 0,
             "ticks": ""
            },
            "type": "choropleth"
           }
          ],
          "contour": [
           {
            "colorbar": {
             "outlinewidth": 0,
             "ticks": ""
            },
            "colorscale": [
             [
              0,
              "#0d0887"
             ],
             [
              0.1111111111111111,
              "#46039f"
             ],
             [
              0.2222222222222222,
              "#7201a8"
             ],
             [
              0.3333333333333333,
              "#9c179e"
             ],
             [
              0.4444444444444444,
              "#bd3786"
             ],
             [
              0.5555555555555556,
              "#d8576b"
             ],
             [
              0.6666666666666666,
              "#ed7953"
             ],
             [
              0.7777777777777778,
              "#fb9f3a"
             ],
             [
              0.8888888888888888,
              "#fdca26"
             ],
             [
              1,
              "#f0f921"
             ]
            ],
            "type": "contour"
           }
          ],
          "contourcarpet": [
           {
            "colorbar": {
             "outlinewidth": 0,
             "ticks": ""
            },
            "type": "contourcarpet"
           }
          ],
          "heatmap": [
           {
            "colorbar": {
             "outlinewidth": 0,
             "ticks": ""
            },
            "colorscale": [
             [
              0,
              "#0d0887"
             ],
             [
              0.1111111111111111,
              "#46039f"
             ],
             [
              0.2222222222222222,
              "#7201a8"
             ],
             [
              0.3333333333333333,
              "#9c179e"
             ],
             [
              0.4444444444444444,
              "#bd3786"
             ],
             [
              0.5555555555555556,
              "#d8576b"
             ],
             [
              0.6666666666666666,
              "#ed7953"
             ],
             [
              0.7777777777777778,
              "#fb9f3a"
             ],
             [
              0.8888888888888888,
              "#fdca26"
             ],
             [
              1,
              "#f0f921"
             ]
            ],
            "type": "heatmap"
           }
          ],
          "heatmapgl": [
           {
            "colorbar": {
             "outlinewidth": 0,
             "ticks": ""
            },
            "colorscale": [
             [
              0,
              "#0d0887"
             ],
             [
              0.1111111111111111,
              "#46039f"
             ],
             [
              0.2222222222222222,
              "#7201a8"
             ],
             [
              0.3333333333333333,
              "#9c179e"
             ],
             [
              0.4444444444444444,
              "#bd3786"
             ],
             [
              0.5555555555555556,
              "#d8576b"
             ],
             [
              0.6666666666666666,
              "#ed7953"
             ],
             [
              0.7777777777777778,
              "#fb9f3a"
             ],
             [
              0.8888888888888888,
              "#fdca26"
             ],
             [
              1,
              "#f0f921"
             ]
            ],
            "type": "heatmapgl"
           }
          ],
          "histogram": [
           {
            "marker": {
             "pattern": {
              "fillmode": "overlay",
              "size": 10,
              "solidity": 0.2
             }
            },
            "type": "histogram"
           }
          ],
          "histogram2d": [
           {
            "colorbar": {
             "outlinewidth": 0,
             "ticks": ""
            },
            "colorscale": [
             [
              0,
              "#0d0887"
             ],
             [
              0.1111111111111111,
              "#46039f"
             ],
             [
              0.2222222222222222,
              "#7201a8"
             ],
             [
              0.3333333333333333,
              "#9c179e"
             ],
             [
              0.4444444444444444,
              "#bd3786"
             ],
             [
              0.5555555555555556,
              "#d8576b"
             ],
             [
              0.6666666666666666,
              "#ed7953"
             ],
             [
              0.7777777777777778,
              "#fb9f3a"
             ],
             [
              0.8888888888888888,
              "#fdca26"
             ],
             [
              1,
              "#f0f921"
             ]
            ],
            "type": "histogram2d"
           }
          ],
          "histogram2dcontour": [
           {
            "colorbar": {
             "outlinewidth": 0,
             "ticks": ""
            },
            "colorscale": [
             [
              0,
              "#0d0887"
             ],
             [
              0.1111111111111111,
              "#46039f"
             ],
             [
              0.2222222222222222,
              "#7201a8"
             ],
             [
              0.3333333333333333,
              "#9c179e"
             ],
             [
              0.4444444444444444,
              "#bd3786"
             ],
             [
              0.5555555555555556,
              "#d8576b"
             ],
             [
              0.6666666666666666,
              "#ed7953"
             ],
             [
              0.7777777777777778,
              "#fb9f3a"
             ],
             [
              0.8888888888888888,
              "#fdca26"
             ],
             [
              1,
              "#f0f921"
             ]
            ],
            "type": "histogram2dcontour"
           }
          ],
          "mesh3d": [
           {
            "colorbar": {
             "outlinewidth": 0,
             "ticks": ""
            },
            "type": "mesh3d"
           }
          ],
          "parcoords": [
           {
            "line": {
             "colorbar": {
              "outlinewidth": 0,
              "ticks": ""
             }
            },
            "type": "parcoords"
           }
          ],
          "pie": [
           {
            "automargin": true,
            "type": "pie"
           }
          ],
          "scatter": [
           {
            "marker": {
             "colorbar": {
              "outlinewidth": 0,
              "ticks": ""
             }
            },
            "type": "scatter"
           }
          ],
          "scatter3d": [
           {
            "line": {
             "colorbar": {
              "outlinewidth": 0,
              "ticks": ""
             }
            },
            "marker": {
             "colorbar": {
              "outlinewidth": 0,
              "ticks": ""
             }
            },
            "type": "scatter3d"
           }
          ],
          "scattercarpet": [
           {
            "marker": {
             "colorbar": {
              "outlinewidth": 0,
              "ticks": ""
             }
            },
            "type": "scattercarpet"
           }
          ],
          "scattergeo": [
           {
            "marker": {
             "colorbar": {
              "outlinewidth": 0,
              "ticks": ""
             }
            },
            "type": "scattergeo"
           }
          ],
          "scattergl": [
           {
            "marker": {
             "colorbar": {
              "outlinewidth": 0,
              "ticks": ""
             }
            },
            "type": "scattergl"
           }
          ],
          "scattermapbox": [
           {
            "marker": {
             "colorbar": {
              "outlinewidth": 0,
              "ticks": ""
             }
            },
            "type": "scattermapbox"
           }
          ],
          "scatterpolar": [
           {
            "marker": {
             "colorbar": {
              "outlinewidth": 0,
              "ticks": ""
             }
            },
            "type": "scatterpolar"
           }
          ],
          "scatterpolargl": [
           {
            "marker": {
             "colorbar": {
              "outlinewidth": 0,
              "ticks": ""
             }
            },
            "type": "scatterpolargl"
           }
          ],
          "scatterternary": [
           {
            "marker": {
             "colorbar": {
              "outlinewidth": 0,
              "ticks": ""
             }
            },
            "type": "scatterternary"
           }
          ],
          "surface": [
           {
            "colorbar": {
             "outlinewidth": 0,
             "ticks": ""
            },
            "colorscale": [
             [
              0,
              "#0d0887"
             ],
             [
              0.1111111111111111,
              "#46039f"
             ],
             [
              0.2222222222222222,
              "#7201a8"
             ],
             [
              0.3333333333333333,
              "#9c179e"
             ],
             [
              0.4444444444444444,
              "#bd3786"
             ],
             [
              0.5555555555555556,
              "#d8576b"
             ],
             [
              0.6666666666666666,
              "#ed7953"
             ],
             [
              0.7777777777777778,
              "#fb9f3a"
             ],
             [
              0.8888888888888888,
              "#fdca26"
             ],
             [
              1,
              "#f0f921"
             ]
            ],
            "type": "surface"
           }
          ],
          "table": [
           {
            "cells": {
             "fill": {
              "color": "#EBF0F8"
             },
             "line": {
              "color": "white"
             }
            },
            "header": {
             "fill": {
              "color": "#C8D4E3"
             },
             "line": {
              "color": "white"
             }
            },
            "type": "table"
           }
          ]
         },
         "layout": {
          "annotationdefaults": {
           "arrowcolor": "#2a3f5f",
           "arrowhead": 0,
           "arrowwidth": 1
          },
          "autotypenumbers": "strict",
          "coloraxis": {
           "colorbar": {
            "outlinewidth": 0,
            "ticks": ""
           }
          },
          "colorscale": {
           "diverging": [
            [
             0,
             "#8e0152"
            ],
            [
             0.1,
             "#c51b7d"
            ],
            [
             0.2,
             "#de77ae"
            ],
            [
             0.3,
             "#f1b6da"
            ],
            [
             0.4,
             "#fde0ef"
            ],
            [
             0.5,
             "#f7f7f7"
            ],
            [
             0.6,
             "#e6f5d0"
            ],
            [
             0.7,
             "#b8e186"
            ],
            [
             0.8,
             "#7fbc41"
            ],
            [
             0.9,
             "#4d9221"
            ],
            [
             1,
             "#276419"
            ]
           ],
           "sequential": [
            [
             0,
             "#0d0887"
            ],
            [
             0.1111111111111111,
             "#46039f"
            ],
            [
             0.2222222222222222,
             "#7201a8"
            ],
            [
             0.3333333333333333,
             "#9c179e"
            ],
            [
             0.4444444444444444,
             "#bd3786"
            ],
            [
             0.5555555555555556,
             "#d8576b"
            ],
            [
             0.6666666666666666,
             "#ed7953"
            ],
            [
             0.7777777777777778,
             "#fb9f3a"
            ],
            [
             0.8888888888888888,
             "#fdca26"
            ],
            [
             1,
             "#f0f921"
            ]
           ],
           "sequentialminus": [
            [
             0,
             "#0d0887"
            ],
            [
             0.1111111111111111,
             "#46039f"
            ],
            [
             0.2222222222222222,
             "#7201a8"
            ],
            [
             0.3333333333333333,
             "#9c179e"
            ],
            [
             0.4444444444444444,
             "#bd3786"
            ],
            [
             0.5555555555555556,
             "#d8576b"
            ],
            [
             0.6666666666666666,
             "#ed7953"
            ],
            [
             0.7777777777777778,
             "#fb9f3a"
            ],
            [
             0.8888888888888888,
             "#fdca26"
            ],
            [
             1,
             "#f0f921"
            ]
           ]
          },
          "colorway": [
           "#636efa",
           "#EF553B",
           "#00cc96",
           "#ab63fa",
           "#FFA15A",
           "#19d3f3",
           "#FF6692",
           "#B6E880",
           "#FF97FF",
           "#FECB52"
          ],
          "font": {
           "color": "#2a3f5f"
          },
          "geo": {
           "bgcolor": "white",
           "lakecolor": "white",
           "landcolor": "#E5ECF6",
           "showlakes": true,
           "showland": true,
           "subunitcolor": "white"
          },
          "hoverlabel": {
           "align": "left"
          },
          "hovermode": "closest",
          "mapbox": {
           "style": "light"
          },
          "paper_bgcolor": "white",
          "plot_bgcolor": "#E5ECF6",
          "polar": {
           "angularaxis": {
            "gridcolor": "white",
            "linecolor": "white",
            "ticks": ""
           },
           "bgcolor": "#E5ECF6",
           "radialaxis": {
            "gridcolor": "white",
            "linecolor": "white",
            "ticks": ""
           }
          },
          "scene": {
           "xaxis": {
            "backgroundcolor": "#E5ECF6",
            "gridcolor": "white",
            "gridwidth": 2,
            "linecolor": "white",
            "showbackground": true,
            "ticks": "",
            "zerolinecolor": "white"
           },
           "yaxis": {
            "backgroundcolor": "#E5ECF6",
            "gridcolor": "white",
            "gridwidth": 2,
            "linecolor": "white",
            "showbackground": true,
            "ticks": "",
            "zerolinecolor": "white"
           },
           "zaxis": {
            "backgroundcolor": "#E5ECF6",
            "gridcolor": "white",
            "gridwidth": 2,
            "linecolor": "white",
            "showbackground": true,
            "ticks": "",
            "zerolinecolor": "white"
           }
          },
          "shapedefaults": {
           "line": {
            "color": "#2a3f5f"
           }
          },
          "ternary": {
           "aaxis": {
            "gridcolor": "white",
            "linecolor": "white",
            "ticks": ""
           },
           "baxis": {
            "gridcolor": "white",
            "linecolor": "white",
            "ticks": ""
           },
           "bgcolor": "#E5ECF6",
           "caxis": {
            "gridcolor": "white",
            "linecolor": "white",
            "ticks": ""
           }
          },
          "title": {
           "x": 0.05
          },
          "xaxis": {
           "automargin": true,
           "gridcolor": "white",
           "linecolor": "white",
           "ticks": "",
           "title": {
            "standoff": 15
           },
           "zerolinecolor": "white",
           "zerolinewidth": 2
          },
          "yaxis": {
           "automargin": true,
           "gridcolor": "white",
           "linecolor": "white",
           "ticks": "",
           "title": {
            "standoff": 15
           },
           "zerolinecolor": "white",
           "zerolinewidth": 2
          }
         }
        },
        "xaxis": {
         "anchor": "y",
         "domain": [
          0,
          1
         ]
        },
        "yaxis": {
         "anchor": "x",
         "domain": [
          0,
          1
         ]
        }
       }
      },
      "text/html": [
       "<div>                            <div id=\"50a57091-f781-424a-874c-cd7fc02ba41b\" class=\"plotly-graph-div\" style=\"height:525px; width:100%;\"></div>            <script type=\"text/javascript\">                require([\"plotly\"], function(Plotly) {                    window.PLOTLYENV=window.PLOTLYENV || {};                                    if (document.getElementById(\"50a57091-f781-424a-874c-cd7fc02ba41b\")) {                    Plotly.newPlot(                        \"50a57091-f781-424a-874c-cd7fc02ba41b\",                        [{\"mode\":\"lines\",\"name\":\"Stationary\",\"x\":[\"2008-10-01T00:00:00\",\"2008-11-01T00:00:00\",\"2008-12-01T00:00:00\",\"2009-01-01T00:00:00\",\"2009-02-01T00:00:00\",\"2009-03-01T00:00:00\",\"2009-04-01T00:00:00\",\"2009-05-01T00:00:00\",\"2009-06-01T00:00:00\",\"2009-07-01T00:00:00\",\"2009-08-01T00:00:00\",\"2009-09-01T00:00:00\",\"2009-10-01T00:00:00\",\"2009-11-01T00:00:00\",\"2009-12-01T00:00:00\",\"2010-01-01T00:00:00\",\"2010-02-01T00:00:00\",\"2010-03-01T00:00:00\",\"2010-04-01T00:00:00\",\"2010-05-01T00:00:00\",\"2010-06-01T00:00:00\",\"2010-07-01T00:00:00\",\"2010-08-01T00:00:00\",\"2010-09-01T00:00:00\",\"2010-10-01T00:00:00\",\"2010-11-01T00:00:00\",\"2010-12-01T00:00:00\",\"2011-01-01T00:00:00\",\"2011-02-01T00:00:00\",\"2011-03-01T00:00:00\",\"2011-04-01T00:00:00\",\"2011-05-01T00:00:00\",\"2011-06-01T00:00:00\",\"2011-07-01T00:00:00\",\"2011-08-01T00:00:00\",\"2011-09-01T00:00:00\",\"2011-10-01T00:00:00\",\"2011-11-01T00:00:00\",\"2011-12-01T00:00:00\",\"2012-01-01T00:00:00\",\"2012-02-01T00:00:00\",\"2012-03-01T00:00:00\",\"2012-04-01T00:00:00\",\"2012-05-01T00:00:00\",\"2012-06-01T00:00:00\",\"2012-07-01T00:00:00\",\"2012-08-01T00:00:00\",\"2012-09-01T00:00:00\",\"2012-10-01T00:00:00\",\"2012-11-01T00:00:00\",\"2012-12-01T00:00:00\",\"2013-01-01T00:00:00\",\"2013-02-01T00:00:00\",\"2013-03-01T00:00:00\",\"2013-04-01T00:00:00\",\"2013-05-01T00:00:00\",\"2013-06-01T00:00:00\",\"2013-07-01T00:00:00\",\"2013-08-01T00:00:00\",\"2013-09-01T00:00:00\",\"2013-10-01T00:00:00\",\"2013-11-01T00:00:00\",\"2013-12-01T00:00:00\",\"2014-01-01T00:00:00\",\"2014-02-01T00:00:00\",\"2014-03-01T00:00:00\",\"2014-04-01T00:00:00\",\"2014-05-01T00:00:00\",\"2014-06-01T00:00:00\",\"2014-07-01T00:00:00\",\"2014-08-01T00:00:00\",\"2014-09-01T00:00:00\",\"2014-10-01T00:00:00\",\"2014-11-01T00:00:00\",\"2014-12-01T00:00:00\",\"2015-01-01T00:00:00\",\"2015-02-01T00:00:00\",\"2015-03-01T00:00:00\",\"2015-04-01T00:00:00\",\"2015-05-01T00:00:00\",\"2015-06-01T00:00:00\",\"2015-07-01T00:00:00\",\"2015-08-01T00:00:00\",\"2015-09-01T00:00:00\",\"2015-10-01T00:00:00\",\"2015-11-01T00:00:00\",\"2015-12-01T00:00:00\",\"2016-01-01T00:00:00\",\"2016-02-01T00:00:00\",\"2016-03-01T00:00:00\",\"2016-04-01T00:00:00\",\"2016-05-01T00:00:00\",\"2016-06-01T00:00:00\",\"2016-07-01T00:00:00\",\"2016-08-01T00:00:00\",\"2016-09-01T00:00:00\",\"2016-10-01T00:00:00\",\"2016-11-01T00:00:00\",\"2016-12-01T00:00:00\",\"2017-01-01T00:00:00\",\"2017-02-01T00:00:00\",\"2017-03-01T00:00:00\",\"2017-04-01T00:00:00\",\"2017-05-01T00:00:00\",\"2017-06-01T00:00:00\",\"2017-07-01T00:00:00\",\"2017-08-01T00:00:00\",\"2017-09-01T00:00:00\",\"2017-10-01T00:00:00\",\"2017-11-01T00:00:00\",\"2017-12-01T00:00:00\",\"2018-01-01T00:00:00\",\"2018-02-01T00:00:00\",\"2018-03-01T00:00:00\",\"2018-04-01T00:00:00\",\"2018-05-01T00:00:00\",\"2018-06-01T00:00:00\",\"2018-07-01T00:00:00\",\"2018-08-01T00:00:00\",\"2018-09-01T00:00:00\",\"2018-10-01T00:00:00\",\"2018-11-01T00:00:00\",\"2018-12-01T00:00:00\",\"2019-01-01T00:00:00\",\"2019-02-01T00:00:00\",\"2019-03-01T00:00:00\",\"2019-04-01T00:00:00\",\"2019-05-01T00:00:00\",\"2019-06-01T00:00:00\",\"2019-07-01T00:00:00\",\"2019-08-01T00:00:00\",\"2019-09-01T00:00:00\",\"2019-10-01T00:00:00\",\"2019-11-01T00:00:00\",\"2019-12-01T00:00:00\",\"2020-01-01T00:00:00\",\"2020-02-01T00:00:00\",\"2020-03-01T00:00:00\",\"2020-04-01T00:00:00\",\"2020-05-01T00:00:00\",\"2020-06-01T00:00:00\",\"2020-07-01T00:00:00\",\"2020-08-01T00:00:00\",\"2020-09-01T00:00:00\",\"2020-10-01T00:00:00\",\"2020-11-01T00:00:00\",\"2020-12-01T00:00:00\",\"2021-01-01T00:00:00\",\"2021-02-01T00:00:00\",\"2021-03-01T00:00:00\",\"2021-04-01T00:00:00\",\"2021-05-01T00:00:00\",\"2021-06-01T00:00:00\",\"2021-07-01T00:00:00\",\"2021-08-01T00:00:00\",\"2021-09-01T00:00:00\",\"2021-10-01T00:00:00\"],\"y\":[17.34526067857132,9.026896426942585,28.455047244963225,-103.50294985526216,-97.94627445976812,-90.0985873117038,3.737310106248515,43.853132332788846,50.35234830247191,-2.812021354712215,-37.34024642020631,-122.46114091647996,-111.80215666106324,8.150655950340479,105.7522422530642,80.62966196673369,57.02527444002044,70.2413984433274,-9.162498704944937,-73.00156810987892,-32.8988315790175,-31.874752742595774,-26.36658797335258,-63.787588960385165,-92.98240276779507,-78.87266649859703,-72.81681752004215,2.6275404233351765,149.0540568364754,159.90086489071746,15.481627429892342,-1.746498316983434,42.73316070371902,4.777507060664448,-47.256982181478634,-116.27070359668824,-179.26759147484518,-193.77082990349027,-110.21918758144648,2.7533766101832953,50.60028883856512,265.671111901534,267.75438853849664,118.7655760937837,5.828182206800648,149.74145568917356,255.48366746123065,127.36557764921417,59.94525579042556,104.777509827004,119.86818240481216,102.3273261158156,69.51956519844543,8.478428881371201,-69.30274297903225,-137.57229111100105,-99.70499206968134,-155.192456890426,-161.28114244740573,-106.11886182615899,-74.30503411538984,33.14046913987522,-3.825796652040026,-11.250023839089408,24.392270859145356,104.38200825204194,30.104642722995322,15.073710972575554,1.9152833743200972,15.486070972492598,-50.87025016413418,-105.84705484828692,-118.23878835689493,-96.61169088411134,-13.22946190986795,76.79392724016134,36.68948850920833,-15.09246865617206,-77.97945134919428,67.66483901724132,137.794376481349,38.088149218810486,-34.998256120391034,31.793956895955034,310.22527058540163,231.24395005308497,180.12696447735425,14.675944244751008,-138.71547775090266,-231.66631530174118,-81.80352509841896,-61.06525910313303,40.04174739764676,190.74814012560682,179.12728099263813,100.74370415697058,10.522345843991843,93.7180447136725,10.871896772281616,-33.30465178486429,-117.35204583196719,-18.602876178708357,-22.30506764965139,-117.25067609539838,-102.90657960816407,-74.272297550046,-100.37108661562615,-89.57670746503072,-141.53739661136524,-85.14584926177758,-24.27510356110315,-41.344954114159464,83.9702483717474,183.1178471142057,75.29918641728136,4.708136797871248,5.406372045406442,37.744831086687554,32.2086831237757,-1.0666096746153926,-10.993886397355254,25.6210320568498,-20.01012200588093,8.85416809185972,75.31689386759717,33.37962742215086,-33.37814797514238,-22.65817221731686,1.6194181452374323,-44.448189841828025,-90.75281116453743,-101.76204787420966,-99.43797835164014,-57.6089227676398,18.06615162876733,83.4866067271264,26.49291235747296,-30.87169009596346,45.50322164136469,-64.09171949692063,-22.732940051645528,-36.05938761502057,4.87925328395886,14.660469623599056,63.51781348716759,159.60997825428512,-65.48541844442298,-29.467394720152697,-65.76862412960054,-285.5607722546183,9.329634006543529,380.59936634280893,125.83103175799715,61.35152894763269,230.81705533196873,585.6055839425544,532.0785252346468],\"type\":\"scatter\",\"xaxis\":\"x\",\"yaxis\":\"y\"},{\"mode\":\"lines\",\"name\":\"Deseasonlaised_Data\",\"x\":[\"2008-10-01T00:00:00\",\"2008-11-01T00:00:00\",\"2008-12-01T00:00:00\",\"2009-01-01T00:00:00\",\"2009-02-01T00:00:00\",\"2009-03-01T00:00:00\",\"2009-04-01T00:00:00\",\"2009-05-01T00:00:00\",\"2009-06-01T00:00:00\",\"2009-07-01T00:00:00\",\"2009-08-01T00:00:00\",\"2009-09-01T00:00:00\",\"2009-10-01T00:00:00\",\"2009-11-01T00:00:00\",\"2009-12-01T00:00:00\",\"2010-01-01T00:00:00\",\"2010-02-01T00:00:00\",\"2010-03-01T00:00:00\",\"2010-04-01T00:00:00\",\"2010-05-01T00:00:00\",\"2010-06-01T00:00:00\",\"2010-07-01T00:00:00\",\"2010-08-01T00:00:00\",\"2010-09-01T00:00:00\",\"2010-10-01T00:00:00\",\"2010-11-01T00:00:00\",\"2010-12-01T00:00:00\",\"2011-01-01T00:00:00\",\"2011-02-01T00:00:00\",\"2011-03-01T00:00:00\",\"2011-04-01T00:00:00\",\"2011-05-01T00:00:00\",\"2011-06-01T00:00:00\",\"2011-07-01T00:00:00\",\"2011-08-01T00:00:00\",\"2011-09-01T00:00:00\",\"2011-10-01T00:00:00\",\"2011-11-01T00:00:00\",\"2011-12-01T00:00:00\",\"2012-01-01T00:00:00\",\"2012-02-01T00:00:00\",\"2012-03-01T00:00:00\",\"2012-04-01T00:00:00\",\"2012-05-01T00:00:00\",\"2012-06-01T00:00:00\",\"2012-07-01T00:00:00\",\"2012-08-01T00:00:00\",\"2012-09-01T00:00:00\",\"2012-10-01T00:00:00\",\"2012-11-01T00:00:00\",\"2012-12-01T00:00:00\",\"2013-01-01T00:00:00\",\"2013-02-01T00:00:00\",\"2013-03-01T00:00:00\",\"2013-04-01T00:00:00\",\"2013-05-01T00:00:00\",\"2013-06-01T00:00:00\",\"2013-07-01T00:00:00\",\"2013-08-01T00:00:00\",\"2013-09-01T00:00:00\",\"2013-10-01T00:00:00\",\"2013-11-01T00:00:00\",\"2013-12-01T00:00:00\",\"2014-01-01T00:00:00\",\"2014-02-01T00:00:00\",\"2014-03-01T00:00:00\",\"2014-04-01T00:00:00\",\"2014-05-01T00:00:00\",\"2014-06-01T00:00:00\",\"2014-07-01T00:00:00\",\"2014-08-01T00:00:00\",\"2014-09-01T00:00:00\",\"2014-10-01T00:00:00\",\"2014-11-01T00:00:00\",\"2014-12-01T00:00:00\",\"2015-01-01T00:00:00\",\"2015-02-01T00:00:00\",\"2015-03-01T00:00:00\",\"2015-04-01T00:00:00\",\"2015-05-01T00:00:00\",\"2015-06-01T00:00:00\",\"2015-07-01T00:00:00\",\"2015-08-01T00:00:00\",\"2015-09-01T00:00:00\",\"2015-10-01T00:00:00\",\"2015-11-01T00:00:00\",\"2015-12-01T00:00:00\",\"2016-01-01T00:00:00\",\"2016-02-01T00:00:00\",\"2016-03-01T00:00:00\",\"2016-04-01T00:00:00\",\"2016-05-01T00:00:00\",\"2016-06-01T00:00:00\",\"2016-07-01T00:00:00\",\"2016-08-01T00:00:00\",\"2016-09-01T00:00:00\",\"2016-10-01T00:00:00\",\"2016-11-01T00:00:00\",\"2016-12-01T00:00:00\",\"2017-01-01T00:00:00\",\"2017-02-01T00:00:00\",\"2017-03-01T00:00:00\",\"2017-04-01T00:00:00\",\"2017-05-01T00:00:00\",\"2017-06-01T00:00:00\",\"2017-07-01T00:00:00\",\"2017-08-01T00:00:00\",\"2017-09-01T00:00:00\",\"2017-10-01T00:00:00\",\"2017-11-01T00:00:00\",\"2017-12-01T00:00:00\",\"2018-01-01T00:00:00\",\"2018-02-01T00:00:00\",\"2018-03-01T00:00:00\",\"2018-04-01T00:00:00\",\"2018-05-01T00:00:00\",\"2018-06-01T00:00:00\",\"2018-07-01T00:00:00\",\"2018-08-01T00:00:00\",\"2018-09-01T00:00:00\",\"2018-10-01T00:00:00\",\"2018-11-01T00:00:00\",\"2018-12-01T00:00:00\",\"2019-01-01T00:00:00\",\"2019-02-01T00:00:00\",\"2019-03-01T00:00:00\",\"2019-04-01T00:00:00\",\"2019-05-01T00:00:00\",\"2019-06-01T00:00:00\",\"2019-07-01T00:00:00\",\"2019-08-01T00:00:00\",\"2019-09-01T00:00:00\",\"2019-10-01T00:00:00\",\"2019-11-01T00:00:00\",\"2019-12-01T00:00:00\",\"2020-01-01T00:00:00\",\"2020-02-01T00:00:00\",\"2020-03-01T00:00:00\",\"2020-04-01T00:00:00\",\"2020-05-01T00:00:00\",\"2020-06-01T00:00:00\",\"2020-07-01T00:00:00\",\"2020-08-01T00:00:00\",\"2020-09-01T00:00:00\",\"2020-10-01T00:00:00\",\"2020-11-01T00:00:00\",\"2020-12-01T00:00:00\",\"2021-01-01T00:00:00\",\"2021-02-01T00:00:00\",\"2021-03-01T00:00:00\",\"2021-04-01T00:00:00\",\"2021-05-01T00:00:00\",\"2021-06-01T00:00:00\",\"2021-07-01T00:00:00\",\"2021-08-01T00:00:00\",\"2021-09-01T00:00:00\",\"2021-10-01T00:00:00\"],\"y\":[2443.436848936082,2427.7071291012003,2440.8743769488337,2283.8515760821033,2262.5718257249264,2248.1252400321855,2318.069292038023,2336.2124021234763,2331.5469546931567,2273.1804988663844,2243.6235056354653,2162.7841329994544,2179.764303243042,2293.731168301167,2378.449342913774,2343.506358097005,2313.950088048079,2323.9794718902363,2246.237921398676,2181.611461842077,2213.7021003278915,2201.7579085998336,2205.3826237016688,2182.7322928799967,2170.3156214230657,2197.5859917606053,2222.8300961400205,2320.904962088108,2491.1981300324032,2525.317180095985,2404.1655302187764,2411.870526652399,2485.2681963844107,2488.1577269736995,2484.6495278137418,2461.9433438833958,2469.5130875890413,2544.602120296315,2712.972306928144,2903.220443074332,3046.8885798507727,3372.1167591016087,3479.272783849805,3429.6930583698177,3412.575059839106,3638.0124215504065,3806.537802068149,3722.816321218202,3662.4221311657484,3694.434864571572,3691.2613656752765,3656.618468022552,3579.64788739561,3456.430340777629,3325.4385362807466,3210.523000680574,3207.350563474367,3108.058585035546,3060.420878457278,3084.288729580444,3102.670281547311,3201.9580296012427,3165.607202258362,3158.030215767098,3204.114733418634,3295.2430318508004,3227.545473864749,3217.908262068996,3205.51745182379,3233.3652604751605,3194.083610928511,3163.246420096392,3167.3949210033097,3211.1694378378374,3336.9314548967322,3482.926274846832,3493.7900996430353,3493.7258448371085,3493.314506205686,3726.4657190848084,3877.1746214246327,3844.984422801044,3814.6960392419505,3912.9541488355835,4217.47799115555,4178.12181634644,4147.123798564134,3996.50253620812,3871.380858570481,3806.836188403348,3968.8162548841683,3967.8933326059,4055.131715943717,4184.221355097215,4155.570047846413,4058.3614641655554,3957.543731872902,4011.6983383908932,3887.72275567058,3792.137158794126,3645.4807764282027,3679.6797006472502,3620.3231466638913,3474.340115258831,3438.223136112022,3432.9134952713703,3380.9671026358815,3390.5091140165637,3345.0946563611415,3406.165430782374,3480.395680885341,3481.9659159552193,3630.452363189243,3758.234478538198,3676.4738715236344,3634.6541680863447,3661.904163587232,3710.9684322487774,3724.5813019138336,3703.205758204897,3690.35081054659,3724.7865538225938,3681.105396328516,3711.754127490837,3773.2493522626974,3723.1024273113903,3650.3237693852184,3658.054126910182,3683.317456362198,3651.3584202022507,3626.0653998435046,3630.9551678583584,3654.4753917522366,3736.615422896132,3850.408258253938,3963.8933390584025,3964.03740895701,3977.45627976709,4134.055476103961,4115.467258446969,4260.092964835465,4337.011591421368,4475.467079005708,4593.646583052874,4746.556073527762,4975.818546214778,4933.3491480452785,5134.095499282721,5264.816861447326,5226.082039102924,5732.099171142738,6306.979240797468,6236.832894993535,6341.282690310013,6648.154988373083,7127.167292396698,7189.880121349354],\"type\":\"scatter\",\"xaxis\":\"x\",\"yaxis\":\"y\"},{\"mode\":\"lines\",\"name\":\"Modal Price\",\"x\":[\"2008-10-01T00:00:00\",\"2008-11-01T00:00:00\",\"2008-12-01T00:00:00\",\"2009-01-01T00:00:00\",\"2009-02-01T00:00:00\",\"2009-03-01T00:00:00\",\"2009-04-01T00:00:00\",\"2009-05-01T00:00:00\",\"2009-06-01T00:00:00\",\"2009-07-01T00:00:00\",\"2009-08-01T00:00:00\",\"2009-09-01T00:00:00\",\"2009-10-01T00:00:00\",\"2009-11-01T00:00:00\",\"2009-12-01T00:00:00\",\"2010-01-01T00:00:00\",\"2010-02-01T00:00:00\",\"2010-03-01T00:00:00\",\"2010-04-01T00:00:00\",\"2010-05-01T00:00:00\",\"2010-06-01T00:00:00\",\"2010-07-01T00:00:00\",\"2010-08-01T00:00:00\",\"2010-09-01T00:00:00\",\"2010-10-01T00:00:00\",\"2010-11-01T00:00:00\",\"2010-12-01T00:00:00\",\"2011-01-01T00:00:00\",\"2011-02-01T00:00:00\",\"2011-03-01T00:00:00\",\"2011-04-01T00:00:00\",\"2011-05-01T00:00:00\",\"2011-06-01T00:00:00\",\"2011-07-01T00:00:00\",\"2011-08-01T00:00:00\",\"2011-09-01T00:00:00\",\"2011-10-01T00:00:00\",\"2011-11-01T00:00:00\",\"2011-12-01T00:00:00\",\"2012-01-01T00:00:00\",\"2012-02-01T00:00:00\",\"2012-03-01T00:00:00\",\"2012-04-01T00:00:00\",\"2012-05-01T00:00:00\",\"2012-06-01T00:00:00\",\"2012-07-01T00:00:00\",\"2012-08-01T00:00:00\",\"2012-09-01T00:00:00\",\"2012-10-01T00:00:00\",\"2012-11-01T00:00:00\",\"2012-12-01T00:00:00\",\"2013-01-01T00:00:00\",\"2013-02-01T00:00:00\",\"2013-03-01T00:00:00\",\"2013-04-01T00:00:00\",\"2013-05-01T00:00:00\",\"2013-06-01T00:00:00\",\"2013-07-01T00:00:00\",\"2013-08-01T00:00:00\",\"2013-09-01T00:00:00\",\"2013-10-01T00:00:00\",\"2013-11-01T00:00:00\",\"2013-12-01T00:00:00\",\"2014-01-01T00:00:00\",\"2014-02-01T00:00:00\",\"2014-03-01T00:00:00\",\"2014-04-01T00:00:00\",\"2014-05-01T00:00:00\",\"2014-06-01T00:00:00\",\"2014-07-01T00:00:00\",\"2014-08-01T00:00:00\",\"2014-09-01T00:00:00\",\"2014-10-01T00:00:00\",\"2014-11-01T00:00:00\",\"2014-12-01T00:00:00\",\"2015-01-01T00:00:00\",\"2015-02-01T00:00:00\",\"2015-03-01T00:00:00\",\"2015-04-01T00:00:00\",\"2015-05-01T00:00:00\",\"2015-06-01T00:00:00\",\"2015-07-01T00:00:00\",\"2015-08-01T00:00:00\",\"2015-09-01T00:00:00\",\"2015-10-01T00:00:00\",\"2015-11-01T00:00:00\",\"2015-12-01T00:00:00\",\"2016-01-01T00:00:00\",\"2016-02-01T00:00:00\",\"2016-03-01T00:00:00\",\"2016-04-01T00:00:00\",\"2016-05-01T00:00:00\",\"2016-06-01T00:00:00\",\"2016-07-01T00:00:00\",\"2016-08-01T00:00:00\",\"2016-09-01T00:00:00\",\"2016-10-01T00:00:00\",\"2016-11-01T00:00:00\",\"2016-12-01T00:00:00\",\"2017-01-01T00:00:00\",\"2017-02-01T00:00:00\",\"2017-03-01T00:00:00\",\"2017-04-01T00:00:00\",\"2017-05-01T00:00:00\",\"2017-06-01T00:00:00\",\"2017-07-01T00:00:00\",\"2017-08-01T00:00:00\",\"2017-09-01T00:00:00\",\"2017-10-01T00:00:00\",\"2017-11-01T00:00:00\",\"2017-12-01T00:00:00\",\"2018-01-01T00:00:00\",\"2018-02-01T00:00:00\",\"2018-03-01T00:00:00\",\"2018-04-01T00:00:00\",\"2018-05-01T00:00:00\",\"2018-06-01T00:00:00\",\"2018-07-01T00:00:00\",\"2018-08-01T00:00:00\",\"2018-09-01T00:00:00\",\"2018-10-01T00:00:00\",\"2018-11-01T00:00:00\",\"2018-12-01T00:00:00\",\"2019-01-01T00:00:00\",\"2019-02-01T00:00:00\",\"2019-03-01T00:00:00\",\"2019-04-01T00:00:00\",\"2019-05-01T00:00:00\",\"2019-06-01T00:00:00\",\"2019-07-01T00:00:00\",\"2019-08-01T00:00:00\",\"2019-09-01T00:00:00\",\"2019-10-01T00:00:00\",\"2019-11-01T00:00:00\",\"2019-12-01T00:00:00\",\"2020-01-01T00:00:00\",\"2020-02-01T00:00:00\",\"2020-03-01T00:00:00\",\"2020-04-01T00:00:00\",\"2020-05-01T00:00:00\",\"2020-06-01T00:00:00\",\"2020-07-01T00:00:00\",\"2020-08-01T00:00:00\",\"2020-09-01T00:00:00\",\"2020-10-01T00:00:00\",\"2020-11-01T00:00:00\",\"2020-12-01T00:00:00\",\"2021-01-01T00:00:00\",\"2021-02-01T00:00:00\",\"2021-03-01T00:00:00\",\"2021-04-01T00:00:00\",\"2021-05-01T00:00:00\",\"2021-06-01T00:00:00\",\"2021-07-01T00:00:00\",\"2021-08-01T00:00:00\",\"2021-09-01T00:00:00\",\"2021-10-01T00:00:00\"],\"y\":[2564.292059219381,2560.7653032036615,2576.867611232209,2348.054467182431,2147.439906197655,2011.538775977995,2156.120806959097,2258.9100474520324,2272.1027405441273,2276.7397150022803,2327.7031406210554,2271.449209589366,2300.619513526341,2426.7893424036283,2514.4425771971496,2407.7092491973326,2198.818168520808,2087.393007836046,2084.28943631975,2104.309107170633,2154.257886178862,2205.3171247357295,2289.462258687259,2291.3973694699084,2291.170831706365,2330.6441658630665,2358.823330423396,2385.1078531884355,2376.066210505132,2288.7307160417945,2242.2170451398506,2334.568171980955,2425.823982235381,2491.7169431095954,2568.729162799332,2570.6084204733074,2590.3682978723405,2677.6602943987764,2848.9655412115194,2967.4233341746594,2931.7566603235014,3135.5302950474183,3317.324298770879,3352.3907036983737,3353.1308456900765,3641.5716376863024,3890.617437053739,3831.481397808114,3783.2773414490475,3827.493038674033,3827.254599958652,3720.8213591228796,3464.5159678683385,3219.843876723439,3163.4900512018207,3133.22064600913,3147.9063493253375,3111.617801171442,3144.500513442868,3192.9538061703556,3223.52549183061,3335.016203703704,3301.6004365417375,3222.2331068674257,3088.9828138913626,3058.65656779661,3065.596988785823,3140.605907397552,3146.0732376747605,3236.9244766110564,3278.163245914101,3271.9114966863035,3288.250131286609,3344.2276119402986,3472.9246891801076,3547.1291659471594,3378.658180115764,3257.139380782918,3331.36602112676,3649.1633644133644,3817.7304072756033,3848.5436389369397,3898.7756742275405,4021.619225425495,4338.333201438849,4311.179990448902,4283.117032847509,4060.7054273084477,3756.2489390432097,3570.2497243491575,3806.8677698052425,3890.590977934456,3995.6875017946877,4187.780571233111,4239.649682832003,4167.026540755467,4078.398942156201,4144.756512493354,4023.7159899539556,3856.340049894454,3530.3488569009314,3443.09323659306,3458.3746615849655,3397.037760587387,3378.7789219629926,3436.472711407266,3465.0467376214715,3499.1741906064753,3465.9498666444406,3539.2236048848354,3616.3889151687163,3546.168807055547,3515.3204436619717,3521.6480144840075,3514.5253864447086,3557.351813414901,3602.4599494382023,3714.5276483846733,3808.6609368994236,3811.8708347948086,3811.206020829889,3857.844727925055,3817.098630611891,3775.957018591165,3658.117432735426,3486.5159632572,3488.3752843062925,3580.751772238738,3623.8732422131684,3654.9176363381466,3710.1450348290946,3739.62024444827,3775.330602035536,3869.673596998593,3986.4014925373135,4028.09623015873,3848.9054894297387,3740.8698157128997,3972.1069910250353,4038.164903775525,4200.648750686436,4340.570807557265,4559.546713991298,4702.311659642785,4867.411283811061,5108.876720317238,5069.342382328654,5198.298390383048,5149.684941920054,4989.495575048733,5570.150686063812,6229.676886126024,6177.388680844506,6344.841906445909,6732.234623358673,7235.832368986609,7310.7353316326535],\"type\":\"scatter\",\"xaxis\":\"x\",\"yaxis\":\"y\"}],                        {\"template\":{\"data\":{\"bar\":[{\"error_x\":{\"color\":\"#2a3f5f\"},\"error_y\":{\"color\":\"#2a3f5f\"},\"marker\":{\"line\":{\"color\":\"#E5ECF6\",\"width\":0.5},\"pattern\":{\"fillmode\":\"overlay\",\"size\":10,\"solidity\":0.2}},\"type\":\"bar\"}],\"barpolar\":[{\"marker\":{\"line\":{\"color\":\"#E5ECF6\",\"width\":0.5},\"pattern\":{\"fillmode\":\"overlay\",\"size\":10,\"solidity\":0.2}},\"type\":\"barpolar\"}],\"carpet\":[{\"aaxis\":{\"endlinecolor\":\"#2a3f5f\",\"gridcolor\":\"white\",\"linecolor\":\"white\",\"minorgridcolor\":\"white\",\"startlinecolor\":\"#2a3f5f\"},\"baxis\":{\"endlinecolor\":\"#2a3f5f\",\"gridcolor\":\"white\",\"linecolor\":\"white\",\"minorgridcolor\":\"white\",\"startlinecolor\":\"#2a3f5f\"},\"type\":\"carpet\"}],\"choropleth\":[{\"colorbar\":{\"outlinewidth\":0,\"ticks\":\"\"},\"type\":\"choropleth\"}],\"contour\":[{\"colorbar\":{\"outlinewidth\":0,\"ticks\":\"\"},\"colorscale\":[[0.0,\"#0d0887\"],[0.1111111111111111,\"#46039f\"],[0.2222222222222222,\"#7201a8\"],[0.3333333333333333,\"#9c179e\"],[0.4444444444444444,\"#bd3786\"],[0.5555555555555556,\"#d8576b\"],[0.6666666666666666,\"#ed7953\"],[0.7777777777777778,\"#fb9f3a\"],[0.8888888888888888,\"#fdca26\"],[1.0,\"#f0f921\"]],\"type\":\"contour\"}],\"contourcarpet\":[{\"colorbar\":{\"outlinewidth\":0,\"ticks\":\"\"},\"type\":\"contourcarpet\"}],\"heatmap\":[{\"colorbar\":{\"outlinewidth\":0,\"ticks\":\"\"},\"colorscale\":[[0.0,\"#0d0887\"],[0.1111111111111111,\"#46039f\"],[0.2222222222222222,\"#7201a8\"],[0.3333333333333333,\"#9c179e\"],[0.4444444444444444,\"#bd3786\"],[0.5555555555555556,\"#d8576b\"],[0.6666666666666666,\"#ed7953\"],[0.7777777777777778,\"#fb9f3a\"],[0.8888888888888888,\"#fdca26\"],[1.0,\"#f0f921\"]],\"type\":\"heatmap\"}],\"heatmapgl\":[{\"colorbar\":{\"outlinewidth\":0,\"ticks\":\"\"},\"colorscale\":[[0.0,\"#0d0887\"],[0.1111111111111111,\"#46039f\"],[0.2222222222222222,\"#7201a8\"],[0.3333333333333333,\"#9c179e\"],[0.4444444444444444,\"#bd3786\"],[0.5555555555555556,\"#d8576b\"],[0.6666666666666666,\"#ed7953\"],[0.7777777777777778,\"#fb9f3a\"],[0.8888888888888888,\"#fdca26\"],[1.0,\"#f0f921\"]],\"type\":\"heatmapgl\"}],\"histogram\":[{\"marker\":{\"pattern\":{\"fillmode\":\"overlay\",\"size\":10,\"solidity\":0.2}},\"type\":\"histogram\"}],\"histogram2d\":[{\"colorbar\":{\"outlinewidth\":0,\"ticks\":\"\"},\"colorscale\":[[0.0,\"#0d0887\"],[0.1111111111111111,\"#46039f\"],[0.2222222222222222,\"#7201a8\"],[0.3333333333333333,\"#9c179e\"],[0.4444444444444444,\"#bd3786\"],[0.5555555555555556,\"#d8576b\"],[0.6666666666666666,\"#ed7953\"],[0.7777777777777778,\"#fb9f3a\"],[0.8888888888888888,\"#fdca26\"],[1.0,\"#f0f921\"]],\"type\":\"histogram2d\"}],\"histogram2dcontour\":[{\"colorbar\":{\"outlinewidth\":0,\"ticks\":\"\"},\"colorscale\":[[0.0,\"#0d0887\"],[0.1111111111111111,\"#46039f\"],[0.2222222222222222,\"#7201a8\"],[0.3333333333333333,\"#9c179e\"],[0.4444444444444444,\"#bd3786\"],[0.5555555555555556,\"#d8576b\"],[0.6666666666666666,\"#ed7953\"],[0.7777777777777778,\"#fb9f3a\"],[0.8888888888888888,\"#fdca26\"],[1.0,\"#f0f921\"]],\"type\":\"histogram2dcontour\"}],\"mesh3d\":[{\"colorbar\":{\"outlinewidth\":0,\"ticks\":\"\"},\"type\":\"mesh3d\"}],\"parcoords\":[{\"line\":{\"colorbar\":{\"outlinewidth\":0,\"ticks\":\"\"}},\"type\":\"parcoords\"}],\"pie\":[{\"automargin\":true,\"type\":\"pie\"}],\"scatter\":[{\"marker\":{\"colorbar\":{\"outlinewidth\":0,\"ticks\":\"\"}},\"type\":\"scatter\"}],\"scatter3d\":[{\"line\":{\"colorbar\":{\"outlinewidth\":0,\"ticks\":\"\"}},\"marker\":{\"colorbar\":{\"outlinewidth\":0,\"ticks\":\"\"}},\"type\":\"scatter3d\"}],\"scattercarpet\":[{\"marker\":{\"colorbar\":{\"outlinewidth\":0,\"ticks\":\"\"}},\"type\":\"scattercarpet\"}],\"scattergeo\":[{\"marker\":{\"colorbar\":{\"outlinewidth\":0,\"ticks\":\"\"}},\"type\":\"scattergeo\"}],\"scattergl\":[{\"marker\":{\"colorbar\":{\"outlinewidth\":0,\"ticks\":\"\"}},\"type\":\"scattergl\"}],\"scattermapbox\":[{\"marker\":{\"colorbar\":{\"outlinewidth\":0,\"ticks\":\"\"}},\"type\":\"scattermapbox\"}],\"scatterpolar\":[{\"marker\":{\"colorbar\":{\"outlinewidth\":0,\"ticks\":\"\"}},\"type\":\"scatterpolar\"}],\"scatterpolargl\":[{\"marker\":{\"colorbar\":{\"outlinewidth\":0,\"ticks\":\"\"}},\"type\":\"scatterpolargl\"}],\"scatterternary\":[{\"marker\":{\"colorbar\":{\"outlinewidth\":0,\"ticks\":\"\"}},\"type\":\"scatterternary\"}],\"surface\":[{\"colorbar\":{\"outlinewidth\":0,\"ticks\":\"\"},\"colorscale\":[[0.0,\"#0d0887\"],[0.1111111111111111,\"#46039f\"],[0.2222222222222222,\"#7201a8\"],[0.3333333333333333,\"#9c179e\"],[0.4444444444444444,\"#bd3786\"],[0.5555555555555556,\"#d8576b\"],[0.6666666666666666,\"#ed7953\"],[0.7777777777777778,\"#fb9f3a\"],[0.8888888888888888,\"#fdca26\"],[1.0,\"#f0f921\"]],\"type\":\"surface\"}],\"table\":[{\"cells\":{\"fill\":{\"color\":\"#EBF0F8\"},\"line\":{\"color\":\"white\"}},\"header\":{\"fill\":{\"color\":\"#C8D4E3\"},\"line\":{\"color\":\"white\"}},\"type\":\"table\"}]},\"layout\":{\"annotationdefaults\":{\"arrowcolor\":\"#2a3f5f\",\"arrowhead\":0,\"arrowwidth\":1},\"autotypenumbers\":\"strict\",\"coloraxis\":{\"colorbar\":{\"outlinewidth\":0,\"ticks\":\"\"}},\"colorscale\":{\"diverging\":[[0,\"#8e0152\"],[0.1,\"#c51b7d\"],[0.2,\"#de77ae\"],[0.3,\"#f1b6da\"],[0.4,\"#fde0ef\"],[0.5,\"#f7f7f7\"],[0.6,\"#e6f5d0\"],[0.7,\"#b8e186\"],[0.8,\"#7fbc41\"],[0.9,\"#4d9221\"],[1,\"#276419\"]],\"sequential\":[[0.0,\"#0d0887\"],[0.1111111111111111,\"#46039f\"],[0.2222222222222222,\"#7201a8\"],[0.3333333333333333,\"#9c179e\"],[0.4444444444444444,\"#bd3786\"],[0.5555555555555556,\"#d8576b\"],[0.6666666666666666,\"#ed7953\"],[0.7777777777777778,\"#fb9f3a\"],[0.8888888888888888,\"#fdca26\"],[1.0,\"#f0f921\"]],\"sequentialminus\":[[0.0,\"#0d0887\"],[0.1111111111111111,\"#46039f\"],[0.2222222222222222,\"#7201a8\"],[0.3333333333333333,\"#9c179e\"],[0.4444444444444444,\"#bd3786\"],[0.5555555555555556,\"#d8576b\"],[0.6666666666666666,\"#ed7953\"],[0.7777777777777778,\"#fb9f3a\"],[0.8888888888888888,\"#fdca26\"],[1.0,\"#f0f921\"]]},\"colorway\":[\"#636efa\",\"#EF553B\",\"#00cc96\",\"#ab63fa\",\"#FFA15A\",\"#19d3f3\",\"#FF6692\",\"#B6E880\",\"#FF97FF\",\"#FECB52\"],\"font\":{\"color\":\"#2a3f5f\"},\"geo\":{\"bgcolor\":\"white\",\"lakecolor\":\"white\",\"landcolor\":\"#E5ECF6\",\"showlakes\":true,\"showland\":true,\"subunitcolor\":\"white\"},\"hoverlabel\":{\"align\":\"left\"},\"hovermode\":\"closest\",\"mapbox\":{\"style\":\"light\"},\"paper_bgcolor\":\"white\",\"plot_bgcolor\":\"#E5ECF6\",\"polar\":{\"angularaxis\":{\"gridcolor\":\"white\",\"linecolor\":\"white\",\"ticks\":\"\"},\"bgcolor\":\"#E5ECF6\",\"radialaxis\":{\"gridcolor\":\"white\",\"linecolor\":\"white\",\"ticks\":\"\"}},\"scene\":{\"xaxis\":{\"backgroundcolor\":\"#E5ECF6\",\"gridcolor\":\"white\",\"gridwidth\":2,\"linecolor\":\"white\",\"showbackground\":true,\"ticks\":\"\",\"zerolinecolor\":\"white\"},\"yaxis\":{\"backgroundcolor\":\"#E5ECF6\",\"gridcolor\":\"white\",\"gridwidth\":2,\"linecolor\":\"white\",\"showbackground\":true,\"ticks\":\"\",\"zerolinecolor\":\"white\"},\"zaxis\":{\"backgroundcolor\":\"#E5ECF6\",\"gridcolor\":\"white\",\"gridwidth\":2,\"linecolor\":\"white\",\"showbackground\":true,\"ticks\":\"\",\"zerolinecolor\":\"white\"}},\"shapedefaults\":{\"line\":{\"color\":\"#2a3f5f\"}},\"ternary\":{\"aaxis\":{\"gridcolor\":\"white\",\"linecolor\":\"white\",\"ticks\":\"\"},\"baxis\":{\"gridcolor\":\"white\",\"linecolor\":\"white\",\"ticks\":\"\"},\"bgcolor\":\"#E5ECF6\",\"caxis\":{\"gridcolor\":\"white\",\"linecolor\":\"white\",\"ticks\":\"\"}},\"title\":{\"x\":0.05},\"xaxis\":{\"automargin\":true,\"gridcolor\":\"white\",\"linecolor\":\"white\",\"ticks\":\"\",\"title\":{\"standoff\":15},\"zerolinecolor\":\"white\",\"zerolinewidth\":2},\"yaxis\":{\"automargin\":true,\"gridcolor\":\"white\",\"linecolor\":\"white\",\"ticks\":\"\",\"title\":{\"standoff\":15},\"zerolinecolor\":\"white\",\"zerolinewidth\":2}}},\"xaxis\":{\"anchor\":\"y\",\"domain\":[0.0,1.0]},\"yaxis\":{\"anchor\":\"x\",\"domain\":[0.0,1.0]}},                        {\"responsive\": true}                    ).then(function(){\n",
       "                            \n",
       "var gd = document.getElementById('50a57091-f781-424a-874c-cd7fc02ba41b');\n",
       "var x = new MutationObserver(function (mutations, observer) {{\n",
       "        var display = window.getComputedStyle(gd).display;\n",
       "        if (!display || display === 'none') {{\n",
       "            console.log([gd, 'removed!']);\n",
       "            Plotly.purge(gd);\n",
       "            observer.disconnect();\n",
       "        }}\n",
       "}});\n",
       "\n",
       "// Listen for the removal of the full notebook cells\n",
       "var notebookContainer = gd.closest('#notebook-container');\n",
       "if (notebookContainer) {{\n",
       "    x.observe(notebookContainer, {childList: true});\n",
       "}}\n",
       "\n",
       "// Listen for the clearing of the current output cell\n",
       "var outputEl = gd.closest('.output');\n",
       "if (outputEl) {{\n",
       "    x.observe(outputEl, {childList: true});\n",
       "}}\n",
       "\n",
       "                        })                };                });            </script>        </div>"
      ]
     },
     "metadata": {},
     "output_type": "display_data"
    }
   ],
   "source": [
    "fig = go.Figure()\n",
    "fig = make_subplots(rows=1, cols=1)\n",
    "\n",
    "fig.add_trace(go.Scatter(x=outer_join_df[outer_join_df['SMA(12)'].notnull()].index,\n",
    "                         y=outer_join_df[outer_join_df['SMA(12)'].notnull()]['Stationary'],\n",
    "                         mode='lines',name = \"Stationary\") , row=1, col=1)\n",
    "    \n",
    "fig.add_trace(go.Scatter(x=outer_join_df[outer_join_df['SMA(12)'].notnull()].index,\n",
    "                         y=outer_join_df[outer_join_df['SMA(12)'].notnull()]['Deseasonlaised_Data'],\n",
    "                         mode='lines',name = \"Deseasonlaised_Data\") , row=1, col=1)\n",
    "    \n",
    "\n",
    "fig.add_trace(go.Scatter(x=outer_join_df[outer_join_df['SMA(12)'].notnull()].index,\n",
    "                         y=outer_join_df[outer_join_df['SMA(12)'].notnull()]['Modal Price (Rs./Quintal)'],\n",
    "                         mode='lines' , name = \"Modal Price\"),row=1, col=1)"
   ]
  },
  {
   "cell_type": "code",
   "execution_count": null,
   "id": "61822c42",
   "metadata": {},
   "outputs": [],
   "source": []
  }
 ],
 "metadata": {
  "kernelspec": {
   "display_name": "Python 3 (ipykernel)",
   "language": "python",
   "name": "python3"
  },
  "language_info": {
   "codemirror_mode": {
    "name": "ipython",
    "version": 3
   },
   "file_extension": ".py",
   "mimetype": "text/x-python",
   "name": "python",
   "nbconvert_exporter": "python",
   "pygments_lexer": "ipython3",
   "version": "3.9.12"
  }
 },
 "nbformat": 4,
 "nbformat_minor": 5
}
