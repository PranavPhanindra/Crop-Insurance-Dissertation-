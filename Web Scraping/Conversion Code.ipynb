{
 "cells": [
  {
   "cell_type": "code",
   "execution_count": 1,
   "id": "65bc8614",
   "metadata": {},
   "outputs": [
    {
     "name": "stdout",
     "output_type": "stream",
     "text": [
      "Requirement already satisfied: aspose-cells in /home/dmacs/anaconda3/lib/python3.9/site-packages (22.8.0)\r\n",
      "Requirement already satisfied: JPype1>=1.2.1 in /home/dmacs/anaconda3/lib/python3.9/site-packages (from aspose-cells) (1.4.0)\r\n"
     ]
    }
   ],
   "source": [
    "!pip install aspose-cells"
   ]
  },
  {
   "cell_type": "code",
   "execution_count": 2,
   "id": "58cd9c46",
   "metadata": {},
   "outputs": [],
   "source": [
    "import os\n",
    "import asposecells\n",
    "import  jpype \n"
   ]
  },
  {
   "cell_type": "code",
   "execution_count": 3,
   "id": "a35f4af5",
   "metadata": {},
   "outputs": [],
   "source": [
    "input_directory = '/home/dmacs/Documents/Pranav_Phanindra/Data_Scraping_Final/Data_Part_2/Data_html_2'\n",
    "output_directory = '/home/dmacs/Documents/Pranav_Phanindra/Data_Scraping_Final/Data_Part_2/Data_Excel_2'\n",
    "html_files = os.listdir(input_directory)"
   ]
  },
  {
   "cell_type": "markdown",
   "id": "386a09a6",
   "metadata": {},
   "source": [
    "for html_file in os.listdir(input_directory) :\n",
    "    print(html_file.split('.')[0])\n",
    "    #os.listdir(input_directory)[0].split('.')[0]"
   ]
  },
  {
   "cell_type": "code",
   "execution_count": 4,
   "id": "80c22724",
   "metadata": {},
   "outputs": [],
   "source": [
    "\n",
    "for html_file in html_files :\n",
    "    if html_files.index(html_file) == 0 :\n",
    "        jpype.startJVM() \n",
    "        from asposecells.api import Workbook\n",
    "        \n",
    "        \n",
    "    workbook = Workbook(input_directory+'/'+html_file)\n",
    "    workbook.save(\"{}/{}{}\".format(output_directory  ,  html_file.split('.')[0]  , '.xlsx'))\n",
    "    "
   ]
  },
  {
   "cell_type": "code",
   "execution_count": 5,
   "id": "7539f5a3",
   "metadata": {},
   "outputs": [],
   "source": [
    "jpype.shutdownJVM()"
   ]
  },
  {
   "cell_type": "code",
   "execution_count": null,
   "id": "3c823da2",
   "metadata": {},
   "outputs": [],
   "source": []
  }
 ],
 "metadata": {
  "kernelspec": {
   "display_name": "Python 3 (ipykernel)",
   "language": "python",
   "name": "python3"
  },
  "language_info": {
   "codemirror_mode": {
    "name": "ipython",
    "version": 3
   },
   "file_extension": ".py",
   "mimetype": "text/x-python",
   "name": "python",
   "nbconvert_exporter": "python",
   "pygments_lexer": "ipython3",
   "version": "3.9.12"
  }
 },
 "nbformat": 4,
 "nbformat_minor": 5
}
