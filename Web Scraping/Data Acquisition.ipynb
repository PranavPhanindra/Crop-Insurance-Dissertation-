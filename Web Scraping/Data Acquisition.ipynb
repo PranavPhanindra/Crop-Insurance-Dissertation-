{
 "cells": [
  {
   "cell_type": "code",
   "execution_count": 24,
   "id": "28445f23",
   "metadata": {},
   "outputs": [
    {
     "name": "stdout",
     "output_type": "stream",
     "text": [
      "Requirement already satisfied: selenium in /home/dmacs/anaconda3/lib/python3.9/site-packages (4.3.0)\n",
      "Requirement already satisfied: trio~=0.17 in /home/dmacs/anaconda3/lib/python3.9/site-packages (from selenium) (0.21.0)\n",
      "Requirement already satisfied: trio-websocket~=0.9 in /home/dmacs/anaconda3/lib/python3.9/site-packages (from selenium) (0.9.2)\n",
      "Requirement already satisfied: urllib3[secure,socks]~=1.26 in /home/dmacs/anaconda3/lib/python3.9/site-packages (from selenium) (1.26.9)\n",
      "Requirement already satisfied: sniffio in /home/dmacs/anaconda3/lib/python3.9/site-packages (from trio~=0.17->selenium) (1.2.0)\n",
      "Requirement already satisfied: idna in /home/dmacs/anaconda3/lib/python3.9/site-packages (from trio~=0.17->selenium) (3.3)\n",
      "Requirement already satisfied: outcome in /home/dmacs/anaconda3/lib/python3.9/site-packages (from trio~=0.17->selenium) (1.2.0)\n",
      "Requirement already satisfied: attrs>=19.2.0 in /home/dmacs/anaconda3/lib/python3.9/site-packages (from trio~=0.17->selenium) (21.4.0)\n",
      "Requirement already satisfied: async-generator>=1.9 in /home/dmacs/anaconda3/lib/python3.9/site-packages (from trio~=0.17->selenium) (1.10)\n",
      "Requirement already satisfied: sortedcontainers in /home/dmacs/anaconda3/lib/python3.9/site-packages (from trio~=0.17->selenium) (2.4.0)\n",
      "Requirement already satisfied: wsproto>=0.14 in /home/dmacs/anaconda3/lib/python3.9/site-packages (from trio-websocket~=0.9->selenium) (1.1.0)\n",
      "Requirement already satisfied: pyOpenSSL>=0.14 in /home/dmacs/anaconda3/lib/python3.9/site-packages (from urllib3[secure,socks]~=1.26->selenium) (21.0.0)\n",
      "Requirement already satisfied: certifi in /home/dmacs/anaconda3/lib/python3.9/site-packages (from urllib3[secure,socks]~=1.26->selenium) (2021.10.8)\n",
      "Requirement already satisfied: cryptography>=1.3.4 in /home/dmacs/anaconda3/lib/python3.9/site-packages (from urllib3[secure,socks]~=1.26->selenium) (3.4.8)\n",
      "Requirement already satisfied: PySocks!=1.5.7,<2.0,>=1.5.6 in /home/dmacs/anaconda3/lib/python3.9/site-packages (from urllib3[secure,socks]~=1.26->selenium) (1.7.1)\n",
      "Requirement already satisfied: cffi>=1.12 in /home/dmacs/anaconda3/lib/python3.9/site-packages (from cryptography>=1.3.4->urllib3[secure,socks]~=1.26->selenium) (1.15.0)\n",
      "Requirement already satisfied: pycparser in /home/dmacs/anaconda3/lib/python3.9/site-packages (from cffi>=1.12->cryptography>=1.3.4->urllib3[secure,socks]~=1.26->selenium) (2.21)\n",
      "Requirement already satisfied: six>=1.5.2 in /home/dmacs/anaconda3/lib/python3.9/site-packages (from pyOpenSSL>=0.14->urllib3[secure,socks]~=1.26->selenium) (1.16.0)\n",
      "Requirement already satisfied: h11<1,>=0.9.0 in /home/dmacs/anaconda3/lib/python3.9/site-packages (from wsproto>=0.14->trio-websocket~=0.9->selenium) (0.13.0)\n",
      "Requirement already satisfied: webdriver_manager in /home/dmacs/anaconda3/lib/python3.9/site-packages (3.8.3)\n",
      "Requirement already satisfied: python-dotenv in /home/dmacs/anaconda3/lib/python3.9/site-packages (from webdriver_manager) (0.20.0)\n",
      "Requirement already satisfied: requests in /home/dmacs/anaconda3/lib/python3.9/site-packages (from webdriver_manager) (2.27.1)\n",
      "Requirement already satisfied: tqdm in /home/dmacs/anaconda3/lib/python3.9/site-packages (from webdriver_manager) (4.64.0)\n",
      "Requirement already satisfied: charset-normalizer~=2.0.0 in /home/dmacs/anaconda3/lib/python3.9/site-packages (from requests->webdriver_manager) (2.0.4)\n",
      "Requirement already satisfied: certifi>=2017.4.17 in /home/dmacs/anaconda3/lib/python3.9/site-packages (from requests->webdriver_manager) (2021.10.8)\n",
      "Requirement already satisfied: urllib3<1.27,>=1.21.1 in /home/dmacs/anaconda3/lib/python3.9/site-packages (from requests->webdriver_manager) (1.26.9)\n",
      "Requirement already satisfied: idna<4,>=2.5 in /home/dmacs/anaconda3/lib/python3.9/site-packages (from requests->webdriver_manager) (3.3)\n",
      "Requirement already satisfied: openpyxl in /home/dmacs/anaconda3/lib/python3.9/site-packages (3.0.9)\n",
      "Requirement already satisfied: et-xmlfile in /home/dmacs/anaconda3/lib/python3.9/site-packages (from openpyxl) (1.1.0)\n",
      "Requirement already satisfied: xlrd in /home/dmacs/anaconda3/lib/python3.9/site-packages (2.0.1)\n",
      "Requirement already satisfied: pyexcel in /home/dmacs/anaconda3/lib/python3.9/site-packages (0.7.0)\n",
      "Requirement already satisfied: pyexcel-xls in /home/dmacs/anaconda3/lib/python3.9/site-packages (0.7.0)\n",
      "Requirement already satisfied: pyexcel-xlsx in /home/dmacs/anaconda3/lib/python3.9/site-packages (0.6.0)\n",
      "Requirement already satisfied: texttable>=0.8.2 in /home/dmacs/anaconda3/lib/python3.9/site-packages (from pyexcel) (1.6.4)\n",
      "Requirement already satisfied: lml>=0.0.4 in /home/dmacs/anaconda3/lib/python3.9/site-packages (from pyexcel) (0.1.0)\n",
      "Requirement already satisfied: chardet in /home/dmacs/anaconda3/lib/python3.9/site-packages (from pyexcel) (4.0.0)\n",
      "Requirement already satisfied: pyexcel-io>=0.6.2 in /home/dmacs/anaconda3/lib/python3.9/site-packages (from pyexcel) (0.6.6)\n",
      "Requirement already satisfied: xlrd in /home/dmacs/anaconda3/lib/python3.9/site-packages (from pyexcel-xls) (2.0.1)\n",
      "Requirement already satisfied: xlwt in /home/dmacs/anaconda3/lib/python3.9/site-packages (from pyexcel-xls) (1.3.0)\n",
      "Requirement already satisfied: openpyxl>=2.6.1 in /home/dmacs/anaconda3/lib/python3.9/site-packages (from pyexcel-xlsx) (3.0.9)\n",
      "Requirement already satisfied: et-xmlfile in /home/dmacs/anaconda3/lib/python3.9/site-packages (from openpyxl>=2.6.1->pyexcel-xlsx) (1.1.0)\n",
      "Requirement already satisfied: bs4 in /home/dmacs/anaconda3/lib/python3.9/site-packages (0.0.1)\n",
      "Requirement already satisfied: beautifulsoup4 in /home/dmacs/anaconda3/lib/python3.9/site-packages (from bs4) (4.11.1)\n",
      "Requirement already satisfied: soupsieve>1.2 in /home/dmacs/anaconda3/lib/python3.9/site-packages (from beautifulsoup4->bs4) (2.3.1)\n"
     ]
    }
   ],
   "source": [
    "!pip install selenium\n",
    "!pip install  webdriver_manager\n",
    "!pip install openpyxl\n",
    "!pip install xlrd\n",
    "!pip install pyexcel pyexcel-xls pyexcel-xlsx\n",
    "!pip install bs4"
   ]
  },
  {
   "cell_type": "code",
   "execution_count": 34,
   "id": "13936c2e",
   "metadata": {},
   "outputs": [],
   "source": [
    "from selenium import webdriver\n",
    "from selenium.webdriver.common.by import By\n",
    "from selenium.webdriver.support.ui import WebDriverWait\n",
    "from selenium.webdriver.support import expected_conditions\n",
    "from selenium.webdriver.support.ui import Select\n",
    "from selenium.webdriver.common.keys import Keys\n",
    "from selenium.webdriver.support import expected_conditions as EC\n",
    "from selenium.webdriver.firefox.options import Options\n",
    "from selenium.webdriver.common.action_chains import ActionChains\n",
    "\n",
    "import openpyxl\n",
    "import os\n",
    "from bs4 import BeautifulSoup as soup\n",
    "import pandas as pd\n",
    "import time\n",
    "import shutil"
   ]
  },
  {
   "cell_type": "code",
   "execution_count": 35,
   "id": "11b280b9",
   "metadata": {},
   "outputs": [],
   "source": [
    "!export PATH=$PATH:/home/dmacs/Documents/Dissertation_Codes/Data_Acquisition/geckodriverlinux64/geckodriver"
   ]
  },
  {
   "cell_type": "code",
   "execution_count": 40,
   "id": "a231058f",
   "metadata": {},
   "outputs": [],
   "source": [
    "import warnings\n",
    "warnings.filterwarnings(\"ignore\", category=DeprecationWarning)\n",
    "\n",
    "#Accepting SSL certificates\n",
    "capabilities = webdriver.DesiredCapabilities().FIREFOX\n",
    "capabilities['acceptSslCerts'] = True\n",
    "\n",
    "#Open driver without opening window\n",
    "options = Options()\n",
    "options.add_argument('--headless')"
   ]
  },
  {
   "cell_type": "code",
   "execution_count": 41,
   "id": "db42d205",
   "metadata": {},
   "outputs": [],
   "source": [
    "#https://agmarknet.gov.in/PriceTrends/SA_TotalArrival.aspx\n",
    "driver = webdriver.Firefox(capabilities=capabilities)\n",
    "driver.get('https://agmarknet.gov.in/PriceTrends/SA_TotalArrival.aspx')"
   ]
  },
  {
   "cell_type": "code",
   "execution_count": 46,
   "id": "87b4aa79",
   "metadata": {},
   "outputs": [],
   "source": [
    "driver.find_element(By.ID,\"cphBody_date_textbox\").click()\n"
   ]
  },
  {
   "cell_type": "code",
   "execution_count": 47,
   "id": "593cb515",
   "metadata": {},
   "outputs": [],
   "source": [
    "commodity = Select(driver.find_element(By.XPATH,\"//*[@id = 'cphBody_Commodity_list']\"))\n",
    "commodity.select_by_index('1')"
   ]
  },
  {
   "cell_type": "code",
   "execution_count": 30,
   "id": "5ffd0ba7",
   "metadata": {},
   "outputs": [],
   "source": []
  },
  {
   "cell_type": "code",
   "execution_count": 31,
   "id": "82fd4b3f",
   "metadata": {},
   "outputs": [],
   "source": [
    "dateTo = driver.find_element(By.XPATH,\"//*[@id = 'cphBody_Enddate_textbox']\")\n",
    "dateTo.send_keys(Keys.CONTROL,'a')\n",
    "dateTo.send_keys(Keys.BACKSPACE)\n",
    "dateTo.send_keys('31-Mar-2022')\n"
   ]
  },
  {
   "cell_type": "code",
   "execution_count": 39,
   "id": "398f1633",
   "metadata": {},
   "outputs": [],
   "source": [
    "driver.quit()"
   ]
  },
  {
   "cell_type": "code",
   "execution_count": null,
   "id": "1e1bc25f",
   "metadata": {},
   "outputs": [],
   "source": []
  }
 ],
 "metadata": {
  "kernelspec": {
   "display_name": "Python 3 (ipykernel)",
   "language": "python",
   "name": "python3"
  },
  "language_info": {
   "codemirror_mode": {
    "name": "ipython",
    "version": 3
   },
   "file_extension": ".py",
   "mimetype": "text/x-python",
   "name": "python",
   "nbconvert_exporter": "python",
   "pygments_lexer": "ipython3",
   "version": "3.9.12"
  }
 },
 "nbformat": 4,
 "nbformat_minor": 5
}
