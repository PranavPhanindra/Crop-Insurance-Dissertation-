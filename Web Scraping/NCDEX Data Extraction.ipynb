{
 "cells": [
  {
   "cell_type": "code",
   "execution_count": 1,
   "id": "2e3aae4b",
   "metadata": {},
   "outputs": [],
   "source": [
    "from selenium import webdriver\n",
    "from selenium.webdriver.common.by import By\n",
    "from selenium.webdriver.support.ui import WebDriverWait\n",
    "from selenium.webdriver.support import expected_conditions\n",
    "from selenium.webdriver.support.ui import Select\n",
    "from selenium.webdriver.common.keys import Keys\n",
    "from selenium.webdriver.support import expected_conditions as EC\n",
    "from selenium.webdriver.firefox.options import Options\n",
    "\n",
    "\n",
    "import openpyxl\n",
    "import os\n",
    "from bs4 import BeautifulSoup as soup\n",
    "import pandas as pd\n",
    "import time\n",
    "import shutil"
   ]
  },
  {
   "cell_type": "code",
   "execution_count": 2,
   "id": "b07ee046",
   "metadata": {},
   "outputs": [],
   "source": [
    "!export PATH=$PATH:/home/dmacs/Documents/Dissertation_Codes/Data_Acquisition/geckodriverlinux64/geckodriver"
   ]
  },
  {
   "cell_type": "code",
   "execution_count": 3,
   "id": "569aea8b",
   "metadata": {},
   "outputs": [],
   "source": [
    "import warnings\n",
    "warnings.filterwarnings(\"ignore\", category=DeprecationWarning)\n",
    "\n",
    "#Accepting SSL certificates\n",
    "capabilities = webdriver.DesiredCapabilities().FIREFOX\n",
    "capabilities['acceptSslCerts'] = True\n",
    "\n",
    "#Open driver without opening window\n",
    "options = Options()\n",
    "options.add_argument('--headless')"
   ]
  },
  {
   "cell_type": "code",
   "execution_count": 4,
   "id": "cc69ce0d",
   "metadata": {},
   "outputs": [],
   "source": [
    "link = 'https://www.ncdex.com/'\n",
    "link_driver = webdriver.Firefox(capabilities=capabilities)\n",
    "link_driver.get(link)"
   ]
  },
  {
   "cell_type": "code",
   "execution_count": 6,
   "id": "c354232c",
   "metadata": {},
   "outputs": [
    {
     "ename": "UnexpectedTagNameException",
     "evalue": "Message: Select only works on <select> elements, not on <a>\n",
     "output_type": "error",
     "traceback": [
      "\u001b[0;31m---------------------------------------------------------------------------\u001b[0m",
      "\u001b[0;31mUnexpectedTagNameException\u001b[0m                Traceback (most recent call last)",
      "Input \u001b[0;32mIn [6]\u001b[0m, in \u001b[0;36m<cell line: 1>\u001b[0;34m()\u001b[0m\n\u001b[0;32m----> 1\u001b[0m markt_data_Drop \u001b[38;5;241m=\u001b[39m \u001b[43mSelect\u001b[49m\u001b[43m(\u001b[49m\u001b[43mlink_driver\u001b[49m\u001b[38;5;241;43m.\u001b[39;49m\u001b[43mfind_element\u001b[49m\u001b[43m(\u001b[49m\u001b[43mBy\u001b[49m\u001b[38;5;241;43m.\u001b[39;49m\u001b[43mID\u001b[49m\u001b[43m \u001b[49m\u001b[43m,\u001b[49m\u001b[43m \u001b[49m\u001b[38;5;124;43m\"\u001b[39;49m\u001b[38;5;124;43mmegamneu\u001b[39;49m\u001b[38;5;124;43m\"\u001b[39;49m\u001b[43m)\u001b[49m\u001b[43m)\u001b[49m\n",
      "File \u001b[0;32m~/anaconda3/lib/python3.9/site-packages/selenium/webdriver/support/select.py:37\u001b[0m, in \u001b[0;36mSelect.__init__\u001b[0;34m(self, webelement)\u001b[0m\n\u001b[1;32m     25\u001b[0m \u001b[38;5;124;03m\"\"\"\u001b[39;00m\n\u001b[1;32m     26\u001b[0m \u001b[38;5;124;03mConstructor. A check is made that the given element is, indeed, a SELECT tag. If it is not,\u001b[39;00m\n\u001b[1;32m     27\u001b[0m \u001b[38;5;124;03mthen an UnexpectedTagNameException is thrown.\u001b[39;00m\n\u001b[0;32m   (...)\u001b[0m\n\u001b[1;32m     34\u001b[0m \u001b[38;5;124;03m    Select(driver.find_element(By.TAG_NAME, \"select\")).select_by_index(2)\u001b[39;00m\n\u001b[1;32m     35\u001b[0m \u001b[38;5;124;03m\"\"\"\u001b[39;00m\n\u001b[1;32m     36\u001b[0m \u001b[38;5;28;01mif\u001b[39;00m webelement\u001b[38;5;241m.\u001b[39mtag_name\u001b[38;5;241m.\u001b[39mlower() \u001b[38;5;241m!=\u001b[39m \u001b[38;5;124m\"\u001b[39m\u001b[38;5;124mselect\u001b[39m\u001b[38;5;124m\"\u001b[39m:\n\u001b[0;32m---> 37\u001b[0m     \u001b[38;5;28;01mraise\u001b[39;00m UnexpectedTagNameException(\n\u001b[1;32m     38\u001b[0m         \u001b[38;5;124m\"\u001b[39m\u001b[38;5;124mSelect only works on <select> elements, not on <\u001b[39m\u001b[38;5;132;01m%s\u001b[39;00m\u001b[38;5;124m>\u001b[39m\u001b[38;5;124m\"\u001b[39m \u001b[38;5;241m%\u001b[39m\n\u001b[1;32m     39\u001b[0m         webelement\u001b[38;5;241m.\u001b[39mtag_name)\n\u001b[1;32m     40\u001b[0m \u001b[38;5;28mself\u001b[39m\u001b[38;5;241m.\u001b[39m_el \u001b[38;5;241m=\u001b[39m webelement\n\u001b[1;32m     41\u001b[0m multi \u001b[38;5;241m=\u001b[39m \u001b[38;5;28mself\u001b[39m\u001b[38;5;241m.\u001b[39m_el\u001b[38;5;241m.\u001b[39mget_dom_attribute(\u001b[38;5;124m\"\u001b[39m\u001b[38;5;124mmultiple\u001b[39m\u001b[38;5;124m\"\u001b[39m)\n",
      "\u001b[0;31mUnexpectedTagNameException\u001b[0m: Message: Select only works on <select> elements, not on <a>\n"
     ]
    }
   ],
   "source": [
    "markt_data_Drop = Select(link_driver.find_element(By.ID , \"megamneu\"))"
   ]
  },
  {
   "cell_type": "code",
   "execution_count": 7,
   "id": "9701e90a",
   "metadata": {},
   "outputs": [],
   "source": [
    "link_driver.quit()"
   ]
  },
  {
   "cell_type": "code",
   "execution_count": null,
   "id": "59cc9e20",
   "metadata": {},
   "outputs": [],
   "source": []
  }
 ],
 "metadata": {
  "kernelspec": {
   "display_name": "Python 3 (ipykernel)",
   "language": "python",
   "name": "python3"
  },
  "language_info": {
   "codemirror_mode": {
    "name": "ipython",
    "version": 3
   },
   "file_extension": ".py",
   "mimetype": "text/x-python",
   "name": "python",
   "nbconvert_exporter": "python",
   "pygments_lexer": "ipython3",
   "version": "3.9.12"
  }
 },
 "nbformat": 4,
 "nbformat_minor": 5
}
