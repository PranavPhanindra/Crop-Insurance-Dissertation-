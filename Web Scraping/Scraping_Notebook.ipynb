{
 "cells": [
  {
   "cell_type": "code",
   "execution_count": null,
   "id": "835c89fd",
   "metadata": {},
   "outputs": [
    {
     "name": "stdout",
     "output_type": "stream",
     "text": [
      "Requirement already satisfied: selenium in /home/dmacs/anaconda3/lib/python3.9/site-packages (4.3.0)\n",
      "Requirement already satisfied: urllib3[secure,socks]~=1.26 in /home/dmacs/anaconda3/lib/python3.9/site-packages (from selenium) (1.26.9)\n",
      "Requirement already satisfied: trio-websocket~=0.9 in /home/dmacs/anaconda3/lib/python3.9/site-packages (from selenium) (0.9.2)\n",
      "Requirement already satisfied: trio~=0.17 in /home/dmacs/anaconda3/lib/python3.9/site-packages (from selenium) (0.21.0)\n",
      "Requirement already satisfied: sortedcontainers in /home/dmacs/anaconda3/lib/python3.9/site-packages (from trio~=0.17->selenium) (2.4.0)\n",
      "Requirement already satisfied: sniffio in /home/dmacs/anaconda3/lib/python3.9/site-packages (from trio~=0.17->selenium) (1.2.0)\n",
      "Requirement already satisfied: idna in /home/dmacs/anaconda3/lib/python3.9/site-packages (from trio~=0.17->selenium) (3.3)\n",
      "Requirement already satisfied: outcome in /home/dmacs/anaconda3/lib/python3.9/site-packages (from trio~=0.17->selenium) (1.2.0)\n",
      "Requirement already satisfied: attrs>=19.2.0 in /home/dmacs/anaconda3/lib/python3.9/site-packages (from trio~=0.17->selenium) (21.4.0)\n",
      "Requirement already satisfied: async-generator>=1.9 in /home/dmacs/anaconda3/lib/python3.9/site-packages (from trio~=0.17->selenium) (1.10)\n",
      "Requirement already satisfied: wsproto>=0.14 in /home/dmacs/anaconda3/lib/python3.9/site-packages (from trio-websocket~=0.9->selenium) (1.1.0)\n",
      "Requirement already satisfied: PySocks!=1.5.7,<2.0,>=1.5.6 in /home/dmacs/anaconda3/lib/python3.9/site-packages (from urllib3[secure,socks]~=1.26->selenium) (1.7.1)\n",
      "Requirement already satisfied: certifi in /home/dmacs/anaconda3/lib/python3.9/site-packages (from urllib3[secure,socks]~=1.26->selenium) (2021.10.8)\n",
      "Requirement already satisfied: pyOpenSSL>=0.14 in /home/dmacs/anaconda3/lib/python3.9/site-packages (from urllib3[secure,socks]~=1.26->selenium) (21.0.0)\n",
      "Requirement already satisfied: cryptography>=1.3.4 in /home/dmacs/anaconda3/lib/python3.9/site-packages (from urllib3[secure,socks]~=1.26->selenium) (3.4.8)\n",
      "Requirement already satisfied: cffi>=1.12 in /home/dmacs/anaconda3/lib/python3.9/site-packages (from cryptography>=1.3.4->urllib3[secure,socks]~=1.26->selenium) (1.15.0)\n",
      "Requirement already satisfied: pycparser in /home/dmacs/anaconda3/lib/python3.9/site-packages (from cffi>=1.12->cryptography>=1.3.4->urllib3[secure,socks]~=1.26->selenium) (2.21)\n",
      "Requirement already satisfied: six>=1.5.2 in /home/dmacs/anaconda3/lib/python3.9/site-packages (from pyOpenSSL>=0.14->urllib3[secure,socks]~=1.26->selenium) (1.16.0)\n",
      "Requirement already satisfied: h11<1,>=0.9.0 in /home/dmacs/anaconda3/lib/python3.9/site-packages (from wsproto>=0.14->trio-websocket~=0.9->selenium) (0.13.0)\n",
      "Requirement already satisfied: webdriver_manager in /home/dmacs/anaconda3/lib/python3.9/site-packages (3.8.3)\n",
      "Requirement already satisfied: requests in /home/dmacs/anaconda3/lib/python3.9/site-packages (from webdriver_manager) (2.27.1)\n",
      "Requirement already satisfied: tqdm in /home/dmacs/anaconda3/lib/python3.9/site-packages (from webdriver_manager) (4.64.0)\n",
      "Requirement already satisfied: python-dotenv in /home/dmacs/anaconda3/lib/python3.9/site-packages (from webdriver_manager) (0.20.0)\n",
      "Requirement already satisfied: certifi>=2017.4.17 in /home/dmacs/anaconda3/lib/python3.9/site-packages (from requests->webdriver_manager) (2021.10.8)\n",
      "Requirement already satisfied: idna<4,>=2.5 in /home/dmacs/anaconda3/lib/python3.9/site-packages (from requests->webdriver_manager) (3.3)\n",
      "Requirement already satisfied: charset-normalizer~=2.0.0 in /home/dmacs/anaconda3/lib/python3.9/site-packages (from requests->webdriver_manager) (2.0.4)\n",
      "Requirement already satisfied: urllib3<1.27,>=1.21.1 in /home/dmacs/anaconda3/lib/python3.9/site-packages (from requests->webdriver_manager) (1.26.9)\n",
      "Requirement already satisfied: openpyxl in /home/dmacs/anaconda3/lib/python3.9/site-packages (3.0.9)\n",
      "Requirement already satisfied: et-xmlfile in /home/dmacs/anaconda3/lib/python3.9/site-packages (from openpyxl) (1.1.0)\n",
      "Requirement already satisfied: xlrd in /home/dmacs/anaconda3/lib/python3.9/site-packages (2.0.1)\n",
      "Requirement already satisfied: pyexcel in /home/dmacs/anaconda3/lib/python3.9/site-packages (0.7.0)\n",
      "Requirement already satisfied: pyexcel-xls in /home/dmacs/anaconda3/lib/python3.9/site-packages (0.7.0)\n",
      "Requirement already satisfied: pyexcel-xlsx in /home/dmacs/anaconda3/lib/python3.9/site-packages (0.6.0)\n",
      "Requirement already satisfied: pyexcel-io>=0.6.2 in /home/dmacs/anaconda3/lib/python3.9/site-packages (from pyexcel) (0.6.6)\n",
      "Requirement already satisfied: texttable>=0.8.2 in /home/dmacs/anaconda3/lib/python3.9/site-packages (from pyexcel) (1.6.4)\n",
      "Requirement already satisfied: chardet in /home/dmacs/anaconda3/lib/python3.9/site-packages (from pyexcel) (4.0.0)\n",
      "Requirement already satisfied: lml>=0.0.4 in /home/dmacs/anaconda3/lib/python3.9/site-packages (from pyexcel) (0.1.0)\n",
      "Requirement already satisfied: xlwt in /home/dmacs/anaconda3/lib/python3.9/site-packages (from pyexcel-xls) (1.3.0)\n",
      "Requirement already satisfied: xlrd in /home/dmacs/anaconda3/lib/python3.9/site-packages (from pyexcel-xls) (2.0.1)\n",
      "Requirement already satisfied: openpyxl>=2.6.1 in /home/dmacs/anaconda3/lib/python3.9/site-packages (from pyexcel-xlsx) (3.0.9)\n",
      "Requirement already satisfied: et-xmlfile in /home/dmacs/anaconda3/lib/python3.9/site-packages (from openpyxl>=2.6.1->pyexcel-xlsx) (1.1.0)\n"
     ]
    }
   ],
   "source": [
    "!pip install selenium\n",
    "!pip install  webdriver_manager\n",
    "!pip install openpyxl\n",
    "!pip install xlrd\n",
    "!pip install pyexcel pyexcel-xls pyexcel-xlsx\n",
    "!pip install bs4"
   ]
  },
  {
   "cell_type": "code",
   "execution_count": null,
   "id": "a9469f6c",
   "metadata": {},
   "outputs": [],
   "source": [
    "from selenium import webdriver\n",
    "from selenium.webdriver.common.by import By\n",
    "from selenium.webdriver.support.ui import WebDriverWait\n",
    "from selenium.webdriver.support import expected_conditions\n",
    "from selenium.webdriver.support.ui import Select\n",
    "from selenium.webdriver.common.keys import Keys\n",
    "from selenium.webdriver.support import expected_conditions as EC\n",
    "from selenium.webdriver.firefox.options import Options\n",
    "\n",
    "\n",
    "import openpyxl\n",
    "import os\n",
    "from bs4 import BeautifulSoup as soup\n",
    "import pandas as pd\n",
    "import time\n",
    "import shutil"
   ]
  },
  {
   "cell_type": "code",
   "execution_count": null,
   "id": "e92d0cc7",
   "metadata": {},
   "outputs": [],
   "source": [
    "!export PATH=$PATH:/home/dmacs/Documents/Dissertation_Codes/Data_Acquisition/geckodriverlinux64/geckodriver"
   ]
  },
  {
   "cell_type": "code",
   "execution_count": null,
   "id": "e667944e",
   "metadata": {},
   "outputs": [],
   "source": [
    "links_book = openpyxl.load_workbook(\"/home/dmacs/Documents/Pranav Phanindra/MSP - Crop Insurance-20220711T081248Z-001/Crop Data/Links.xlsx\")\n",
    "links_sheet = links_book['Sheet1']\n",
    "print(links_book.sheetnames)"
   ]
  },
  {
   "cell_type": "code",
   "execution_count": null,
   "id": "6e6266d0",
   "metadata": {},
   "outputs": [],
   "source": [
    "for i in range(1,links_sheet.max_row+1) :\n",
    "    print(str(i),links_sheet.cell(i,1).value,'\\n')"
   ]
  },
  {
   "cell_type": "code",
   "execution_count": null,
   "id": "e0586984",
   "metadata": {},
   "outputs": [],
   "source": [
    "import warnings\n",
    "warnings.filterwarnings(\"ignore\", category=DeprecationWarning)\n",
    "\n",
    "#Accepting SSL certificates\n",
    "capabilities = webdriver.DesiredCapabilities().FIREFOX\n",
    "capabilities['acceptSslCerts'] = True\n",
    "\n",
    "#Open driver without opening window\n",
    "options = Options()\n",
    "options.add_argument('--headless')"
   ]
  },
  {
   "cell_type": "code",
   "execution_count": null,
   "id": "d1b245be",
   "metadata": {},
   "outputs": [],
   "source": [
    "old_path = '/home/dmacs/Documents/Pranav Phanindra/Data_Scraping_Final/Data_excel/'\n",
    "new_path_1 = '/home/dmacs/Documents/Pranav Phanindra/Data_Scraping_Final/Data_excel/'\n",
    "new_path_2 = '/home/dmacs/Documents/Pranav Phanindra/Data_Scraping_Final/Data_html/'\n"
   ]
  },
  {
   "cell_type": "code",
   "execution_count": null,
   "id": "5cad786e",
   "metadata": {
    "scrolled": true
   },
   "outputs": [],
   "source": [
    "\n",
    "\n",
    "for i in range(89, links_sheet.max_row + 1) :\n",
    "    \n",
    "    #Setting preferences to download directory\n",
    "    profile = webdriver.FirefoxProfile()\n",
    "    profile.set_preference('browser.download.folderList',2)\n",
    "    profile.set_preference('browser.download.manager.showWhenStarting',False)\n",
    "    profile.set_preference('browser.download.dir',\n",
    "                           '/home/dmacs/Documents/Pranav Phanindra/Data_Scraping_Final/Data_excel/')\n",
    "    profile.set_preference('browser.helperApps.neverAsk.saveTODisk','application/x-gzip')\n",
    "\n",
    "    \n",
    "    #,options = options\n",
    "    link_driver = webdriver.Firefox(capabilities=capabilities,firefox_profile = profile)\n",
    "    link_driver.get(links_sheet.cell(i,1).value)\n",
    "    \n",
    "    try:\n",
    "        #Wait until the required element is seen \n",
    "        element = WebDriverWait(link_driver, 40) \n",
    "        element.until(EC.presence_of_element_located((By.ID, \"cphBody_ButtonExcel\")))\n",
    "        \n",
    "        #Setting date to required financial year date\n",
    "        dateto = link_driver.find_element(By.XPATH ,\"//*[@id='txtDateTo']\" )\n",
    "        dateto.send_keys(Keys.CONTROL,'a')\n",
    "        dateto.send_keys(Keys.BACKSPACE)\n",
    "        dateto.send_keys('31-Mar-2022')\n",
    "        dateto.send_keys(Keys.ENTER)\n",
    "        time.sleep(40)\n",
    "        \n",
    "        #Trying to dowload data in excel format\n",
    "        to_Excel = link_driver.find_element(By.XPATH , \"//*[@id='cphBody_ButtonExcel']\")\n",
    "        to_Excel.click()\n",
    "        time.sleep(40)\n",
    "        \n",
    "        state = link_driver.find_element(By.XPATH , \"//*[@id='ddlState']\").get_attribute(name='value')\n",
    "        commodity = link_driver.find_element(By.ID , 'ddlCommodity').get_attribute(name='value')\n",
    "        \n",
    "        \n",
    "        \n",
    "        old_name =  old_path + 'Agmarknet_Price_Report.xls'\n",
    "        new_name_1 = new_path_1 + '{}-{}.xls'.format(commodity,state)\n",
    "        new_name_2 = new_path_2 + '{}_{}.html'.format(commodity,state)\n",
    "\n",
    "        \n",
    "        if 'Agmarknet_Price_Report.xls' in os.listdir(old_path) :\n",
    "            shutil.copy(old_name, new_name_1)\n",
    "            os.rename(old_name, new_name_2)\n",
    "    \n",
    "    \n",
    "    finally:\n",
    "        link_driver.quit()\n",
    "        print('Done')\n",
    "        \n",
    "        \n",
    "    \n",
    "        \n",
    "    \n",
    "\n"
   ]
  },
  {
   "cell_type": "code",
   "execution_count": null,
   "id": "ea58be15",
   "metadata": {},
   "outputs": [],
   "source": [
    "#Setting preferences to download directory\n",
    "profile = webdriver.FirefoxProfile()\n",
    "profile.set_preference('browser.download.folderList',2)\n",
    "profile.set_preference('browser.download.manager.showWhenStarting',False)\n",
    "profile.set_preference('browser.download.dir',\n",
    "                           '/home/dmacs/Documents/Pranav Phanindra/Data_Scraping_Final/Data_excel/')\n",
    "profile.set_preference('browser.helperApps.neverAsk.saveTODisk','application/x-gzip')\n",
    "\n",
    "\n",
    "\n",
    "link = 'https://agmarknet.gov.in/SearchCmmMkt.aspx?Tx_Commodity=29&Tx_State=CG&Tx_District=0&Tx_Market=0&DateFrom=01-Apr-2008&DateTo=30-Apr-2019&Fr_Date=01-Apr-2008&To_Date=30-Apr-2019&Tx_Trend=0&Tx_CommodityHead=Barley+(Jau)&Tx_StateHead=Chattisgarh&Tx_DistrictHead=--Select--&Tx_MarketHead=--Select-- '\n",
    "link_driver = webdriver.Firefox(capabilities=capabilities,firefox_profile = profile)\n",
    "link_driver.get(link)\n"
   ]
  },
  {
   "cell_type": "code",
   "execution_count": 1,
   "id": "3687cf86",
   "metadata": {},
   "outputs": [
    {
     "ename": "NameError",
     "evalue": "name 'Select' is not defined",
     "output_type": "error",
     "traceback": [
      "\u001b[0;31m---------------------------------------------------------------------------\u001b[0m",
      "\u001b[0;31mNameError\u001b[0m                                 Traceback (most recent call last)",
      "Input \u001b[0;32mIn [1]\u001b[0m, in \u001b[0;36m<cell line: 1>\u001b[0;34m()\u001b[0m\n\u001b[0;32m----> 1\u001b[0m commodity \u001b[38;5;241m=\u001b[39m \u001b[43mSelect\u001b[49m(link_driver\u001b[38;5;241m.\u001b[39mfind_element(By\u001b[38;5;241m.\u001b[39mID , \u001b[38;5;124m\"\u001b[39m\u001b[38;5;124mddlCommodity\u001b[39m\u001b[38;5;124m\"\u001b[39m))\n\u001b[1;32m      2\u001b[0m commodity_options \u001b[38;5;241m=\u001b[39m commodity\u001b[38;5;241m.\u001b[39moptions\n\u001b[1;32m      3\u001b[0m \u001b[38;5;28mprint\u001b[39m(commodity_options)\n",
      "\u001b[0;31mNameError\u001b[0m: name 'Select' is not defined"
     ]
    }
   ],
   "source": [
    "commodity = Select(link_driver.find_element(By.ID , \"ddlCommodity\"))\n",
    "commodity.select_by_visible_text('Bengal Gram Dal (Chana Dal)')"
   ]
  },
  {
   "cell_type": "code",
   "execution_count": 2,
   "id": "6c35a6c7",
   "metadata": {},
   "outputs": [
    {
     "ename": "NameError",
     "evalue": "name 'Select' is not defined",
     "output_type": "error",
     "traceback": [
      "\u001b[0;31m---------------------------------------------------------------------------\u001b[0m",
      "\u001b[0;31mNameError\u001b[0m                                 Traceback (most recent call last)",
      "Input \u001b[0;32mIn [2]\u001b[0m, in \u001b[0;36m<cell line: 1>\u001b[0;34m()\u001b[0m\n\u001b[0;32m----> 1\u001b[0m state \u001b[38;5;241m=\u001b[39m \u001b[43mSelect\u001b[49m(link_driver\u001b[38;5;241m.\u001b[39mfind_element(By\u001b[38;5;241m.\u001b[39mID , \u001b[38;5;124m\"\u001b[39m\u001b[38;5;124mddlState\u001b[39m\u001b[38;5;124m\"\u001b[39m))\n\u001b[1;32m      2\u001b[0m state_options \u001b[38;5;241m=\u001b[39m state\u001b[38;5;241m.\u001b[39moptions\n\u001b[1;32m      3\u001b[0m \u001b[38;5;28mprint\u001b[39m(state_options)\n",
      "\u001b[0;31mNameError\u001b[0m: name 'Select' is not defined"
     ]
    }
   ],
   "source": [
    "state = Select(link_driver.find_element(By.ID , \"ddlState\"))\n",
    "state_options = state.options\n",
    "print(state_options)"
   ]
  },
  {
   "cell_type": "code",
   "execution_count": null,
   "id": "4deb3c4e",
   "metadata": {},
   "outputs": [],
   "source": [
    "for index in range(1, len(state_options)+1):\n",
    "    state.select_by_index(index)"
   ]
  },
  {
   "cell_type": "code",
   "execution_count": null,
   "id": "e962cc27",
   "metadata": {},
   "outputs": [],
   "source": [
    "link_driver.quit()"
   ]
  },
  {
   "cell_type": "code",
   "execution_count": null,
   "id": "e1ee71e0",
   "metadata": {},
   "outputs": [],
   "source": []
  }
 ],
 "metadata": {
  "kernelspec": {
   "display_name": "Python 3 (ipykernel)",
   "language": "python",
   "name": "python3"
  },
  "language_info": {
   "codemirror_mode": {
    "name": "ipython",
    "version": 3
   },
   "file_extension": ".py",
   "mimetype": "text/x-python",
   "name": "python",
   "nbconvert_exporter": "python",
   "pygments_lexer": "ipython3",
   "version": "3.9.12"
  }
 },
 "nbformat": 4,
 "nbformat_minor": 5
}
