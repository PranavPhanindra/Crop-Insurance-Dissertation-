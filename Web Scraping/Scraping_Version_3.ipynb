{
 "cells": [
  {
   "cell_type": "code",
   "execution_count": 24,
   "id": "9c3753c7",
   "metadata": {},
   "outputs": [],
   "source": [
    "from selenium import webdriver\n",
    "from selenium.webdriver.common.by import By\n",
    "from selenium.webdriver.support.ui import WebDriverWait\n",
    "from selenium.webdriver.support.ui import Select\n",
    "from selenium.webdriver.common.keys import Keys\n",
    "from selenium.webdriver.support import expected_conditions as EC\n",
    "from selenium.webdriver.firefox.options import Options\n",
    "from selenium.common.exceptions import StaleElementReferenceException\n",
    "from selenium.common.exceptions import NoSuchElementException\n",
    "from selenium.common.exceptions import InvalidSessionIdException\n",
    "from selenium.common.exceptions import WebDriverException\n",
    "    \n",
    "import openpyxl\n",
    "import os\n",
    "from bs4 import BeautifulSoup as soup\n",
    "import pandas as pd\n",
    "import time\n",
    "import shutil"
   ]
  },
  {
   "cell_type": "code",
   "execution_count": 2,
   "id": "42e52469",
   "metadata": {},
   "outputs": [],
   "source": [
    "!export PATH=$PATH:/home/dmacs/Documents/Dissertation_Codes/Data_Acquisition/geckodriverlinux64/geckodriver"
   ]
  },
  {
   "cell_type": "code",
   "execution_count": 3,
   "id": "ef116d93",
   "metadata": {},
   "outputs": [],
   "source": [
    "import warnings\n",
    "warnings.filterwarnings(\"ignore\", category=DeprecationWarning)\n",
    "\n",
    "#Accepting SSL certificates\n",
    "capabilities = webdriver.DesiredCapabilities().FIREFOX\n",
    "capabilities['acceptSslCerts'] = True\n",
    "\n",
    "#Open driver without opening window\n",
    "options = Options()\n",
    "options.add_argument('--headless')"
   ]
  },
  {
   "cell_type": "code",
   "execution_count": 4,
   "id": "1c5249d2",
   "metadata": {},
   "outputs": [],
   "source": [
    "old_path = '/home/dmacs/Documents/Pranav Phanindra/Data_Scraping_Final/Data_Part_2/Data_excel_2/'\n",
    "new_path_1 = '/home/dmacs/Documents/Pranav Phanindra/Data_Scraping_Final/Data_Part_2/Data_excel_2/'\n",
    "new_path_2 = '/home/dmacs/Documents/Pranav Phanindra/Data_Scraping_Final/Data_Part_2/Data_html_2/'\n"
   ]
  },
  {
   "cell_type": "code",
   "execution_count": 5,
   "id": "573ce579",
   "metadata": {},
   "outputs": [],
   "source": [
    "link = 'https://agmarknet.gov.in/'\n",
    "link_driver = webdriver.Firefox(capabilities=capabilities)\n",
    "link_driver.get(link)"
   ]
  },
  {
   "cell_type": "code",
   "execution_count": 6,
   "id": "6d92310a",
   "metadata": {},
   "outputs": [],
   "source": [
    "state = Select(link_driver.find_element(By.ID , \"ddlState\"))\n",
    "state_options = state.options\n",
    "#print(state_options)\n",
    "\n",
    "\n",
    "commodity = Select(link_driver.find_element(By.ID , \"ddlCommodity\"))\n",
    "commodity_options = commodity.options\n",
    "#print(commodity_options)"
   ]
  },
  {
   "cell_type": "code",
   "execution_count": 7,
   "id": "684bc71a",
   "metadata": {},
   "outputs": [
    {
     "name": "stdout",
     "output_type": "stream",
     "text": [
      "--Select--\n",
      "Andaman and Nicobar\n",
      "Andhra Pradesh\n",
      "Arunachal Pradesh\n",
      "Assam\n",
      "Bihar\n",
      "Chandigarh\n",
      "Chattisgarh\n",
      "Dadra and Nagar Haveli\n",
      "Daman and Diu\n",
      "Goa\n",
      "Gujarat\n",
      "Haryana\n",
      "Himachal Pradesh\n",
      "Jammu and Kashmir\n",
      "Jharkhand\n",
      "Karnataka\n",
      "Kerala\n",
      "Lakshadweep\n",
      "Madhya Pradesh\n",
      "Maharashtra\n",
      "Manipur\n",
      "Meghalaya\n",
      "Mizoram\n",
      "Nagaland\n",
      "NCT of Delhi\n",
      "Odisha\n",
      "Pondicherry\n",
      "Punjab\n",
      "Rajasthan\n",
      "Sikkim\n",
      "Tamil Nadu\n",
      "Telangana\n",
      "Tripura\n",
      "Uttar Pradesh\n",
      "Uttrakhand\n",
      "West Bengal\n"
     ]
    }
   ],
   "source": [
    "states_array = []\n",
    "for state_i in state_options :\n",
    "    print(state_i.get_attribute(\"text\"))\n",
    "    states_array.append(state_i.get_attribute(\"text\"))\n",
    "    \n",
    "states_array = states_array[1:]"
   ]
  },
  {
   "cell_type": "code",
   "execution_count": 8,
   "id": "1c75eeb4",
   "metadata": {},
   "outputs": [],
   "source": [
    "commodities = ['Maize','Barley (Jau)','Wheat','Bengal Gram(Gram)(Whole)',\n",
    "               'Bengal Gram Dal (Chana Dal)','Soyabean','Mustard']"
   ]
  },
  {
   "cell_type": "code",
   "execution_count": 25,
   "id": "cfdef7a4",
   "metadata": {},
   "outputs": [],
   "source": [
    "exceptions = (StaleElementReferenceException,NoSuchElementException,InvalidSessionIdException,WebDriverException)\n",
    "element = WebDriverWait(link_driver,20,ignored_exceptions=exceptions) "
   ]
  },
  {
   "cell_type": "code",
   "execution_count": 29,
   "id": "c94f362f",
   "metadata": {},
   "outputs": [
    {
     "name": "stdout",
     "output_type": "stream",
     "text": [
      "done\n"
     ]
    },
    {
     "ename": "TimeoutException",
     "evalue": "Message: \n",
     "output_type": "error",
     "traceback": [
      "\u001b[0;31m---------------------------------------------------------------------------\u001b[0m",
      "\u001b[0;31mTimeoutException\u001b[0m                          Traceback (most recent call last)",
      "Input \u001b[0;32mIn [29]\u001b[0m, in \u001b[0;36m<cell line: 1>\u001b[0;34m()\u001b[0m\n\u001b[1;32m     32\u001b[0m state\u001b[38;5;241m.\u001b[39mselect_by_visible_text(state_i)\n\u001b[1;32m     34\u001b[0m \u001b[38;5;28;01mtry\u001b[39;00m :\n\u001b[0;32m---> 36\u001b[0m     \u001b[43melement\u001b[49m\u001b[38;5;241;43m.\u001b[39;49m\u001b[43muntil\u001b[49m\u001b[43m(\u001b[49m\u001b[43mEC\u001b[49m\u001b[38;5;241;43m.\u001b[39;49m\u001b[43mpresence_of_element_located\u001b[49m\u001b[43m(\u001b[49m\u001b[43m(\u001b[49m\u001b[43mBy\u001b[49m\u001b[38;5;241;43m.\u001b[39;49m\u001b[43mID\u001b[49m\u001b[43m,\u001b[49m\u001b[38;5;124;43m\"\u001b[39;49m\u001b[38;5;124;43mbtnGo\u001b[39;49m\u001b[38;5;124;43m\"\u001b[39;49m\u001b[43m)\u001b[49m\u001b[43m)\u001b[49m\u001b[43m)\u001b[49m\n\u001b[1;32m     37\u001b[0m     go_button \u001b[38;5;241m=\u001b[39m link_driver\u001b[38;5;241m.\u001b[39mfind_element(By\u001b[38;5;241m.\u001b[39mXPATH,\u001b[38;5;124m\"\u001b[39m\u001b[38;5;124m//*[@id=\u001b[39m\u001b[38;5;124m'\u001b[39m\u001b[38;5;124mbtnGo\u001b[39m\u001b[38;5;124m'\u001b[39m\u001b[38;5;124m]\u001b[39m\u001b[38;5;124m\"\u001b[39m)\n\u001b[1;32m     38\u001b[0m     element\u001b[38;5;241m.\u001b[39muntil(EC\u001b[38;5;241m.\u001b[39melement_to_be_clickable((By\u001b[38;5;241m.\u001b[39mID,\u001b[38;5;124m\"\u001b[39m\u001b[38;5;124mbtnGo\u001b[39m\u001b[38;5;124m\"\u001b[39m)))\n",
      "File \u001b[0;32m~/anaconda3/lib/python3.9/site-packages/selenium/webdriver/support/wait.py:90\u001b[0m, in \u001b[0;36mWebDriverWait.until\u001b[0;34m(self, method, message)\u001b[0m\n\u001b[1;32m     88\u001b[0m     \u001b[38;5;28;01mif\u001b[39;00m time\u001b[38;5;241m.\u001b[39mmonotonic() \u001b[38;5;241m>\u001b[39m end_time:\n\u001b[1;32m     89\u001b[0m         \u001b[38;5;28;01mbreak\u001b[39;00m\n\u001b[0;32m---> 90\u001b[0m \u001b[38;5;28;01mraise\u001b[39;00m TimeoutException(message, screen, stacktrace)\n",
      "\u001b[0;31mTimeoutException\u001b[0m: Message: \n"
     ]
    }
   ],
   "source": [
    "for commodity_i in commodities :\n",
    "    \n",
    "    \n",
    "    for state_i in states_array :\n",
    "        link_driver = webdriver.Firefox(capabilities=capabilities)\n",
    "        link_driver.get(link)\n",
    "        time.sleep(5)\n",
    "        \n",
    "        #Identify the commodity and enter the required commodity name\n",
    "        #element.until(EC.presence_of_element_located((By.ID, \"ddlCommodity\")))\n",
    "        #element.until(EC.element_to_be_clickable((By.ID, \"ddlCommodity\")))\n",
    "        commodity = Select(link_driver.find_element(By.ID , \"ddlCommodity\"))\n",
    "        commodity.select_by_visible_text(commodity_i)\n",
    "\n",
    "        #Change the Date\n",
    "        datefrom = link_driver.find_element(By.XPATH,\"//*[@id='txtDate']\" )\n",
    "        datefrom.send_keys(Keys.CONTROL,'a')\n",
    "        datefrom.send_keys(Keys.BACKSPACE)\n",
    "        datefrom.send_keys('01-Apr-2008')\n",
    "        datefrom.send_keys(Keys.ENTER)\n",
    "        time.sleep(5)\n",
    "\n",
    "        dateto = link_driver.find_element(By.XPATH ,\"//*[@id='txtDateTo']\" )\n",
    "        dateto.send_keys(Keys.CONTROL,'a')\n",
    "        dateto.send_keys(Keys.BACKSPACE)\n",
    "        dateto.send_keys('31-Mar-2022')\n",
    "        dateto.send_keys(Keys.ENTER)\n",
    "        time.sleep(5)\n",
    "        \n",
    "        #element.until(EC.presence_of_element_located((By.ID, \"ddlState\")))\n",
    "        state = Select(link_driver.find_element(By.ID , \"ddlState\"))\n",
    "        state.select_by_visible_text(state_i)\n",
    "        \n",
    "        try :\n",
    "            \n",
    "            element.until(EC.presence_of_element_located((By.ID,\"btnGo\")))\n",
    "            go_button = link_driver.find_element(By.XPATH,\"//*[@id='btnGo']\")\n",
    "            element.until(EC.element_to_be_clickable((By.ID,\"btnGo\")))\n",
    "            time.sleep(20)\n",
    "            go_button.click()\n",
    "            \n",
    "\n",
    "\n",
    "            element.until(EC.presence_of_element_located((By.ID, \"cphBody_ButtonExcel\")))\n",
    "            to_Excel = link_driver.find_element(By.XPATH , \"//*[@id='cphBody_ButtonExcel']\")\n",
    "            to_Excel.click()\n",
    "            time.sleep(20)\n",
    "\n",
    "            state_index = link_driver.find_element(By.XPATH , \"//*[@id='ddlState']\").get_attribute(name='value')\n",
    "            commodity_index = link_driver.find_element(By.ID , 'ddlCommodity').get_attribute(name='value')\n",
    "\n",
    "            old_name =  old_path + 'Agmarknet_Price_Report.xls'\n",
    "            new_name_1 = new_path_1 + '{}-{}.xls'.format(commodity_index,state_index)\n",
    "            new_name_2 = new_path_2 + '{}_{}.html'.format(commodity_index,state_index)\n",
    "\n",
    "\n",
    "\n",
    "            if 'Agmarknet_Price_Report.xls' in os.listdir(old_path) :\n",
    "                shutil.copy(old_name, new_name_1)\n",
    "                os.rename(old_name, new_name_2)\n",
    "                \n",
    "            \n",
    "            \n",
    "        finally :\n",
    "            print('done')\n",
    "\n",
    "                \n",
    "            "
   ]
  },
  {
   "cell_type": "code",
   "execution_count": 30,
   "id": "91d68b8d",
   "metadata": {},
   "outputs": [],
   "source": [
    "link_driver.close()"
   ]
  },
  {
   "cell_type": "code",
   "execution_count": null,
   "id": "3adc5161",
   "metadata": {},
   "outputs": [],
   "source": []
  }
 ],
 "metadata": {
  "kernelspec": {
   "display_name": "Python 3 (ipykernel)",
   "language": "python",
   "name": "python3"
  },
  "language_info": {
   "codemirror_mode": {
    "name": "ipython",
    "version": 3
   },
   "file_extension": ".py",
   "mimetype": "text/x-python",
   "name": "python",
   "nbconvert_exporter": "python",
   "pygments_lexer": "ipython3",
   "version": "3.9.12"
  }
 },
 "nbformat": 4,
 "nbformat_minor": 5
}
