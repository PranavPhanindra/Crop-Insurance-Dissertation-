{
 "cells": [
  {
   "cell_type": "code",
   "execution_count": 30,
   "id": "84fd7fd1",
   "metadata": {},
   "outputs": [],
   "source": [
    "from selenium import webdriver\n",
    "from selenium.webdriver.common.by import By\n",
    "from selenium.webdriver.support.ui import WebDriverWait\n",
    "from selenium.webdriver.support.ui import Select\n",
    "from selenium.webdriver.common.keys import Keys\n",
    "from selenium.webdriver.support import expected_conditions as EC\n",
    "from selenium.webdriver.firefox.options import Options\n",
    "from selenium.common.exceptions import StaleElementReferenceException\n",
    "from selenium.common.exceptions import NoSuchElementException\n",
    "from selenium.webdriver.common.action_chains import ActionChains\n",
    "\n",
    "#from selenium.webdriver.common.action_chains import ActionChains"
   ]
  },
  {
   "cell_type": "code",
   "execution_count": 31,
   "id": "59e87e6e",
   "metadata": {},
   "outputs": [],
   "source": [
    "!export PATH=$PATH:/home/dmacs/Documents/Dissertation_Codes/Data_Acquisition/geckodriverlinux64/geckodriver"
   ]
  },
  {
   "cell_type": "code",
   "execution_count": 32,
   "id": "f7997598",
   "metadata": {},
   "outputs": [],
   "source": [
    "import warnings\n",
    "warnings.filterwarnings(\"ignore\", category=DeprecationWarning)\n",
    "\n",
    "#Accepting SSL certificates\n",
    "capabilities = webdriver.DesiredCapabilities().FIREFOX\n",
    "capabilities['acceptSslCerts'] = True\n",
    "\n",
    "#Open driver without opening window\n",
    "options = Options()\n",
    "options.add_argument('--headless')\n",
    "\n",
    "#firefox_profile = profile"
   ]
  },
  {
   "cell_type": "code",
   "execution_count": 33,
   "id": "21c8a488",
   "metadata": {},
   "outputs": [],
   "source": [
    "link = \"https://www.google.com/\"\n",
    "link_driver = webdriver.Firefox(capabilities=capabilities)\n",
    "link_driver.get(link)\n",
    "\n",
    "\n",
    "#link_driver.find_element(By.CSS_SELECTOR,'body').send_keys(Keys.CONTROL + '\\t')"
   ]
  },
  {
   "cell_type": "code",
   "execution_count": 41,
   "id": "85814247",
   "metadata": {},
   "outputs": [],
   "source": [
    "link_driver.execute_script(\"window.open('');\")\n",
    "\n",
    "link_driver.switch_to.window(link_driver.window_handles[1])\n",
    "link_driver.get(\"https://www.linkedin.com/\")"
   ]
  },
  {
   "cell_type": "code",
   "execution_count": 39,
   "id": "04afd01a",
   "metadata": {},
   "outputs": [
    {
     "data": {
      "text/plain": [
       "'action = ActionChains(link_driver)\\naction.key_down(Keys.CONTROL).click(new).key_up(Keys.CONTROL).perform() '"
      ]
     },
     "execution_count": 39,
     "metadata": {},
     "output_type": "execute_result"
    }
   ],
   "source": [
    "\"\"\"action = ActionChains(link_driver)\n",
    "action.key_down(Keys.CONTROL).click(new).key_up(Keys.CONTROL).perform() \"\"\""
   ]
  },
  {
   "cell_type": "code",
   "execution_count": 42,
   "id": "a904a462",
   "metadata": {},
   "outputs": [],
   "source": [
    "link_driver.quit()"
   ]
  },
  {
   "cell_type": "code",
   "execution_count": null,
   "id": "75d09558",
   "metadata": {},
   "outputs": [],
   "source": []
  }
 ],
 "metadata": {
  "kernelspec": {
   "display_name": "Python 3 (ipykernel)",
   "language": "python",
   "name": "python3"
  },
  "language_info": {
   "codemirror_mode": {
    "name": "ipython",
    "version": 3
   },
   "file_extension": ".py",
   "mimetype": "text/x-python",
   "name": "python",
   "nbconvert_exporter": "python",
   "pygments_lexer": "ipython3",
   "version": "3.9.12"
  },
  "vscode": {
   "interpreter": {
    "hash": "916dbcbb3f70747c44a77c7bcd40155683ae19c65e1c03b4aa3499c5328201f1"
   }
  }
 },
 "nbformat": 4,
 "nbformat_minor": 5
}
