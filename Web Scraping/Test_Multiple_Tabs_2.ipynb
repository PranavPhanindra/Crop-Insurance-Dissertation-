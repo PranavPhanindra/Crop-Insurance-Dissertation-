{
 "cells": [
  {
   "cell_type": "code",
   "execution_count": 14,
   "metadata": {},
   "outputs": [],
   "source": [
    "from selenium import webdriver\n",
    "from selenium.webdriver.common.by import By\n",
    "from selenium.webdriver.support.ui import WebDriverWait\n",
    "from selenium.webdriver.support.ui import Select\n",
    "from selenium.webdriver.common.keys import Keys\n",
    "from selenium.webdriver.support import expected_conditions as EC\n",
    "from selenium.webdriver.firefox.options import Options\n",
    "from selenium.common.exceptions import StaleElementReferenceException\n",
    "from selenium.common.exceptions import NoSuchElementException\n",
    "from selenium.webdriver.common.action_chains import ActionChains\n",
    "\n",
    "\n",
    "import openpyxl\n",
    "import os\n",
    "from bs4 import BeautifulSoup as soup\n",
    "import pandas as pd\n",
    "import time\n",
    "import shutil"
   ]
  },
  {
   "cell_type": "code",
   "execution_count": 2,
   "metadata": {},
   "outputs": [],
   "source": [
    "!export PATH=$PATH:/home/dmacs/Documents/Dissertation_Codes/Data_Acquisition/geckodriverlinux64/geckodriver"
   ]
  },
  {
   "cell_type": "code",
   "execution_count": 3,
   "metadata": {},
   "outputs": [],
   "source": [
    "import warnings\n",
    "warnings.filterwarnings(\"ignore\", category=DeprecationWarning)\n",
    "\n",
    "#Accepting SSL certificates\n",
    "capabilities = webdriver.DesiredCapabilities().FIREFOX\n",
    "capabilities['acceptSslCerts'] = True\n",
    "\n",
    "#Open driver without opening window\n",
    "options = Options()\n",
    "options.add_argument('--headless')"
   ]
  },
  {
   "cell_type": "code",
   "execution_count": 4,
   "metadata": {},
   "outputs": [],
   "source": [
    "old_path = '/home/dmacs/Documents/Pranav Phanindra/Data_Scraping_Final/Data_Part_2/Data_excel_2/'\n",
    "new_path_1 = '/home/dmacs/Documents/Pranav Phanindra/Data_Scraping_Final/Data_Part_2/Data_excel_2/'\n",
    "new_path_2 = '/home/dmacs/Documents/Pranav Phanindra/Data_Scraping_Final/Data_Part_2/Data_html_2/'\n"
   ]
  },
  {
   "cell_type": "code",
   "execution_count": 39,
   "metadata": {},
   "outputs": [],
   "source": [
    "#Setting preferences to download directory\n",
    "profile = webdriver.FirefoxProfile()\n",
    "profile.set_preference(\"browser.tabs.remote.autostart\", False)\n",
    "profile.set_preference(\"browser.tabs.remote.autostart.1\", False)\n",
    "profile.set_preference(\"browser.tabs.remote.autostart.2\", False)\n",
    "profile.set_preference('browser.download.folderList',2)\n",
    "profile.set_preference('browser.download.manager.showWhenStarting',False)\n",
    "profile.set_preference('browser.download.dir',\n",
    "                           '/home/dmacs/Documents/Pranav Phanindra/Data_Scraping_Final/Data_Part_2/Data_excel_2/')\n",
    "profile.set_preference('browser.helperApps.neverAsk.saveTODisk','application/x-gzip')\n",
    "\n",
    "\n",
    "\n",
    "link = 'https://agmarknet.gov.in/SearchCmmMkt.aspx?Tx_Commodity=29&Tx_State=CG&Tx_District=0&Tx_Market=0&DateFrom=01-Apr-2008&DateTo=30-Apr-2019&Fr_Date=01-Apr-2008&To_Date=30-Apr-2019&Tx_Trend=0&Tx_CommodityHead=Barley+(Jau)&Tx_StateHead=Chattisgarh&Tx_DistrictHead=--Select--&Tx_MarketHead=--Select-- '\n",
    "link_driver = webdriver.Firefox(capabilities=capabilities,firefox_profile = profile)\n",
    "link_driver.get(link)\n",
    "\n"
   ]
  },
  {
   "cell_type": "code",
   "execution_count": 6,
   "metadata": {},
   "outputs": [],
   "source": [
    "state = Select(link_driver.find_element(By.ID , \"ddlState\"))\n",
    "state_options = state.options\n",
    "#print(state_options)\n",
    "\n",
    "\n",
    "commodity = Select(link_driver.find_element(By.ID , \"ddlCommodity\"))\n",
    "commodity_options = commodity.options\n",
    "#print(commodity_options)\n",
    "\n",
    "\n",
    "exceptions = (StaleElementReferenceException,NoSuchElementException)"
   ]
  },
  {
   "cell_type": "code",
   "execution_count": 7,
   "metadata": {},
   "outputs": [],
   "source": [
    "commodities = ['Maize','Barley (Jau)','Wheat','Bengal Gram(Gram)(Whole)',\n",
    "               'Bengal Gram Dal (Chana Dal)','Soyabean','Mustard']"
   ]
  },
  {
   "cell_type": "code",
   "execution_count": 40,
   "metadata": {},
   "outputs": [],
   "source": [
    "for i in range(len(commodities)) :\n",
    "    link_driver.execute_script(\"window.open('');\")\n",
    "    time.sleep(2)\n",
    "    link_driver.get(link)\n",
    "    link_driver.switch_to.window(link_driver.window_handles[i])\n"
   ]
  },
  {
   "cell_type": "code",
   "execution_count": 41,
   "metadata": {},
   "outputs": [],
   "source": [
    "link_driver.quit()"
   ]
  },
  {
   "cell_type": "code",
   "execution_count": null,
   "metadata": {},
   "outputs": [],
   "source": []
  }
 ],
 "metadata": {
  "kernelspec": {
   "display_name": "Python 3 (ipykernel)",
   "language": "python",
   "name": "python3"
  },
  "language_info": {
   "codemirror_mode": {
    "name": "ipython",
    "version": 3
   },
   "file_extension": ".py",
   "mimetype": "text/x-python",
   "name": "python",
   "nbconvert_exporter": "python",
   "pygments_lexer": "ipython3",
   "version": "3.9.12"
  },
  "vscode": {
   "interpreter": {
    "hash": "916dbcbb3f70747c44a77c7bcd40155683ae19c65e1c03b4aa3499c5328201f1"
   }
  }
 },
 "nbformat": 4,
 "nbformat_minor": 2
}
